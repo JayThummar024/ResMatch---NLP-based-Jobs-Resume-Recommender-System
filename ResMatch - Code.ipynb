{
 "cells": [
  {
   "cell_type": "code",
   "execution_count": 112,
   "id": "1418afc5",
   "metadata": {
    "scrolled": true
   },
   "outputs": [],
   "source": [
    "import pandas as pd\n",
    "import numpy as np\n",
    "import matplotlib.pyplot as plt"
   ]
  },
  {
   "cell_type": "code",
   "execution_count": 2,
   "id": "10fcce6d",
   "metadata": {
    "scrolled": true
   },
   "outputs": [
    {
     "data": {
      "text/html": [
       "<div>\n",
       "<style scoped>\n",
       "    .dataframe tbody tr th:only-of-type {\n",
       "        vertical-align: middle;\n",
       "    }\n",
       "\n",
       "    .dataframe tbody tr th {\n",
       "        vertical-align: top;\n",
       "    }\n",
       "\n",
       "    .dataframe thead th {\n",
       "        text-align: right;\n",
       "    }\n",
       "</style>\n",
       "<table border=\"1\" class=\"dataframe\">\n",
       "  <thead>\n",
       "    <tr style=\"text-align: right;\">\n",
       "      <th></th>\n",
       "      <th>job_post</th>\n",
       "      <th>company</th>\n",
       "      <th>company_rating</th>\n",
       "      <th>company_review</th>\n",
       "      <th>exp_required</th>\n",
       "      <th>salary_offered</th>\n",
       "      <th>job_location</th>\n",
       "      <th>job_description</th>\n",
       "      <th>required_skills</th>\n",
       "      <th>Posted_as_on_22_5_2022</th>\n",
       "    </tr>\n",
       "  </thead>\n",
       "  <tbody>\n",
       "    <tr>\n",
       "      <th>0</th>\n",
       "      <td>Information Technology Executive</td>\n",
       "      <td>Marriott</td>\n",
       "      <td>4.2</td>\n",
       "      <td>(2907 Reviews)</td>\n",
       "      <td>0-3 Yrs</td>\n",
       "      <td>Not disclosed</td>\n",
       "      <td>Bhopal</td>\n",
       "      <td>POSITION SUMMARY Troubleshoot and resolve tech...</td>\n",
       "      <td>Supervisor\\nAdministration\\nTactical planning\\...</td>\n",
       "      <td>5 DAYS AGO</td>\n",
       "    </tr>\n",
       "    <tr>\n",
       "      <th>1</th>\n",
       "      <td>Associate Director-Information Technology(SAP)</td>\n",
       "      <td>Unacademy</td>\n",
       "      <td>3.4</td>\n",
       "      <td>(544 Reviews)</td>\n",
       "      <td>5-15 Yrs</td>\n",
       "      <td>Not disclosed</td>\n",
       "      <td>Noida, Greater Noida</td>\n",
       "      <td>Support / manage timely delivery of custom dev...</td>\n",
       "      <td>Relationship management\\nSAP MM\\nPharma\\nAnaly...</td>\n",
       "      <td>3 DAYS AGO</td>\n",
       "    </tr>\n",
       "    <tr>\n",
       "      <th>2</th>\n",
       "      <td>Lead - Information Technology</td>\n",
       "      <td>EchoIndia</td>\n",
       "      <td>4.0</td>\n",
       "      <td>(20 Reviews)</td>\n",
       "      <td>11-13 Yrs</td>\n",
       "      <td>Not disclosed</td>\n",
       "      <td>Delhi / NCR</td>\n",
       "      <td>Experience in designing modern REST APIs that ...</td>\n",
       "      <td>Spring\\nDocker\\nSystem Design\\nPaaS\\nMicroserv...</td>\n",
       "      <td>1 DAY AGO</td>\n",
       "    </tr>\n",
       "  </tbody>\n",
       "</table>\n",
       "</div>"
      ],
      "text/plain": [
       "                                         job_post    company  company_rating  \\\n",
       "0                Information Technology Executive   Marriott             4.2   \n",
       "1  Associate Director-Information Technology(SAP)  Unacademy             3.4   \n",
       "2                   Lead - Information Technology  EchoIndia             4.0   \n",
       "\n",
       "   company_review exp_required salary_offered          job_location  \\\n",
       "0  (2907 Reviews)      0-3 Yrs  Not disclosed                Bhopal   \n",
       "1   (544 Reviews)     5-15 Yrs  Not disclosed  Noida, Greater Noida   \n",
       "2    (20 Reviews)    11-13 Yrs  Not disclosed           Delhi / NCR   \n",
       "\n",
       "                                     job_description  \\\n",
       "0  POSITION SUMMARY Troubleshoot and resolve tech...   \n",
       "1  Support / manage timely delivery of custom dev...   \n",
       "2  Experience in designing modern REST APIs that ...   \n",
       "\n",
       "                                     required_skills Posted_as_on_22_5_2022  \n",
       "0  Supervisor\\nAdministration\\nTactical planning\\...             5 DAYS AGO  \n",
       "1  Relationship management\\nSAP MM\\nPharma\\nAnaly...             3 DAYS AGO  \n",
       "2  Spring\\nDocker\\nSystem Design\\nPaaS\\nMicroserv...              1 DAY AGO  "
      ]
     },
     "execution_count": 2,
     "metadata": {},
     "output_type": "execute_result"
    }
   ],
   "source": [
    "naukri_jobs_df = pd.read_csv('naukri_jobs_data.csv')\n",
    "naukri_jobs_df.head(3)"
   ]
  },
  {
   "cell_type": "code",
   "execution_count": 3,
   "id": "87c00068",
   "metadata": {
    "scrolled": true
   },
   "outputs": [
    {
     "name": "stdout",
     "output_type": "stream",
     "text": [
      "<class 'pandas.core.frame.DataFrame'>\n",
      "RangeIndex: 32738 entries, 0 to 32737\n",
      "Data columns (total 10 columns):\n",
      " #   Column                  Non-Null Count  Dtype  \n",
      "---  ------                  --------------  -----  \n",
      " 0   job_post                32738 non-null  object \n",
      " 1   company                 32738 non-null  object \n",
      " 2   company_rating          32738 non-null  float64\n",
      " 3   company_review          32738 non-null  object \n",
      " 4   exp_required            32738 non-null  object \n",
      " 5   salary_offered          32738 non-null  object \n",
      " 6   job_location            32738 non-null  object \n",
      " 7   job_description         32738 non-null  object \n",
      " 8   required_skills         32732 non-null  object \n",
      " 9   Posted_as_on_22_5_2022  32552 non-null  object \n",
      "dtypes: float64(1), object(9)\n",
      "memory usage: 2.5+ MB\n"
     ]
    }
   ],
   "source": [
    "naukri_jobs_df.info()"
   ]
  },
  {
   "cell_type": "code",
   "execution_count": 4,
   "id": "15c053e4",
   "metadata": {
    "scrolled": true
   },
   "outputs": [
    {
     "data": {
      "text/plain": [
       "array(['Marriott', 'Unacademy', 'EchoIndia', ...,\n",
       "       'Curatio Healthcare (I) Pvt. Lt', 'Tentacle solutions',\n",
       "       'Muthoot Finance'], dtype=object)"
      ]
     },
     "execution_count": 4,
     "metadata": {},
     "output_type": "execute_result"
    }
   ],
   "source": [
    "companies = naukri_jobs_df.company.unique()\n",
    "companies"
   ]
  },
  {
   "cell_type": "code",
   "execution_count": 5,
   "id": "641c8361",
   "metadata": {
    "scrolled": true
   },
   "outputs": [
    {
     "data": {
      "text/plain": [
       "0        POSITION SUMMARY Troubleshoot and resolve tech...\n",
       "1        Support / manage timely delivery of custom dev...\n",
       "2        Experience in designing modern REST APIs that ...\n",
       "3        Should be able to manage a project using vario...\n",
       "4        The resource will be expected to cross skill\\t...\n",
       "                               ...                        \n",
       "32733    JD : Tibco Spotfire or, Tableau Reporting Deve...\n",
       "32734    SAP BI/BW DeveloperKey SkillsSAP BW 7.5 on HAN...\n",
       "32735    Experience in performing project management fu...\n",
       "32736    Qualifications: BTech, Any Graduation Skill re...\n",
       "32737    Experience in performing project management fu...\n",
       "Name: job_description, Length: 32738, dtype: object"
      ]
     },
     "execution_count": 5,
     "metadata": {},
     "output_type": "execute_result"
    }
   ],
   "source": [
    "naukri_jobs_df['job_description']"
   ]
  },
  {
   "cell_type": "code",
   "execution_count": 6,
   "id": "ffd1f06c",
   "metadata": {
    "scrolled": true
   },
   "outputs": [
    {
     "data": {
      "text/html": [
       "<div>\n",
       "<style scoped>\n",
       "    .dataframe tbody tr th:only-of-type {\n",
       "        vertical-align: middle;\n",
       "    }\n",
       "\n",
       "    .dataframe tbody tr th {\n",
       "        vertical-align: top;\n",
       "    }\n",
       "\n",
       "    .dataframe thead th {\n",
       "        text-align: right;\n",
       "    }\n",
       "</style>\n",
       "<table border=\"1\" class=\"dataframe\">\n",
       "  <thead>\n",
       "    <tr style=\"text-align: right;\">\n",
       "      <th></th>\n",
       "      <th>Text</th>\n",
       "      <th>Skills</th>\n",
       "      <th>Education</th>\n",
       "      <th>Experience</th>\n",
       "      <th>Additional_Information</th>\n",
       "      <th>Software_Developer</th>\n",
       "      <th>Front_End_Developer</th>\n",
       "      <th>Network_Administrator</th>\n",
       "      <th>Web_Developer</th>\n",
       "      <th>Project_manager</th>\n",
       "      <th>Database_Administrator</th>\n",
       "      <th>Security_Analyst</th>\n",
       "      <th>Systems_Administrator</th>\n",
       "      <th>Python_Developer</th>\n",
       "      <th>Java_Developer</th>\n",
       "      <th>Labels</th>\n",
       "    </tr>\n",
       "  </thead>\n",
       "  <tbody>\n",
       "    <tr>\n",
       "      <th>0</th>\n",
       "      <td>Inova IT Helpdesk Technician Inova IT Helpdesk...</td>\n",
       "      <td>Training Networking (6 years) VOIP (3 years)  ...</td>\n",
       "      <td>NaN</td>\n",
       "      <td>Inova IT Helpdesk Technician Inova Healthcare ...</td>\n",
       "      <td>CORE COMPETENCIES Tactical Data Network  Perso...</td>\n",
       "      <td>0</td>\n",
       "      <td>0</td>\n",
       "      <td>1</td>\n",
       "      <td>0</td>\n",
       "      <td>0</td>\n",
       "      <td>0</td>\n",
       "      <td>1</td>\n",
       "      <td>0</td>\n",
       "      <td>0</td>\n",
       "      <td>0</td>\n",
       "      <td>[2, 6]</td>\n",
       "    </tr>\n",
       "    <tr>\n",
       "      <th>1</th>\n",
       "      <td>ServiceNow Administrator/ BA ServiceNow Admini...</td>\n",
       "      <td>NC SQL (6 years) Pharmaceutical Product Devel...</td>\n",
       "      <td>Masters in Computer Science Towson University ...</td>\n",
       "      <td>ServiceNow Administrator/ BA Sabre - Southlake...</td>\n",
       "      <td>Technical Skill Set  ITSM Tools ServiceNow Ber...</td>\n",
       "      <td>1</td>\n",
       "      <td>0</td>\n",
       "      <td>0</td>\n",
       "      <td>0</td>\n",
       "      <td>0</td>\n",
       "      <td>0</td>\n",
       "      <td>0</td>\n",
       "      <td>0</td>\n",
       "      <td>1</td>\n",
       "      <td>0</td>\n",
       "      <td>[8, 0]</td>\n",
       "    </tr>\n",
       "    <tr>\n",
       "      <th>2</th>\n",
       "      <td>Oracle Database Administrator Oracle Database ...</td>\n",
       "      <td>databases (4 years) security (4 years) Oracle ...</td>\n",
       "      <td>Certification C.T.S.</td>\n",
       "      <td>Oracle Database Administrator TechWaze Solutio...</td>\n",
       "      <td>Technical Skills  Provided 24x7 production sup...</td>\n",
       "      <td>0</td>\n",
       "      <td>0</td>\n",
       "      <td>0</td>\n",
       "      <td>0</td>\n",
       "      <td>0</td>\n",
       "      <td>1</td>\n",
       "      <td>0</td>\n",
       "      <td>0</td>\n",
       "      <td>0</td>\n",
       "      <td>0</td>\n",
       "      <td>[5]</td>\n",
       "    </tr>\n",
       "    <tr>\n",
       "      <th>3</th>\n",
       "      <td>Information Security Analyst Contractor Inform...</td>\n",
       "      <td>Penetration Testing (8 years) Linux (8 years) ...</td>\n",
       "      <td>Bachelors in Computer Science University of No...</td>\n",
       "      <td>Information Security Analyst Contractor McKess...</td>\n",
       "      <td>Skills and Interests  Fully Functional Java C ...</td>\n",
       "      <td>1</td>\n",
       "      <td>0</td>\n",
       "      <td>0</td>\n",
       "      <td>0</td>\n",
       "      <td>1</td>\n",
       "      <td>0</td>\n",
       "      <td>1</td>\n",
       "      <td>1</td>\n",
       "      <td>0</td>\n",
       "      <td>0</td>\n",
       "      <td>[4, 7, 6, 0]</td>\n",
       "    </tr>\n",
       "    <tr>\n",
       "      <th>4</th>\n",
       "      <td>Software Developer Software Developer Software...</td>\n",
       "      <td>C/c++ Objective c Html Git Database Visual stu...</td>\n",
       "      <td>Master of Science in Computer Science New York...</td>\n",
       "      <td>Software Developer LuxCom Inc - New York NY Ap...</td>\n",
       "      <td>Technical Skills Frameworks and Tools ASP.NET ...</td>\n",
       "      <td>1</td>\n",
       "      <td>0</td>\n",
       "      <td>0</td>\n",
       "      <td>0</td>\n",
       "      <td>0</td>\n",
       "      <td>0</td>\n",
       "      <td>0</td>\n",
       "      <td>0</td>\n",
       "      <td>1</td>\n",
       "      <td>0</td>\n",
       "      <td>[8, 0]</td>\n",
       "    </tr>\n",
       "  </tbody>\n",
       "</table>\n",
       "</div>"
      ],
      "text/plain": [
       "                                                Text  \\\n",
       "0  Inova IT Helpdesk Technician Inova IT Helpdesk...   \n",
       "1  ServiceNow Administrator/ BA ServiceNow Admini...   \n",
       "2  Oracle Database Administrator Oracle Database ...   \n",
       "3  Information Security Analyst Contractor Inform...   \n",
       "4  Software Developer Software Developer Software...   \n",
       "\n",
       "                                              Skills  \\\n",
       "0  Training Networking (6 years) VOIP (3 years)  ...   \n",
       "1   NC SQL (6 years) Pharmaceutical Product Devel...   \n",
       "2  databases (4 years) security (4 years) Oracle ...   \n",
       "3  Penetration Testing (8 years) Linux (8 years) ...   \n",
       "4  C/c++ Objective c Html Git Database Visual stu...   \n",
       "\n",
       "                                           Education  \\\n",
       "0                                                NaN   \n",
       "1  Masters in Computer Science Towson University ...   \n",
       "2                               Certification C.T.S.   \n",
       "3  Bachelors in Computer Science University of No...   \n",
       "4  Master of Science in Computer Science New York...   \n",
       "\n",
       "                                          Experience  \\\n",
       "0  Inova IT Helpdesk Technician Inova Healthcare ...   \n",
       "1  ServiceNow Administrator/ BA Sabre - Southlake...   \n",
       "2  Oracle Database Administrator TechWaze Solutio...   \n",
       "3  Information Security Analyst Contractor McKess...   \n",
       "4  Software Developer LuxCom Inc - New York NY Ap...   \n",
       "\n",
       "                              Additional_Information  Software_Developer  \\\n",
       "0  CORE COMPETENCIES Tactical Data Network  Perso...                   0   \n",
       "1  Technical Skill Set  ITSM Tools ServiceNow Ber...                   1   \n",
       "2  Technical Skills  Provided 24x7 production sup...                   0   \n",
       "3  Skills and Interests  Fully Functional Java C ...                   1   \n",
       "4  Technical Skills Frameworks and Tools ASP.NET ...                   1   \n",
       "\n",
       "   Front_End_Developer  Network_Administrator  Web_Developer  Project_manager  \\\n",
       "0                    0                      1              0                0   \n",
       "1                    0                      0              0                0   \n",
       "2                    0                      0              0                0   \n",
       "3                    0                      0              0                1   \n",
       "4                    0                      0              0                0   \n",
       "\n",
       "   Database_Administrator  Security_Analyst  Systems_Administrator  \\\n",
       "0                       0                 1                      0   \n",
       "1                       0                 0                      0   \n",
       "2                       1                 0                      0   \n",
       "3                       0                 1                      1   \n",
       "4                       0                 0                      0   \n",
       "\n",
       "   Python_Developer  Java_Developer        Labels  \n",
       "0                 0               0        [2, 6]  \n",
       "1                 1               0        [8, 0]  \n",
       "2                 0               0           [5]  \n",
       "3                 0               0  [4, 7, 6, 0]  \n",
       "4                 1               0        [8, 0]  "
      ]
     },
     "execution_count": 6,
     "metadata": {},
     "output_type": "execute_result"
    }
   ],
   "source": [
    "resume_df = pd.read_csv('resumes/dataset_entities.csv')\n",
    "resume_df.head()"
   ]
  },
  {
   "cell_type": "code",
   "execution_count": 7,
   "id": "f2911c18",
   "metadata": {
    "scrolled": true
   },
   "outputs": [
    {
     "name": "stdout",
     "output_type": "stream",
     "text": [
      "<class 'pandas.core.frame.DataFrame'>\n",
      "RangeIndex: 29780 entries, 0 to 29779\n",
      "Data columns (total 16 columns):\n",
      " #   Column                  Non-Null Count  Dtype \n",
      "---  ------                  --------------  ----- \n",
      " 0   Text                    29780 non-null  object\n",
      " 1   Skills                  25482 non-null  object\n",
      " 2   Education               27720 non-null  object\n",
      " 3   Experience              29778 non-null  object\n",
      " 4   Additional_Information  15846 non-null  object\n",
      " 5   Software_Developer      29780 non-null  int64 \n",
      " 6   Front_End_Developer     29780 non-null  int64 \n",
      " 7   Network_Administrator   29780 non-null  int64 \n",
      " 8   Web_Developer           29780 non-null  int64 \n",
      " 9   Project_manager         29780 non-null  int64 \n",
      " 10  Database_Administrator  29780 non-null  int64 \n",
      " 11  Security_Analyst        29780 non-null  int64 \n",
      " 12  Systems_Administrator   29780 non-null  int64 \n",
      " 13  Python_Developer        29780 non-null  int64 \n",
      " 14  Java_Developer          29780 non-null  int64 \n",
      " 15  Labels                  29780 non-null  object\n",
      "dtypes: int64(10), object(6)\n",
      "memory usage: 3.6+ MB\n"
     ]
    }
   ],
   "source": [
    "resume_df.info()"
   ]
  },
  {
   "cell_type": "code",
   "execution_count": 8,
   "id": "435c4c9f",
   "metadata": {
    "scrolled": true
   },
   "outputs": [],
   "source": [
    "job_profiles = naukri_jobs_df\n",
    "candidates = resume_df"
   ]
  },
  {
   "cell_type": "code",
   "execution_count": 9,
   "id": "818dc314",
   "metadata": {},
   "outputs": [],
   "source": [
    "job_profiles['job_id'] = job_profiles.index\n",
    "candidates['resume_id'] = candidates.index"
   ]
  },
  {
   "cell_type": "code",
   "execution_count": 10,
   "id": "f19a4e47",
   "metadata": {
    "scrolled": true
   },
   "outputs": [
    {
     "data": {
      "text/html": [
       "<div>\n",
       "<style scoped>\n",
       "    .dataframe tbody tr th:only-of-type {\n",
       "        vertical-align: middle;\n",
       "    }\n",
       "\n",
       "    .dataframe tbody tr th {\n",
       "        vertical-align: top;\n",
       "    }\n",
       "\n",
       "    .dataframe thead th {\n",
       "        text-align: right;\n",
       "    }\n",
       "</style>\n",
       "<table border=\"1\" class=\"dataframe\">\n",
       "  <thead>\n",
       "    <tr style=\"text-align: right;\">\n",
       "      <th></th>\n",
       "      <th>job_id</th>\n",
       "      <th>job_post</th>\n",
       "      <th>company</th>\n",
       "      <th>exp_required</th>\n",
       "      <th>job_description</th>\n",
       "      <th>required_skills</th>\n",
       "    </tr>\n",
       "  </thead>\n",
       "  <tbody>\n",
       "    <tr>\n",
       "      <th>0</th>\n",
       "      <td>0</td>\n",
       "      <td>Information Technology Executive</td>\n",
       "      <td>Marriott</td>\n",
       "      <td>0-3 Yrs</td>\n",
       "      <td>POSITION SUMMARY Troubleshoot and resolve tech...</td>\n",
       "      <td>Supervisor\\nAdministration\\nTactical planning\\...</td>\n",
       "    </tr>\n",
       "    <tr>\n",
       "      <th>1</th>\n",
       "      <td>1</td>\n",
       "      <td>Associate Director-Information Technology(SAP)</td>\n",
       "      <td>Unacademy</td>\n",
       "      <td>5-15 Yrs</td>\n",
       "      <td>Support / manage timely delivery of custom dev...</td>\n",
       "      <td>Relationship management\\nSAP MM\\nPharma\\nAnaly...</td>\n",
       "    </tr>\n",
       "    <tr>\n",
       "      <th>2</th>\n",
       "      <td>2</td>\n",
       "      <td>Lead - Information Technology</td>\n",
       "      <td>EchoIndia</td>\n",
       "      <td>11-13 Yrs</td>\n",
       "      <td>Experience in designing modern REST APIs that ...</td>\n",
       "      <td>Spring\\nDocker\\nSystem Design\\nPaaS\\nMicroserv...</td>\n",
       "    </tr>\n",
       "    <tr>\n",
       "      <th>3</th>\n",
       "      <td>3</td>\n",
       "      <td>Information Technology - Project Manager</td>\n",
       "      <td>Tata International</td>\n",
       "      <td>4-8 Yrs</td>\n",
       "      <td>Should be able to manage a project using vario...</td>\n",
       "      <td>project management\\nit projects\\ninformation t...</td>\n",
       "    </tr>\n",
       "    <tr>\n",
       "      <th>4</th>\n",
       "      <td>4</td>\n",
       "      <td>Information Technology Trainee</td>\n",
       "      <td>Stefanini</td>\n",
       "      <td>2-7 Yrs</td>\n",
       "      <td>The resource will be expected to cross skill\\t...</td>\n",
       "      <td>POP\\nTraining\\nBasic\\nNetworking\\nIntern\\nIT i...</td>\n",
       "    </tr>\n",
       "  </tbody>\n",
       "</table>\n",
       "</div>"
      ],
      "text/plain": [
       "   job_id                                        job_post             company  \\\n",
       "0       0                Information Technology Executive            Marriott   \n",
       "1       1  Associate Director-Information Technology(SAP)           Unacademy   \n",
       "2       2                   Lead - Information Technology           EchoIndia   \n",
       "3       3        Information Technology - Project Manager  Tata International   \n",
       "4       4                  Information Technology Trainee           Stefanini   \n",
       "\n",
       "  exp_required                                    job_description  \\\n",
       "0      0-3 Yrs  POSITION SUMMARY Troubleshoot and resolve tech...   \n",
       "1     5-15 Yrs  Support / manage timely delivery of custom dev...   \n",
       "2    11-13 Yrs  Experience in designing modern REST APIs that ...   \n",
       "3      4-8 Yrs  Should be able to manage a project using vario...   \n",
       "4      2-7 Yrs  The resource will be expected to cross skill\\t...   \n",
       "\n",
       "                                     required_skills  \n",
       "0  Supervisor\\nAdministration\\nTactical planning\\...  \n",
       "1  Relationship management\\nSAP MM\\nPharma\\nAnaly...  \n",
       "2  Spring\\nDocker\\nSystem Design\\nPaaS\\nMicroserv...  \n",
       "3  project management\\nit projects\\ninformation t...  \n",
       "4  POP\\nTraining\\nBasic\\nNetworking\\nIntern\\nIT i...  "
      ]
     },
     "execution_count": 10,
     "metadata": {},
     "output_type": "execute_result"
    }
   ],
   "source": [
    "#job_post\n",
    "#company\n",
    "#exp_required\n",
    "#job_description\n",
    "#required_skills\n",
    "\n",
    "jobs = job_profiles[['job_id','job_post','company','exp_required','job_description','required_skills']]\n",
    "jobs[:5]"
   ]
  },
  {
   "cell_type": "code",
   "execution_count": 11,
   "id": "8a06fc2a",
   "metadata": {
    "scrolled": true
   },
   "outputs": [
    {
     "data": {
      "text/plain": [
       "job_id             0\n",
       "job_post           0\n",
       "company            0\n",
       "exp_required       0\n",
       "job_description    0\n",
       "required_skills    6\n",
       "dtype: int64"
      ]
     },
     "execution_count": 11,
     "metadata": {},
     "output_type": "execute_result"
    }
   ],
   "source": [
    "jobs.isnull().sum()"
   ]
  },
  {
   "cell_type": "code",
   "execution_count": 12,
   "id": "fefc0803",
   "metadata": {
    "scrolled": true
   },
   "outputs": [
    {
     "name": "stderr",
     "output_type": "stream",
     "text": [
      "C:\\Users\\thumm\\AppData\\Local\\Temp\\ipykernel_21280\\3953985689.py:1: SettingWithCopyWarning: \n",
      "A value is trying to be set on a copy of a slice from a DataFrame\n",
      "\n",
      "See the caveats in the documentation: https://pandas.pydata.org/pandas-docs/stable/user_guide/indexing.html#returning-a-view-versus-a-copy\n",
      "  jobs.dropna(inplace=True)\n"
     ]
    }
   ],
   "source": [
    "jobs.dropna(inplace=True)"
   ]
  },
  {
   "cell_type": "code",
   "execution_count": 13,
   "id": "2d885a11",
   "metadata": {
    "scrolled": true
   },
   "outputs": [
    {
     "data": {
      "text/plain": [
       "job_id             0\n",
       "job_post           0\n",
       "company            0\n",
       "exp_required       0\n",
       "job_description    0\n",
       "required_skills    0\n",
       "dtype: int64"
      ]
     },
     "execution_count": 13,
     "metadata": {},
     "output_type": "execute_result"
    }
   ],
   "source": [
    "jobs.isnull().sum()"
   ]
  },
  {
   "cell_type": "code",
   "execution_count": 14,
   "id": "cd9b3a12",
   "metadata": {
    "scrolled": true
   },
   "outputs": [
    {
     "data": {
      "text/plain": [
       "0"
      ]
     },
     "execution_count": 14,
     "metadata": {},
     "output_type": "execute_result"
    }
   ],
   "source": [
    "jobs.duplicated().sum()"
   ]
  },
  {
   "cell_type": "code",
   "execution_count": 15,
   "id": "ab57ed0e",
   "metadata": {
    "scrolled": true
   },
   "outputs": [
    {
     "data": {
      "text/plain": [
       "(32732, 6)"
      ]
     },
     "execution_count": 15,
     "metadata": {},
     "output_type": "execute_result"
    }
   ],
   "source": [
    "jobs.shape"
   ]
  },
  {
   "cell_type": "markdown",
   "id": "fdb034ba",
   "metadata": {},
   "source": [
    "there are 32k rows and 6256 are duplicated, if we drop 6k then we will have about 26k rows which is still a large number, so we can drop duplicated rows"
   ]
  },
  {
   "cell_type": "code",
   "execution_count": 16,
   "id": "b8f94c71",
   "metadata": {
    "scrolled": true
   },
   "outputs": [
    {
     "name": "stderr",
     "output_type": "stream",
     "text": [
      "C:\\Users\\thumm\\AppData\\Local\\Temp\\ipykernel_21280\\1756680850.py:1: SettingWithCopyWarning: \n",
      "A value is trying to be set on a copy of a slice from a DataFrame\n",
      "\n",
      "See the caveats in the documentation: https://pandas.pydata.org/pandas-docs/stable/user_guide/indexing.html#returning-a-view-versus-a-copy\n",
      "  jobs.drop_duplicates(inplace=True)\n"
     ]
    }
   ],
   "source": [
    "jobs.drop_duplicates(inplace=True)"
   ]
  },
  {
   "cell_type": "code",
   "execution_count": 17,
   "id": "23af0e64",
   "metadata": {
    "scrolled": true
   },
   "outputs": [
    {
     "data": {
      "text/plain": [
       "0"
      ]
     },
     "execution_count": 17,
     "metadata": {},
     "output_type": "execute_result"
    }
   ],
   "source": [
    "jobs.duplicated().sum()"
   ]
  },
  {
   "cell_type": "code",
   "execution_count": 18,
   "id": "11d29c67",
   "metadata": {
    "scrolled": true
   },
   "outputs": [
    {
     "data": {
      "text/plain": [
       "(32732, 6)"
      ]
     },
     "execution_count": 18,
     "metadata": {},
     "output_type": "execute_result"
    }
   ],
   "source": [
    "jobs.shape"
   ]
  },
  {
   "cell_type": "code",
   "execution_count": 19,
   "id": "a29e4a25",
   "metadata": {},
   "outputs": [
    {
     "data": {
      "text/html": [
       "<div>\n",
       "<style scoped>\n",
       "    .dataframe tbody tr th:only-of-type {\n",
       "        vertical-align: middle;\n",
       "    }\n",
       "\n",
       "    .dataframe tbody tr th {\n",
       "        vertical-align: top;\n",
       "    }\n",
       "\n",
       "    .dataframe thead th {\n",
       "        text-align: right;\n",
       "    }\n",
       "</style>\n",
       "<table border=\"1\" class=\"dataframe\">\n",
       "  <thead>\n",
       "    <tr style=\"text-align: right;\">\n",
       "      <th></th>\n",
       "      <th>job_id</th>\n",
       "      <th>job_post</th>\n",
       "      <th>company</th>\n",
       "      <th>exp_required</th>\n",
       "      <th>job_description</th>\n",
       "      <th>required_skills</th>\n",
       "    </tr>\n",
       "  </thead>\n",
       "  <tbody>\n",
       "    <tr>\n",
       "      <th>0</th>\n",
       "      <td>0</td>\n",
       "      <td>Information Technology Executive</td>\n",
       "      <td>Marriott</td>\n",
       "      <td>0-3 Yrs</td>\n",
       "      <td>POSITION SUMMARY Troubleshoot and resolve tech...</td>\n",
       "      <td>Supervisor\\nAdministration\\nTactical planning\\...</td>\n",
       "    </tr>\n",
       "    <tr>\n",
       "      <th>1</th>\n",
       "      <td>1</td>\n",
       "      <td>Associate Director-Information Technology(SAP)</td>\n",
       "      <td>Unacademy</td>\n",
       "      <td>5-15 Yrs</td>\n",
       "      <td>Support / manage timely delivery of custom dev...</td>\n",
       "      <td>Relationship management\\nSAP MM\\nPharma\\nAnaly...</td>\n",
       "    </tr>\n",
       "    <tr>\n",
       "      <th>2</th>\n",
       "      <td>2</td>\n",
       "      <td>Lead - Information Technology</td>\n",
       "      <td>EchoIndia</td>\n",
       "      <td>11-13 Yrs</td>\n",
       "      <td>Experience in designing modern REST APIs that ...</td>\n",
       "      <td>Spring\\nDocker\\nSystem Design\\nPaaS\\nMicroserv...</td>\n",
       "    </tr>\n",
       "    <tr>\n",
       "      <th>3</th>\n",
       "      <td>3</td>\n",
       "      <td>Information Technology - Project Manager</td>\n",
       "      <td>Tata International</td>\n",
       "      <td>4-8 Yrs</td>\n",
       "      <td>Should be able to manage a project using vario...</td>\n",
       "      <td>project management\\nit projects\\ninformation t...</td>\n",
       "    </tr>\n",
       "    <tr>\n",
       "      <th>4</th>\n",
       "      <td>4</td>\n",
       "      <td>Information Technology Trainee</td>\n",
       "      <td>Stefanini</td>\n",
       "      <td>2-7 Yrs</td>\n",
       "      <td>The resource will be expected to cross skill\\t...</td>\n",
       "      <td>POP\\nTraining\\nBasic\\nNetworking\\nIntern\\nIT i...</td>\n",
       "    </tr>\n",
       "  </tbody>\n",
       "</table>\n",
       "</div>"
      ],
      "text/plain": [
       "   job_id                                        job_post             company  \\\n",
       "0       0                Information Technology Executive            Marriott   \n",
       "1       1  Associate Director-Information Technology(SAP)           Unacademy   \n",
       "2       2                   Lead - Information Technology           EchoIndia   \n",
       "3       3        Information Technology - Project Manager  Tata International   \n",
       "4       4                  Information Technology Trainee           Stefanini   \n",
       "\n",
       "  exp_required                                    job_description  \\\n",
       "0      0-3 Yrs  POSITION SUMMARY Troubleshoot and resolve tech...   \n",
       "1     5-15 Yrs  Support / manage timely delivery of custom dev...   \n",
       "2    11-13 Yrs  Experience in designing modern REST APIs that ...   \n",
       "3      4-8 Yrs  Should be able to manage a project using vario...   \n",
       "4      2-7 Yrs  The resource will be expected to cross skill\\t...   \n",
       "\n",
       "                                     required_skills  \n",
       "0  Supervisor\\nAdministration\\nTactical planning\\...  \n",
       "1  Relationship management\\nSAP MM\\nPharma\\nAnaly...  \n",
       "2  Spring\\nDocker\\nSystem Design\\nPaaS\\nMicroserv...  \n",
       "3  project management\\nit projects\\ninformation t...  \n",
       "4  POP\\nTraining\\nBasic\\nNetworking\\nIntern\\nIT i...  "
      ]
     },
     "execution_count": 19,
     "metadata": {},
     "output_type": "execute_result"
    }
   ],
   "source": [
    "jobs.head()"
   ]
  },
  {
   "cell_type": "code",
   "execution_count": 20,
   "id": "0e2b3305",
   "metadata": {},
   "outputs": [],
   "source": [
    "jobs.to_csv('jobs_ui.csv', index=False)"
   ]
  },
  {
   "cell_type": "code",
   "execution_count": 21,
   "id": "35f4675a",
   "metadata": {},
   "outputs": [],
   "source": [
    "import nltk\n",
    "from nltk.corpus import stopwords\n",
    "from nltk.stem import PorterStemmer, WordNetLemmatizer"
   ]
  },
  {
   "cell_type": "code",
   "execution_count": 22,
   "id": "f2922f2d",
   "metadata": {},
   "outputs": [
    {
     "name": "stderr",
     "output_type": "stream",
     "text": [
      "[nltk_data] Downloading package stopwords to\n",
      "[nltk_data]     C:\\Users\\thumm\\AppData\\Roaming\\nltk_data...\n",
      "[nltk_data]   Package stopwords is already up-to-date!\n",
      "[nltk_data] Downloading package wordnet to\n",
      "[nltk_data]     C:\\Users\\thumm\\AppData\\Roaming\\nltk_data...\n",
      "[nltk_data]   Package wordnet is already up-to-date!\n",
      "[nltk_data] Downloading package punkt to\n",
      "[nltk_data]     C:\\Users\\thumm\\AppData\\Roaming\\nltk_data...\n",
      "[nltk_data]   Package punkt is already up-to-date!\n"
     ]
    },
    {
     "data": {
      "text/plain": [
       "True"
      ]
     },
     "execution_count": 22,
     "metadata": {},
     "output_type": "execute_result"
    }
   ],
   "source": [
    "nltk.download('stopwords')\n",
    "nltk.download('wordnet')\n",
    "nltk.download('punkt')"
   ]
  },
  {
   "cell_type": "code",
   "execution_count": 23,
   "id": "4e9b9058",
   "metadata": {},
   "outputs": [],
   "source": [
    "# Initialize the stemmer, lemmatizer, and stopwords list\n",
    "stemmer = PorterStemmer()\n",
    "lemmatizer = WordNetLemmatizer()\n",
    "stop_words = set(stopwords.words('english'))"
   ]
  },
  {
   "cell_type": "code",
   "execution_count": 24,
   "id": "1d209c73",
   "metadata": {},
   "outputs": [],
   "source": [
    "def preprocessing_data(skill_string):\n",
    "    # Convert the string to lowercase and split by commas\n",
    "    words = skill_string.lower().split(',')\n",
    "    \n",
    "    # Initialize an empty list to hold processed words\n",
    "    processed_words = []\n",
    "    \n",
    "    for word in words:\n",
    "        word = word.strip()  # Remove leading/trailing spaces\n",
    "        tokens = nltk.word_tokenize(word)  # Tokenize the word\n",
    "        # Apply stemming, lemmatization, and stopword removal\n",
    "        processed_tokens = [\n",
    "            lemmatizer.lemmatize(stemmer.stem(token)) \n",
    "            for token in tokens \n",
    "            if token.isalpha() and token not in stop_words\n",
    "        ]\n",
    "        if processed_tokens:\n",
    "            processed_words.append(' '.join(processed_tokens))\n",
    "    \n",
    "    # Join the processed words back into a comma-separated string\n",
    "    return ', '.join(processed_words)\n"
   ]
  },
  {
   "cell_type": "code",
   "execution_count": 25,
   "id": "f511829c",
   "metadata": {},
   "outputs": [
    {
     "name": "stderr",
     "output_type": "stream",
     "text": [
      "C:\\Users\\thumm\\AppData\\Local\\Temp\\ipykernel_21280\\2153164843.py:1: SettingWithCopyWarning: \n",
      "A value is trying to be set on a copy of a slice from a DataFrame.\n",
      "Try using .loc[row_indexer,col_indexer] = value instead\n",
      "\n",
      "See the caveats in the documentation: https://pandas.pydata.org/pandas-docs/stable/user_guide/indexing.html#returning-a-view-versus-a-copy\n",
      "  jobs['required_skills'] = jobs['required_skills'].apply(preprocessing_data)\n",
      "C:\\Users\\thumm\\AppData\\Local\\Temp\\ipykernel_21280\\2153164843.py:2: SettingWithCopyWarning: \n",
      "A value is trying to be set on a copy of a slice from a DataFrame.\n",
      "Try using .loc[row_indexer,col_indexer] = value instead\n",
      "\n",
      "See the caveats in the documentation: https://pandas.pydata.org/pandas-docs/stable/user_guide/indexing.html#returning-a-view-versus-a-copy\n",
      "  jobs['job_description'] = jobs['job_description'].apply(preprocessing_data)\n"
     ]
    }
   ],
   "source": [
    "jobs['required_skills'] = jobs['required_skills'].apply(preprocessing_data)\n",
    "jobs['job_description'] = jobs['job_description'].apply(preprocessing_data)"
   ]
  },
  {
   "cell_type": "code",
   "execution_count": 26,
   "id": "6462ce2a",
   "metadata": {
    "scrolled": true
   },
   "outputs": [
    {
     "data": {
      "text/plain": [
       "'relationship manag sap mm pharma analyt ipr scm inform technolog analyt'"
      ]
     },
     "execution_count": 26,
     "metadata": {},
     "output_type": "execute_result"
    }
   ],
   "source": [
    "jobs.iloc[1].required_skills"
   ]
  },
  {
   "cell_type": "markdown",
   "id": "0ddd9987",
   "metadata": {},
   "source": [
    "we can see spaces between skills, so if we generate words it will generate 2 words as Relationship and Management, but we want our model to consider Relationship management as one skill, so we will remove space from all the skills"
   ]
  },
  {
   "cell_type": "code",
   "execution_count": 27,
   "id": "c1e7f789",
   "metadata": {
    "scrolled": true
   },
   "outputs": [],
   "source": [
    "def preprocess_skills(skills_string):\n",
    "    # Split the string by newline characters\n",
    "    skills_list = skills_string.split('\\n')\n",
    "    # Remove spaces within each skill\n",
    "    cleaned_skills = [skill.replace(\" \", \"\") for skill in skills_list]\n",
    "    return cleaned_skills"
   ]
  },
  {
   "cell_type": "code",
   "execution_count": 28,
   "id": "abd66940",
   "metadata": {
    "scrolled": true
   },
   "outputs": [
    {
     "name": "stderr",
     "output_type": "stream",
     "text": [
      "C:\\Users\\thumm\\AppData\\Local\\Temp\\ipykernel_21280\\3683828553.py:1: SettingWithCopyWarning: \n",
      "A value is trying to be set on a copy of a slice from a DataFrame.\n",
      "Try using .loc[row_indexer,col_indexer] = value instead\n",
      "\n",
      "See the caveats in the documentation: https://pandas.pydata.org/pandas-docs/stable/user_guide/indexing.html#returning-a-view-versus-a-copy\n",
      "  jobs['required_skills'] = jobs['required_skills'].apply(lambda x:x.split())\n"
     ]
    }
   ],
   "source": [
    "jobs['required_skills'] = jobs['required_skills'].apply(lambda x:x.split())"
   ]
  },
  {
   "cell_type": "code",
   "execution_count": 29,
   "id": "0265cadd",
   "metadata": {
    "scrolled": true
   },
   "outputs": [
    {
     "data": {
      "text/plain": [
       "0        [supervisor, administr, tactic, plan, execut, ...\n",
       "1        [relationship, manag, sap, mm, pharma, analyt,...\n",
       "2        [spring, docker, system, design, paa, microser...\n",
       "3        [project, manag, project, inform, technolog, p...\n",
       "4        [pop, train, basic, network, intern, infrastru...\n",
       "                               ...                        \n",
       "32733    [tibco, data, analysi, commun, python, tableau...\n",
       "32734    [sap, sap, bex, hana, agil, m, sql, sap, bo, e...\n",
       "32735    [data, analysi, project, manag, schedul, monit...\n",
       "32736    [data, analysi, direct, market, email, market,...\n",
       "32737    [data, analysi, project, manag, schedul, monit...\n",
       "Name: required_skills, Length: 32732, dtype: object"
      ]
     },
     "execution_count": 29,
     "metadata": {},
     "output_type": "execute_result"
    }
   ],
   "source": [
    "jobs.required_skills"
   ]
  },
  {
   "cell_type": "code",
   "execution_count": 30,
   "id": "d482fa3a",
   "metadata": {
    "scrolled": true
   },
   "outputs": [
    {
     "data": {
      "text/plain": [
       "'support manag time deliveri custom develop myjubil applic like pif'"
      ]
     },
     "execution_count": 30,
     "metadata": {},
     "output_type": "execute_result"
    }
   ],
   "source": [
    "jobs.iloc[1].job_description"
   ]
  },
  {
   "cell_type": "code",
   "execution_count": 31,
   "id": "29293c74",
   "metadata": {
    "scrolled": true
   },
   "outputs": [
    {
     "name": "stderr",
     "output_type": "stream",
     "text": [
      "C:\\Users\\thumm\\AppData\\Local\\Temp\\ipykernel_21280\\437788467.py:1: SettingWithCopyWarning: \n",
      "A value is trying to be set on a copy of a slice from a DataFrame.\n",
      "Try using .loc[row_indexer,col_indexer] = value instead\n",
      "\n",
      "See the caveats in the documentation: https://pandas.pydata.org/pandas-docs/stable/user_guide/indexing.html#returning-a-view-versus-a-copy\n",
      "  jobs['job_description'] = jobs['job_description'].apply(lambda x:x.split())\n"
     ]
    }
   ],
   "source": [
    "jobs['job_description'] = jobs['job_description'].apply(lambda x:x.split())"
   ]
  },
  {
   "cell_type": "code",
   "execution_count": 32,
   "id": "1dbc23ec",
   "metadata": {
    "scrolled": true
   },
   "outputs": [
    {
     "name": "stderr",
     "output_type": "stream",
     "text": [
      "C:\\Users\\thumm\\AppData\\Local\\Temp\\ipykernel_21280\\2635969529.py:1: SettingWithCopyWarning: \n",
      "A value is trying to be set on a copy of a slice from a DataFrame.\n",
      "Try using .loc[row_indexer,col_indexer] = value instead\n",
      "\n",
      "See the caveats in the documentation: https://pandas.pydata.org/pandas-docs/stable/user_guide/indexing.html#returning-a-view-versus-a-copy\n",
      "  jobs['exp_required'] = jobs['exp_required'].apply(preprocess_skills)\n"
     ]
    }
   ],
   "source": [
    "jobs['exp_required'] = jobs['exp_required'].apply(preprocess_skills)"
   ]
  },
  {
   "cell_type": "code",
   "execution_count": 33,
   "id": "96a94de1",
   "metadata": {
    "scrolled": true
   },
   "outputs": [
    {
     "data": {
      "text/html": [
       "<div>\n",
       "<style scoped>\n",
       "    .dataframe tbody tr th:only-of-type {\n",
       "        vertical-align: middle;\n",
       "    }\n",
       "\n",
       "    .dataframe tbody tr th {\n",
       "        vertical-align: top;\n",
       "    }\n",
       "\n",
       "    .dataframe thead th {\n",
       "        text-align: right;\n",
       "    }\n",
       "</style>\n",
       "<table border=\"1\" class=\"dataframe\">\n",
       "  <thead>\n",
       "    <tr style=\"text-align: right;\">\n",
       "      <th></th>\n",
       "      <th>job_id</th>\n",
       "      <th>job_post</th>\n",
       "      <th>company</th>\n",
       "      <th>exp_required</th>\n",
       "      <th>job_description</th>\n",
       "      <th>required_skills</th>\n",
       "    </tr>\n",
       "  </thead>\n",
       "  <tbody>\n",
       "    <tr>\n",
       "      <th>0</th>\n",
       "      <td>0</td>\n",
       "      <td>Information Technology Executive</td>\n",
       "      <td>Marriott</td>\n",
       "      <td>[0-3Yrs]</td>\n",
       "      <td>[posit, summari, troubleshoot, resolv, technic...</td>\n",
       "      <td>[supervisor, administr, tactic, plan, execut, ...</td>\n",
       "    </tr>\n",
       "    <tr>\n",
       "      <th>1</th>\n",
       "      <td>1</td>\n",
       "      <td>Associate Director-Information Technology(SAP)</td>\n",
       "      <td>Unacademy</td>\n",
       "      <td>[5-15Yrs]</td>\n",
       "      <td>[support, manag, time, deliveri, custom, devel...</td>\n",
       "      <td>[relationship, manag, sap, mm, pharma, analyt,...</td>\n",
       "    </tr>\n",
       "    <tr>\n",
       "      <th>2</th>\n",
       "      <td>2</td>\n",
       "      <td>Lead - Information Technology</td>\n",
       "      <td>EchoIndia</td>\n",
       "      <td>[11-13Yrs]</td>\n",
       "      <td>[experi, design, modern, rest, api, scale, hor...</td>\n",
       "      <td>[spring, docker, system, design, paa, microser...</td>\n",
       "    </tr>\n",
       "    <tr>\n",
       "      <th>3</th>\n",
       "      <td>3</td>\n",
       "      <td>Information Technology - Project Manager</td>\n",
       "      <td>Tata International</td>\n",
       "      <td>[4-8Yrs]</td>\n",
       "      <td>[abl, manag, project, use, variou, methodolog,...</td>\n",
       "      <td>[project, manag, project, inform, technolog, p...</td>\n",
       "    </tr>\n",
       "    <tr>\n",
       "      <th>4</th>\n",
       "      <td>4</td>\n",
       "      <td>Information Technology Trainee</td>\n",
       "      <td>Stefanini</td>\n",
       "      <td>[2-7Yrs]</td>\n",
       "      <td>[resourc, expect, cross, support, multipl, pro...</td>\n",
       "      <td>[pop, train, basic, network, intern, infrastru...</td>\n",
       "    </tr>\n",
       "  </tbody>\n",
       "</table>\n",
       "</div>"
      ],
      "text/plain": [
       "   job_id                                        job_post             company  \\\n",
       "0       0                Information Technology Executive            Marriott   \n",
       "1       1  Associate Director-Information Technology(SAP)           Unacademy   \n",
       "2       2                   Lead - Information Technology           EchoIndia   \n",
       "3       3        Information Technology - Project Manager  Tata International   \n",
       "4       4                  Information Technology Trainee           Stefanini   \n",
       "\n",
       "  exp_required                                    job_description  \\\n",
       "0     [0-3Yrs]  [posit, summari, troubleshoot, resolv, technic...   \n",
       "1    [5-15Yrs]  [support, manag, time, deliveri, custom, devel...   \n",
       "2   [11-13Yrs]  [experi, design, modern, rest, api, scale, hor...   \n",
       "3     [4-8Yrs]  [abl, manag, project, use, variou, methodolog,...   \n",
       "4     [2-7Yrs]  [resourc, expect, cross, support, multipl, pro...   \n",
       "\n",
       "                                     required_skills  \n",
       "0  [supervisor, administr, tactic, plan, execut, ...  \n",
       "1  [relationship, manag, sap, mm, pharma, analyt,...  \n",
       "2  [spring, docker, system, design, paa, microser...  \n",
       "3  [project, manag, project, inform, technolog, p...  \n",
       "4  [pop, train, basic, network, intern, infrastru...  "
      ]
     },
     "execution_count": 33,
     "metadata": {},
     "output_type": "execute_result"
    }
   ],
   "source": [
    "jobs.head()"
   ]
  },
  {
   "cell_type": "code",
   "execution_count": 34,
   "id": "6320c26b",
   "metadata": {
    "scrolled": true
   },
   "outputs": [
    {
     "name": "stderr",
     "output_type": "stream",
     "text": [
      "C:\\Users\\thumm\\AppData\\Local\\Temp\\ipykernel_21280\\3827260458.py:1: SettingWithCopyWarning: \n",
      "A value is trying to be set on a copy of a slice from a DataFrame.\n",
      "Try using .loc[row_indexer,col_indexer] = value instead\n",
      "\n",
      "See the caveats in the documentation: https://pandas.pydata.org/pandas-docs/stable/user_guide/indexing.html#returning-a-view-versus-a-copy\n",
      "  jobs['company_and_role'] = jobs['job_post'].apply(preprocess_skills) + jobs['company'].apply(preprocess_skills)\n"
     ]
    }
   ],
   "source": [
    "jobs['company_and_role'] = jobs['job_post'].apply(preprocess_skills) + jobs['company'].apply(preprocess_skills)\n",
    "#i want to consider company and jobrole as wellfor filtering resumes as few resumes may have an internship or previous experience in same company which can have an advantage"
   ]
  },
  {
   "cell_type": "code",
   "execution_count": 35,
   "id": "bc9bd7c2",
   "metadata": {
    "scrolled": true
   },
   "outputs": [
    {
     "data": {
      "text/html": [
       "<div>\n",
       "<style scoped>\n",
       "    .dataframe tbody tr th:only-of-type {\n",
       "        vertical-align: middle;\n",
       "    }\n",
       "\n",
       "    .dataframe tbody tr th {\n",
       "        vertical-align: top;\n",
       "    }\n",
       "\n",
       "    .dataframe thead th {\n",
       "        text-align: right;\n",
       "    }\n",
       "</style>\n",
       "<table border=\"1\" class=\"dataframe\">\n",
       "  <thead>\n",
       "    <tr style=\"text-align: right;\">\n",
       "      <th></th>\n",
       "      <th>job_id</th>\n",
       "      <th>job_post</th>\n",
       "      <th>company</th>\n",
       "      <th>exp_required</th>\n",
       "      <th>job_description</th>\n",
       "      <th>required_skills</th>\n",
       "      <th>company_and_role</th>\n",
       "    </tr>\n",
       "  </thead>\n",
       "  <tbody>\n",
       "    <tr>\n",
       "      <th>0</th>\n",
       "      <td>0</td>\n",
       "      <td>Information Technology Executive</td>\n",
       "      <td>Marriott</td>\n",
       "      <td>[0-3Yrs]</td>\n",
       "      <td>[posit, summari, troubleshoot, resolv, technic...</td>\n",
       "      <td>[supervisor, administr, tactic, plan, execut, ...</td>\n",
       "      <td>[InformationTechnologyExecutive, Marriott]</td>\n",
       "    </tr>\n",
       "    <tr>\n",
       "      <th>1</th>\n",
       "      <td>1</td>\n",
       "      <td>Associate Director-Information Technology(SAP)</td>\n",
       "      <td>Unacademy</td>\n",
       "      <td>[5-15Yrs]</td>\n",
       "      <td>[support, manag, time, deliveri, custom, devel...</td>\n",
       "      <td>[relationship, manag, sap, mm, pharma, analyt,...</td>\n",
       "      <td>[AssociateDirector-InformationTechnology(SAP),...</td>\n",
       "    </tr>\n",
       "    <tr>\n",
       "      <th>2</th>\n",
       "      <td>2</td>\n",
       "      <td>Lead - Information Technology</td>\n",
       "      <td>EchoIndia</td>\n",
       "      <td>[11-13Yrs]</td>\n",
       "      <td>[experi, design, modern, rest, api, scale, hor...</td>\n",
       "      <td>[spring, docker, system, design, paa, microser...</td>\n",
       "      <td>[Lead-InformationTechnology, EchoIndia]</td>\n",
       "    </tr>\n",
       "    <tr>\n",
       "      <th>3</th>\n",
       "      <td>3</td>\n",
       "      <td>Information Technology - Project Manager</td>\n",
       "      <td>Tata International</td>\n",
       "      <td>[4-8Yrs]</td>\n",
       "      <td>[abl, manag, project, use, variou, methodolog,...</td>\n",
       "      <td>[project, manag, project, inform, technolog, p...</td>\n",
       "      <td>[InformationTechnology-ProjectManager, TataInt...</td>\n",
       "    </tr>\n",
       "    <tr>\n",
       "      <th>4</th>\n",
       "      <td>4</td>\n",
       "      <td>Information Technology Trainee</td>\n",
       "      <td>Stefanini</td>\n",
       "      <td>[2-7Yrs]</td>\n",
       "      <td>[resourc, expect, cross, support, multipl, pro...</td>\n",
       "      <td>[pop, train, basic, network, intern, infrastru...</td>\n",
       "      <td>[InformationTechnologyTrainee, Stefanini]</td>\n",
       "    </tr>\n",
       "  </tbody>\n",
       "</table>\n",
       "</div>"
      ],
      "text/plain": [
       "   job_id                                        job_post             company  \\\n",
       "0       0                Information Technology Executive            Marriott   \n",
       "1       1  Associate Director-Information Technology(SAP)           Unacademy   \n",
       "2       2                   Lead - Information Technology           EchoIndia   \n",
       "3       3        Information Technology - Project Manager  Tata International   \n",
       "4       4                  Information Technology Trainee           Stefanini   \n",
       "\n",
       "  exp_required                                    job_description  \\\n",
       "0     [0-3Yrs]  [posit, summari, troubleshoot, resolv, technic...   \n",
       "1    [5-15Yrs]  [support, manag, time, deliveri, custom, devel...   \n",
       "2   [11-13Yrs]  [experi, design, modern, rest, api, scale, hor...   \n",
       "3     [4-8Yrs]  [abl, manag, project, use, variou, methodolog,...   \n",
       "4     [2-7Yrs]  [resourc, expect, cross, support, multipl, pro...   \n",
       "\n",
       "                                     required_skills  \\\n",
       "0  [supervisor, administr, tactic, plan, execut, ...   \n",
       "1  [relationship, manag, sap, mm, pharma, analyt,...   \n",
       "2  [spring, docker, system, design, paa, microser...   \n",
       "3  [project, manag, project, inform, technolog, p...   \n",
       "4  [pop, train, basic, network, intern, infrastru...   \n",
       "\n",
       "                                    company_and_role  \n",
       "0         [InformationTechnologyExecutive, Marriott]  \n",
       "1  [AssociateDirector-InformationTechnology(SAP),...  \n",
       "2            [Lead-InformationTechnology, EchoIndia]  \n",
       "3  [InformationTechnology-ProjectManager, TataInt...  \n",
       "4          [InformationTechnologyTrainee, Stefanini]  "
      ]
     },
     "execution_count": 35,
     "metadata": {},
     "output_type": "execute_result"
    }
   ],
   "source": [
    "jobs.head()"
   ]
  },
  {
   "cell_type": "code",
   "execution_count": 36,
   "id": "caeee467",
   "metadata": {
    "scrolled": true
   },
   "outputs": [
    {
     "name": "stderr",
     "output_type": "stream",
     "text": [
      "C:\\Users\\thumm\\AppData\\Local\\Temp\\ipykernel_21280\\3299171531.py:1: SettingWithCopyWarning: \n",
      "A value is trying to be set on a copy of a slice from a DataFrame.\n",
      "Try using .loc[row_indexer,col_indexer] = value instead\n",
      "\n",
      "See the caveats in the documentation: https://pandas.pydata.org/pandas-docs/stable/user_guide/indexing.html#returning-a-view-versus-a-copy\n",
      "  jobs['tags'] = jobs['company_and_role'] + jobs['exp_required'] + jobs['job_description'] + jobs['required_skills']\n"
     ]
    }
   ],
   "source": [
    "jobs['tags'] = jobs['company_and_role'] + jobs['exp_required'] + jobs['job_description'] + jobs['required_skills']"
   ]
  },
  {
   "cell_type": "code",
   "execution_count": 37,
   "id": "c05a1f1e",
   "metadata": {
    "scrolled": true
   },
   "outputs": [
    {
     "data": {
      "text/html": [
       "<div>\n",
       "<style scoped>\n",
       "    .dataframe tbody tr th:only-of-type {\n",
       "        vertical-align: middle;\n",
       "    }\n",
       "\n",
       "    .dataframe tbody tr th {\n",
       "        vertical-align: top;\n",
       "    }\n",
       "\n",
       "    .dataframe thead th {\n",
       "        text-align: right;\n",
       "    }\n",
       "</style>\n",
       "<table border=\"1\" class=\"dataframe\">\n",
       "  <thead>\n",
       "    <tr style=\"text-align: right;\">\n",
       "      <th></th>\n",
       "      <th>job_id</th>\n",
       "      <th>job_post</th>\n",
       "      <th>company</th>\n",
       "      <th>exp_required</th>\n",
       "      <th>job_description</th>\n",
       "      <th>required_skills</th>\n",
       "      <th>company_and_role</th>\n",
       "      <th>tags</th>\n",
       "    </tr>\n",
       "  </thead>\n",
       "  <tbody>\n",
       "    <tr>\n",
       "      <th>0</th>\n",
       "      <td>0</td>\n",
       "      <td>Information Technology Executive</td>\n",
       "      <td>Marriott</td>\n",
       "      <td>[0-3Yrs]</td>\n",
       "      <td>[posit, summari, troubleshoot, resolv, technic...</td>\n",
       "      <td>[supervisor, administr, tactic, plan, execut, ...</td>\n",
       "      <td>[InformationTechnologyExecutive, Marriott]</td>\n",
       "      <td>[InformationTechnologyExecutive, Marriott, 0-3...</td>\n",
       "    </tr>\n",
       "    <tr>\n",
       "      <th>1</th>\n",
       "      <td>1</td>\n",
       "      <td>Associate Director-Information Technology(SAP)</td>\n",
       "      <td>Unacademy</td>\n",
       "      <td>[5-15Yrs]</td>\n",
       "      <td>[support, manag, time, deliveri, custom, devel...</td>\n",
       "      <td>[relationship, manag, sap, mm, pharma, analyt,...</td>\n",
       "      <td>[AssociateDirector-InformationTechnology(SAP),...</td>\n",
       "      <td>[AssociateDirector-InformationTechnology(SAP),...</td>\n",
       "    </tr>\n",
       "    <tr>\n",
       "      <th>2</th>\n",
       "      <td>2</td>\n",
       "      <td>Lead - Information Technology</td>\n",
       "      <td>EchoIndia</td>\n",
       "      <td>[11-13Yrs]</td>\n",
       "      <td>[experi, design, modern, rest, api, scale, hor...</td>\n",
       "      <td>[spring, docker, system, design, paa, microser...</td>\n",
       "      <td>[Lead-InformationTechnology, EchoIndia]</td>\n",
       "      <td>[Lead-InformationTechnology, EchoIndia, 11-13Y...</td>\n",
       "    </tr>\n",
       "  </tbody>\n",
       "</table>\n",
       "</div>"
      ],
      "text/plain": [
       "   job_id                                        job_post    company  \\\n",
       "0       0                Information Technology Executive   Marriott   \n",
       "1       1  Associate Director-Information Technology(SAP)  Unacademy   \n",
       "2       2                   Lead - Information Technology  EchoIndia   \n",
       "\n",
       "  exp_required                                    job_description  \\\n",
       "0     [0-3Yrs]  [posit, summari, troubleshoot, resolv, technic...   \n",
       "1    [5-15Yrs]  [support, manag, time, deliveri, custom, devel...   \n",
       "2   [11-13Yrs]  [experi, design, modern, rest, api, scale, hor...   \n",
       "\n",
       "                                     required_skills  \\\n",
       "0  [supervisor, administr, tactic, plan, execut, ...   \n",
       "1  [relationship, manag, sap, mm, pharma, analyt,...   \n",
       "2  [spring, docker, system, design, paa, microser...   \n",
       "\n",
       "                                    company_and_role  \\\n",
       "0         [InformationTechnologyExecutive, Marriott]   \n",
       "1  [AssociateDirector-InformationTechnology(SAP),...   \n",
       "2            [Lead-InformationTechnology, EchoIndia]   \n",
       "\n",
       "                                                tags  \n",
       "0  [InformationTechnologyExecutive, Marriott, 0-3...  \n",
       "1  [AssociateDirector-InformationTechnology(SAP),...  \n",
       "2  [Lead-InformationTechnology, EchoIndia, 11-13Y...  "
      ]
     },
     "execution_count": 37,
     "metadata": {},
     "output_type": "execute_result"
    }
   ],
   "source": [
    "jobs.head(3)"
   ]
  },
  {
   "cell_type": "code",
   "execution_count": 38,
   "id": "1cd5d801",
   "metadata": {
    "scrolled": true
   },
   "outputs": [
    {
     "data": {
      "text/html": [
       "<div>\n",
       "<style scoped>\n",
       "    .dataframe tbody tr th:only-of-type {\n",
       "        vertical-align: middle;\n",
       "    }\n",
       "\n",
       "    .dataframe tbody tr th {\n",
       "        vertical-align: top;\n",
       "    }\n",
       "\n",
       "    .dataframe thead th {\n",
       "        text-align: right;\n",
       "    }\n",
       "</style>\n",
       "<table border=\"1\" class=\"dataframe\">\n",
       "  <thead>\n",
       "    <tr style=\"text-align: right;\">\n",
       "      <th></th>\n",
       "      <th>job_id</th>\n",
       "      <th>job_post</th>\n",
       "      <th>company</th>\n",
       "      <th>tags</th>\n",
       "    </tr>\n",
       "  </thead>\n",
       "  <tbody>\n",
       "    <tr>\n",
       "      <th>0</th>\n",
       "      <td>0</td>\n",
       "      <td>Information Technology Executive</td>\n",
       "      <td>Marriott</td>\n",
       "      <td>[InformationTechnologyExecutive, Marriott, 0-3...</td>\n",
       "    </tr>\n",
       "    <tr>\n",
       "      <th>1</th>\n",
       "      <td>1</td>\n",
       "      <td>Associate Director-Information Technology(SAP)</td>\n",
       "      <td>Unacademy</td>\n",
       "      <td>[AssociateDirector-InformationTechnology(SAP),...</td>\n",
       "    </tr>\n",
       "    <tr>\n",
       "      <th>2</th>\n",
       "      <td>2</td>\n",
       "      <td>Lead - Information Technology</td>\n",
       "      <td>EchoIndia</td>\n",
       "      <td>[Lead-InformationTechnology, EchoIndia, 11-13Y...</td>\n",
       "    </tr>\n",
       "    <tr>\n",
       "      <th>3</th>\n",
       "      <td>3</td>\n",
       "      <td>Information Technology - Project Manager</td>\n",
       "      <td>Tata International</td>\n",
       "      <td>[InformationTechnology-ProjectManager, TataInt...</td>\n",
       "    </tr>\n",
       "    <tr>\n",
       "      <th>4</th>\n",
       "      <td>4</td>\n",
       "      <td>Information Technology Trainee</td>\n",
       "      <td>Stefanini</td>\n",
       "      <td>[InformationTechnologyTrainee, Stefanini, 2-7Y...</td>\n",
       "    </tr>\n",
       "    <tr>\n",
       "      <th>...</th>\n",
       "      <td>...</td>\n",
       "      <td>...</td>\n",
       "      <td>...</td>\n",
       "      <td>...</td>\n",
       "    </tr>\n",
       "    <tr>\n",
       "      <th>32733</th>\n",
       "      <td>32733</td>\n",
       "      <td>TIBCO Spotfire</td>\n",
       "      <td>Birlasoft</td>\n",
       "      <td>[TIBCOSpotfire, Birlasoft, 4-9Yrs, jd, tibco, ...</td>\n",
       "    </tr>\n",
       "    <tr>\n",
       "      <th>32734</th>\n",
       "      <td>32734</td>\n",
       "      <td>Sr Consultant</td>\n",
       "      <td>Birlasoft</td>\n",
       "      <td>[SrConsultant, Birlasoft, 5-10Yrs, sap, develo...</td>\n",
       "    </tr>\n",
       "    <tr>\n",
       "      <th>32735</th>\n",
       "      <td>32735</td>\n",
       "      <td>Package Consultant: SAP SCM GTS</td>\n",
       "      <td>IBM</td>\n",
       "      <td>[PackageConsultant:SAPSCMGTS, IBM, 6-10Yrs, ex...</td>\n",
       "    </tr>\n",
       "    <tr>\n",
       "      <th>32736</th>\n",
       "      <td>32736</td>\n",
       "      <td>Associate Manager-Marketing Operations</td>\n",
       "      <td>Accenture</td>\n",
       "      <td>[AssociateManager-MarketingOperations, Accentu...</td>\n",
       "    </tr>\n",
       "    <tr>\n",
       "      <th>32737</th>\n",
       "      <td>32737</td>\n",
       "      <td>Package Consultant: SAP SCM GTS</td>\n",
       "      <td>IBM</td>\n",
       "      <td>[PackageConsultant:SAPSCMGTS, IBM, 6-10Yrs, ex...</td>\n",
       "    </tr>\n",
       "  </tbody>\n",
       "</table>\n",
       "<p>32732 rows × 4 columns</p>\n",
       "</div>"
      ],
      "text/plain": [
       "       job_id                                        job_post  \\\n",
       "0           0                Information Technology Executive   \n",
       "1           1  Associate Director-Information Technology(SAP)   \n",
       "2           2                   Lead - Information Technology   \n",
       "3           3        Information Technology - Project Manager   \n",
       "4           4                  Information Technology Trainee   \n",
       "...       ...                                             ...   \n",
       "32733   32733                                  TIBCO Spotfire   \n",
       "32734   32734                                   Sr Consultant   \n",
       "32735   32735                 Package Consultant: SAP SCM GTS   \n",
       "32736   32736          Associate Manager-Marketing Operations   \n",
       "32737   32737                 Package Consultant: SAP SCM GTS   \n",
       "\n",
       "                  company                                               tags  \n",
       "0                Marriott  [InformationTechnologyExecutive, Marriott, 0-3...  \n",
       "1               Unacademy  [AssociateDirector-InformationTechnology(SAP),...  \n",
       "2               EchoIndia  [Lead-InformationTechnology, EchoIndia, 11-13Y...  \n",
       "3      Tata International  [InformationTechnology-ProjectManager, TataInt...  \n",
       "4               Stefanini  [InformationTechnologyTrainee, Stefanini, 2-7Y...  \n",
       "...                   ...                                                ...  \n",
       "32733           Birlasoft  [TIBCOSpotfire, Birlasoft, 4-9Yrs, jd, tibco, ...  \n",
       "32734           Birlasoft  [SrConsultant, Birlasoft, 5-10Yrs, sap, develo...  \n",
       "32735                 IBM  [PackageConsultant:SAPSCMGTS, IBM, 6-10Yrs, ex...  \n",
       "32736           Accenture  [AssociateManager-MarketingOperations, Accentu...  \n",
       "32737                 IBM  [PackageConsultant:SAPSCMGTS, IBM, 6-10Yrs, ex...  \n",
       "\n",
       "[32732 rows x 4 columns]"
      ]
     },
     "execution_count": 38,
     "metadata": {},
     "output_type": "execute_result"
    }
   ],
   "source": [
    "jobs_preprocessed_df = jobs[['job_id','job_post','company','tags']]\n",
    "jobs_preprocessed_df"
   ]
  },
  {
   "cell_type": "code",
   "execution_count": 39,
   "id": "edd18bfb",
   "metadata": {
    "scrolled": true
   },
   "outputs": [
    {
     "data": {
      "text/html": [
       "<div>\n",
       "<style scoped>\n",
       "    .dataframe tbody tr th:only-of-type {\n",
       "        vertical-align: middle;\n",
       "    }\n",
       "\n",
       "    .dataframe tbody tr th {\n",
       "        vertical-align: top;\n",
       "    }\n",
       "\n",
       "    .dataframe thead th {\n",
       "        text-align: right;\n",
       "    }\n",
       "</style>\n",
       "<table border=\"1\" class=\"dataframe\">\n",
       "  <thead>\n",
       "    <tr style=\"text-align: right;\">\n",
       "      <th></th>\n",
       "      <th>Text</th>\n",
       "      <th>Skills</th>\n",
       "      <th>Education</th>\n",
       "      <th>Experience</th>\n",
       "      <th>Additional_Information</th>\n",
       "      <th>Software_Developer</th>\n",
       "      <th>Front_End_Developer</th>\n",
       "      <th>Network_Administrator</th>\n",
       "      <th>Web_Developer</th>\n",
       "      <th>Project_manager</th>\n",
       "      <th>Database_Administrator</th>\n",
       "      <th>Security_Analyst</th>\n",
       "      <th>Systems_Administrator</th>\n",
       "      <th>Python_Developer</th>\n",
       "      <th>Java_Developer</th>\n",
       "      <th>Labels</th>\n",
       "      <th>resume_id</th>\n",
       "    </tr>\n",
       "  </thead>\n",
       "  <tbody>\n",
       "    <tr>\n",
       "      <th>0</th>\n",
       "      <td>Inova IT Helpdesk Technician Inova IT Helpdesk...</td>\n",
       "      <td>Training Networking (6 years) VOIP (3 years)  ...</td>\n",
       "      <td>NaN</td>\n",
       "      <td>Inova IT Helpdesk Technician Inova Healthcare ...</td>\n",
       "      <td>CORE COMPETENCIES Tactical Data Network  Perso...</td>\n",
       "      <td>0</td>\n",
       "      <td>0</td>\n",
       "      <td>1</td>\n",
       "      <td>0</td>\n",
       "      <td>0</td>\n",
       "      <td>0</td>\n",
       "      <td>1</td>\n",
       "      <td>0</td>\n",
       "      <td>0</td>\n",
       "      <td>0</td>\n",
       "      <td>[2, 6]</td>\n",
       "      <td>0</td>\n",
       "    </tr>\n",
       "    <tr>\n",
       "      <th>1</th>\n",
       "      <td>ServiceNow Administrator/ BA ServiceNow Admini...</td>\n",
       "      <td>NC SQL (6 years) Pharmaceutical Product Devel...</td>\n",
       "      <td>Masters in Computer Science Towson University ...</td>\n",
       "      <td>ServiceNow Administrator/ BA Sabre - Southlake...</td>\n",
       "      <td>Technical Skill Set  ITSM Tools ServiceNow Ber...</td>\n",
       "      <td>1</td>\n",
       "      <td>0</td>\n",
       "      <td>0</td>\n",
       "      <td>0</td>\n",
       "      <td>0</td>\n",
       "      <td>0</td>\n",
       "      <td>0</td>\n",
       "      <td>0</td>\n",
       "      <td>1</td>\n",
       "      <td>0</td>\n",
       "      <td>[8, 0]</td>\n",
       "      <td>1</td>\n",
       "    </tr>\n",
       "    <tr>\n",
       "      <th>2</th>\n",
       "      <td>Oracle Database Administrator Oracle Database ...</td>\n",
       "      <td>databases (4 years) security (4 years) Oracle ...</td>\n",
       "      <td>Certification C.T.S.</td>\n",
       "      <td>Oracle Database Administrator TechWaze Solutio...</td>\n",
       "      <td>Technical Skills  Provided 24x7 production sup...</td>\n",
       "      <td>0</td>\n",
       "      <td>0</td>\n",
       "      <td>0</td>\n",
       "      <td>0</td>\n",
       "      <td>0</td>\n",
       "      <td>1</td>\n",
       "      <td>0</td>\n",
       "      <td>0</td>\n",
       "      <td>0</td>\n",
       "      <td>0</td>\n",
       "      <td>[5]</td>\n",
       "      <td>2</td>\n",
       "    </tr>\n",
       "  </tbody>\n",
       "</table>\n",
       "</div>"
      ],
      "text/plain": [
       "                                                Text  \\\n",
       "0  Inova IT Helpdesk Technician Inova IT Helpdesk...   \n",
       "1  ServiceNow Administrator/ BA ServiceNow Admini...   \n",
       "2  Oracle Database Administrator Oracle Database ...   \n",
       "\n",
       "                                              Skills  \\\n",
       "0  Training Networking (6 years) VOIP (3 years)  ...   \n",
       "1   NC SQL (6 years) Pharmaceutical Product Devel...   \n",
       "2  databases (4 years) security (4 years) Oracle ...   \n",
       "\n",
       "                                           Education  \\\n",
       "0                                                NaN   \n",
       "1  Masters in Computer Science Towson University ...   \n",
       "2                               Certification C.T.S.   \n",
       "\n",
       "                                          Experience  \\\n",
       "0  Inova IT Helpdesk Technician Inova Healthcare ...   \n",
       "1  ServiceNow Administrator/ BA Sabre - Southlake...   \n",
       "2  Oracle Database Administrator TechWaze Solutio...   \n",
       "\n",
       "                              Additional_Information  Software_Developer  \\\n",
       "0  CORE COMPETENCIES Tactical Data Network  Perso...                   0   \n",
       "1  Technical Skill Set  ITSM Tools ServiceNow Ber...                   1   \n",
       "2  Technical Skills  Provided 24x7 production sup...                   0   \n",
       "\n",
       "   Front_End_Developer  Network_Administrator  Web_Developer  Project_manager  \\\n",
       "0                    0                      1              0                0   \n",
       "1                    0                      0              0                0   \n",
       "2                    0                      0              0                0   \n",
       "\n",
       "   Database_Administrator  Security_Analyst  Systems_Administrator  \\\n",
       "0                       0                 1                      0   \n",
       "1                       0                 0                      0   \n",
       "2                       1                 0                      0   \n",
       "\n",
       "   Python_Developer  Java_Developer  Labels  resume_id  \n",
       "0                 0               0  [2, 6]          0  \n",
       "1                 1               0  [8, 0]          1  \n",
       "2                 0               0     [5]          2  "
      ]
     },
     "execution_count": 39,
     "metadata": {},
     "output_type": "execute_result"
    }
   ],
   "source": [
    "candidates['resume_id'] = candidates.index\n",
    "candidates.head(3)"
   ]
  },
  {
   "cell_type": "code",
   "execution_count": 40,
   "id": "a2ba1156",
   "metadata": {
    "scrolled": true
   },
   "outputs": [
    {
     "data": {
      "text/html": [
       "<div>\n",
       "<style scoped>\n",
       "    .dataframe tbody tr th:only-of-type {\n",
       "        vertical-align: middle;\n",
       "    }\n",
       "\n",
       "    .dataframe tbody tr th {\n",
       "        vertical-align: top;\n",
       "    }\n",
       "\n",
       "    .dataframe thead th {\n",
       "        text-align: right;\n",
       "    }\n",
       "</style>\n",
       "<table border=\"1\" class=\"dataframe\">\n",
       "  <thead>\n",
       "    <tr style=\"text-align: right;\">\n",
       "      <th></th>\n",
       "      <th>resume_id</th>\n",
       "      <th>Text</th>\n",
       "      <th>Skills</th>\n",
       "      <th>Education</th>\n",
       "      <th>Experience</th>\n",
       "      <th>Additional_Information</th>\n",
       "    </tr>\n",
       "  </thead>\n",
       "  <tbody>\n",
       "    <tr>\n",
       "      <th>0</th>\n",
       "      <td>0</td>\n",
       "      <td>Inova IT Helpdesk Technician Inova IT Helpdesk...</td>\n",
       "      <td>Training Networking (6 years) VOIP (3 years)  ...</td>\n",
       "      <td>NaN</td>\n",
       "      <td>Inova IT Helpdesk Technician Inova Healthcare ...</td>\n",
       "      <td>CORE COMPETENCIES Tactical Data Network  Perso...</td>\n",
       "    </tr>\n",
       "    <tr>\n",
       "      <th>1</th>\n",
       "      <td>1</td>\n",
       "      <td>ServiceNow Administrator/ BA ServiceNow Admini...</td>\n",
       "      <td>NC SQL (6 years) Pharmaceutical Product Devel...</td>\n",
       "      <td>Masters in Computer Science Towson University ...</td>\n",
       "      <td>ServiceNow Administrator/ BA Sabre - Southlake...</td>\n",
       "      <td>Technical Skill Set  ITSM Tools ServiceNow Ber...</td>\n",
       "    </tr>\n",
       "    <tr>\n",
       "      <th>2</th>\n",
       "      <td>2</td>\n",
       "      <td>Oracle Database Administrator Oracle Database ...</td>\n",
       "      <td>databases (4 years) security (4 years) Oracle ...</td>\n",
       "      <td>Certification C.T.S.</td>\n",
       "      <td>Oracle Database Administrator TechWaze Solutio...</td>\n",
       "      <td>Technical Skills  Provided 24x7 production sup...</td>\n",
       "    </tr>\n",
       "  </tbody>\n",
       "</table>\n",
       "</div>"
      ],
      "text/plain": [
       "   resume_id                                               Text  \\\n",
       "0          0  Inova IT Helpdesk Technician Inova IT Helpdesk...   \n",
       "1          1  ServiceNow Administrator/ BA ServiceNow Admini...   \n",
       "2          2  Oracle Database Administrator Oracle Database ...   \n",
       "\n",
       "                                              Skills  \\\n",
       "0  Training Networking (6 years) VOIP (3 years)  ...   \n",
       "1   NC SQL (6 years) Pharmaceutical Product Devel...   \n",
       "2  databases (4 years) security (4 years) Oracle ...   \n",
       "\n",
       "                                           Education  \\\n",
       "0                                                NaN   \n",
       "1  Masters in Computer Science Towson University ...   \n",
       "2                               Certification C.T.S.   \n",
       "\n",
       "                                          Experience  \\\n",
       "0  Inova IT Helpdesk Technician Inova Healthcare ...   \n",
       "1  ServiceNow Administrator/ BA Sabre - Southlake...   \n",
       "2  Oracle Database Administrator TechWaze Solutio...   \n",
       "\n",
       "                              Additional_Information  \n",
       "0  CORE COMPETENCIES Tactical Data Network  Perso...  \n",
       "1  Technical Skill Set  ITSM Tools ServiceNow Ber...  \n",
       "2  Technical Skills  Provided 24x7 production sup...  "
      ]
     },
     "execution_count": 40,
     "metadata": {},
     "output_type": "execute_result"
    }
   ],
   "source": [
    "candidates = candidates[['resume_id','Text','Skills','Education','Experience','Additional_Information']]\n",
    "candidates[:3]"
   ]
  },
  {
   "cell_type": "code",
   "execution_count": null,
   "id": "dbe2b3dc",
   "metadata": {},
   "outputs": [],
   "source": []
  },
  {
   "cell_type": "code",
   "execution_count": 41,
   "id": "8376f4dd",
   "metadata": {
    "scrolled": true
   },
   "outputs": [
    {
     "data": {
      "text/plain": [
       "resume_id                     0\n",
       "Text                          0\n",
       "Skills                     4298\n",
       "Education                  2060\n",
       "Experience                    2\n",
       "Additional_Information    13934\n",
       "dtype: int64"
      ]
     },
     "execution_count": 41,
     "metadata": {},
     "output_type": "execute_result"
    }
   ],
   "source": [
    "candidates.isnull().sum()"
   ]
  },
  {
   "cell_type": "code",
   "execution_count": 42,
   "id": "a4904e47",
   "metadata": {
    "scrolled": true
   },
   "outputs": [
    {
     "data": {
      "text/plain": [
       "(29780, 6)"
      ]
     },
     "execution_count": 42,
     "metadata": {},
     "output_type": "execute_result"
    }
   ],
   "source": [
    "candidates.shape"
   ]
  },
  {
   "cell_type": "code",
   "execution_count": 43,
   "id": "107312f3",
   "metadata": {
    "scrolled": true
   },
   "outputs": [
    {
     "name": "stderr",
     "output_type": "stream",
     "text": [
      "C:\\Users\\thumm\\AppData\\Local\\Temp\\ipykernel_21280\\3994894314.py:1: SettingWithCopyWarning: \n",
      "A value is trying to be set on a copy of a slice from a DataFrame\n",
      "\n",
      "See the caveats in the documentation: https://pandas.pydata.org/pandas-docs/stable/user_guide/indexing.html#returning-a-view-versus-a-copy\n",
      "  candidates.fillna('', inplace=True)\n"
     ]
    }
   ],
   "source": [
    "candidates.fillna('', inplace=True)"
   ]
  },
  {
   "cell_type": "code",
   "execution_count": 44,
   "id": "90b7ab61",
   "metadata": {
    "scrolled": true
   },
   "outputs": [
    {
     "data": {
      "text/plain": [
       "resume_id                 0\n",
       "Text                      0\n",
       "Skills                    0\n",
       "Education                 0\n",
       "Experience                0\n",
       "Additional_Information    0\n",
       "dtype: int64"
      ]
     },
     "execution_count": 44,
     "metadata": {},
     "output_type": "execute_result"
    }
   ],
   "source": [
    "candidates.isnull().sum()"
   ]
  },
  {
   "cell_type": "code",
   "execution_count": 45,
   "id": "9b5553a8",
   "metadata": {
    "scrolled": true
   },
   "outputs": [
    {
     "data": {
      "text/plain": [
       "0"
      ]
     },
     "execution_count": 45,
     "metadata": {},
     "output_type": "execute_result"
    }
   ],
   "source": [
    "candidates.duplicated().sum()"
   ]
  },
  {
   "cell_type": "code",
   "execution_count": 46,
   "id": "7b191701",
   "metadata": {
    "scrolled": true
   },
   "outputs": [
    {
     "name": "stderr",
     "output_type": "stream",
     "text": [
      "C:\\Users\\thumm\\AppData\\Local\\Temp\\ipykernel_21280\\662092519.py:1: SettingWithCopyWarning: \n",
      "A value is trying to be set on a copy of a slice from a DataFrame\n",
      "\n",
      "See the caveats in the documentation: https://pandas.pydata.org/pandas-docs/stable/user_guide/indexing.html#returning-a-view-versus-a-copy\n",
      "  candidates.drop_duplicates(inplace=True)\n"
     ]
    }
   ],
   "source": [
    "candidates.drop_duplicates(inplace=True)"
   ]
  },
  {
   "cell_type": "code",
   "execution_count": 47,
   "id": "29df1e87",
   "metadata": {},
   "outputs": [],
   "source": [
    "candidates.to_csv('resumes_ui.csv', index=False)"
   ]
  },
  {
   "cell_type": "code",
   "execution_count": 48,
   "id": "a6cd494f",
   "metadata": {
    "scrolled": true
   },
   "outputs": [
    {
     "data": {
      "text/plain": [
       "0        Training Networking (6 years) VOIP (3 years)  ...\n",
       "1         NC SQL (6 years) Pharmaceutical Product Devel...\n",
       "2        databases (4 years) security (4 years) Oracle ...\n",
       "3        Penetration Testing (8 years) Linux (8 years) ...\n",
       "4        C/c++ Objective c Html Git Database Visual stu...\n",
       "                               ...                        \n",
       "29775              Former Treasurer Legal Secretary Vmware\n",
       "29776    clients (Less than 1 year) testing (Less than ...\n",
       "29777    Database (10+ years) MSSQL Server (10+ years) ...\n",
       "29778    Scanning (Less than 1 year) Testing (Less than...\n",
       "29779    Dell Social Media Contractor Project Managemen...\n",
       "Name: Skills, Length: 29780, dtype: object"
      ]
     },
     "execution_count": 48,
     "metadata": {},
     "output_type": "execute_result"
    }
   ],
   "source": [
    "candidates['Skills']"
   ]
  },
  {
   "cell_type": "code",
   "execution_count": 49,
   "id": "0eb66aee",
   "metadata": {
    "scrolled": true
   },
   "outputs": [],
   "source": [
    "import re\n",
    "\n",
    "pattern = r'([A-Za-z\\s]+)(?:\\(\\d+\\syears\\))?'\n",
    "\n",
    "# Function to extract skills from a text string\n",
    "def extract_skills(text):\n",
    "    # Split the text into possible skill components\n",
    "    components = text.split()  # Splitting at spaces\n",
    "    \n",
    "    # Join components back into phrases based on proximity and apply regex\n",
    "    skills = []\n",
    "    i = 0\n",
    "    while i < len(components):\n",
    "        # Look for sequences of words that match our pattern \n",
    "        match = re.match(pattern, ' '.join(components[i:]))\n",
    "        if match:\n",
    "            skill = match.group(1).strip()  # Extract the skill name\n",
    "            skills.append(skill)\n",
    "            # Advance the index by the number of words matched\n",
    "            i += len(skill.split())\n",
    "        else:\n",
    "            i += 1  # Move to the next word if no match\n",
    "    \n",
    "    return list(set(skills))  # Remove duplicates and return"
   ]
  },
  {
   "cell_type": "code",
   "execution_count": 50,
   "id": "74a34346",
   "metadata": {
    "scrolled": true
   },
   "outputs": [
    {
     "name": "stderr",
     "output_type": "stream",
     "text": [
      "C:\\Users\\thumm\\AppData\\Local\\Temp\\ipykernel_21280\\3290629413.py:1: SettingWithCopyWarning: \n",
      "A value is trying to be set on a copy of a slice from a DataFrame.\n",
      "Try using .loc[row_indexer,col_indexer] = value instead\n",
      "\n",
      "See the caveats in the documentation: https://pandas.pydata.org/pandas-docs/stable/user_guide/indexing.html#returning-a-view-versus-a-copy\n",
      "  candidates['Skills'] = candidates['Skills'].apply(extract_skills)\n"
     ]
    },
    {
     "data": {
      "text/plain": [
       "0        [Problem Solving, Computer Skills, Information...\n",
       "1        [NC SQL, MYSQL, DATABASE, JAVASCRIPT, Pharmace...\n",
       "2        [Oracle, Database, SQL, databases, years, secu...\n",
       "3        [Windows Admin, Linux, Penetration Testing, ye...\n",
       "4        [C, Objective c Html Git Database Visual studi...\n",
       "                               ...                        \n",
       "29775            [Former Treasurer Legal Secretary Vmware]\n",
       "29776    [Self motivated, project management, Ms office...\n",
       "29777    [capacity planning, SQL Server, Database, SQL,...\n",
       "29778    [FEDERAL INFORMATION SECURITY MANAGEMENT ACT, ...\n",
       "29779    [MS Office, IT Integrator RETAIL SALES, Digita...\n",
       "Name: Skills, Length: 29780, dtype: object"
      ]
     },
     "execution_count": 50,
     "metadata": {},
     "output_type": "execute_result"
    }
   ],
   "source": [
    "candidates['Skills'] = candidates['Skills'].apply(extract_skills)\n",
    "candidates['Skills']"
   ]
  },
  {
   "cell_type": "code",
   "execution_count": 51,
   "id": "7da6f32c",
   "metadata": {
    "scrolled": true
   },
   "outputs": [
    {
     "data": {
      "text/plain": [
       "'Inova IT Helpdesk Technician Inova IT Helpdesk Technician Inova IT Helpdesk Technician Stafford VA Highly accomplished and experienced Communications Specialist with over 5 years of experience installation configuration and management of data network systems in both a stand-alone and client-server environment. Consistently complete projects with little to no supervision with superior results. Daily planned and executed the integration of multiple information systems in a network environment evaluated and resolved customer information system problems and utilized the required hardware upgrades and repaired to maintain mission capability.  A driven and versatile leader with a record of success in projects requiring an in-depth knowledge and solid experience working with complex communications systems. A quick study in emerging technology able to quickly assess and utilize the appropriate response to meet the specific needs of the business requirement at hand. A welcome addition to any team ready willing and able to function in any role necessary to ensure project success and on-time project delivery. Authorized to work in the US for any employer Work Experience Inova IT Helpdesk Technician Inova Healthcare Systems 2014 to 2015  Provide technical assistance and support for incoming queries and issues related to computer systems software and hardware.  Train computer users.  Respond to email messages for customers seeking help.  Ask questions to determine nature of problem.  Walk customer through problem-solving process.  Install modify and repair computer hardware and software.  Clean up computers.  Run diagnostic programs to resolve problems.  Resolve technical problems with Local Area Networks LAN Wide Area Networks WAN and other systems.  Install computer peripherals for users.  Follow up with customers to ensure issue has been resolved.  Gain feedback from customers about computer usage.  Run reports to determine malfunctions that continue to occur. Field Radio Technician Ericsson Communications and Clearwire 2013 to 2014  Installed repaired and maintained microwave radio and multiplex equipment both analog and digital and point to point communications systems.  Modified existing equipment to meet present needs.  Checked frequencies and solves interference problems.  Trained employees in the methods practices policies and procedures applicable to the work.  Emergency response to all Priority 1 and 2 outages that caused severe customer outages  Maintained Clearwire systems to get best coverage for day to day customers in the Clearwire network.  Install LTE equipment into all Clearwire stations to continue upgrading systems for better customer service.  Document photograph and upload system information into a new database after a completed conversion. Training Security and Administrative Clerk U.S. Marine Corps 2009 to 2011  Monitored verified and safeguarded personally identifiable information for a Battalion of over 3000 personnel  Assisted in compiling the annual training calendar for fiscal year 2011  Assisted high ranking military officials in keeping a typed chronological account of personnel and guests during the Marine Corps Half Marathon.  Consulted with military personnel to direct them to the appropriate policies and training personnel Information Security Specialist U.S. Marine Corps 2009 to 2009  Collected verified and configured user accounts for the Automated Message Handling System AMHS which replaced DMS  Taught over 100 individuals how to complete the requirements for access to AMHS  Administered AMHS for non-classified classified and secret personnel and messages  Liaison between the Information Security Section and Helpdesk Administrators to facilitate and improve application request response times  Provided day-to-day operation of the Electronic Key Management System EKMS as well as other duty areas related to Information Security INFOSEC such as Public Key Infrastructure PKI and FORTEZZA Card management  Implemented and monitored security measures for USMC communication information systems networks and advise the commander that systems and personnel adhere to established security standards and governmental requirements for security on these systems  Assisted in the development and execution of security policies plans and procedures design and implementation of data network security measures network intrusion detections and forensics information system security incident handling and certification of Marine Corps systems and networks Data Network Analyst U.S. Marine Corps 2008 to 2009  Assisted personnel in initial troubleshooting steps for Windows software and hardware  Configured printer/fax equipment aboard Marine Corps Base MCB Quantico to meet Department of Defense and Department of the Navy guidelines  Communicated with and assisted personnel of different ranks and computer literacy levels  Monitored several servers switches and routers aboard MCB Quantico.  Organized System Authorization Request Forms for the Defense Message System DMS to prepare for the new system  Utilized installed configured and instructed on the use of DOD Department of Defense SIPRNET SECRET Internet Protocol Router Network PKI Public Key Infrastructure CLO Cryptographic Logon and public key enablement of SIPRNET applications and web server Skills Networking 6 years Telecommunications 8 years Computer Skills Computer Skills 8 years Network Security 8 years Information Technology 8 years Information Security Information Security 8 years Microsoft Office 8 years Switches 8 years Routers 8 years Printers 8 years Problem Solving 8 years VOIP 3 years Engineering 3 years Military Service Branch United States Marine Corps Service Country United States Rank Pvt January 2008 to June 2011 Awards Letter of Accommodation 2010-01 Letter of Accommodation for installing and upgrading the Headquarters and Service Battalion mainframe including desktop printers and facsimile machines. Additional Information CORE COMPETENCIES Tactical Data Network  Personal Identifiable Information Security Workplace Safety  Quality Control Management  Defense Message Systems Training / Instruction  Requisition / Procurement Microsoft Word Microsoft Excel / PowerPoint / Access / Outlook / SharePoint'"
      ]
     },
     "execution_count": 51,
     "metadata": {},
     "output_type": "execute_result"
    }
   ],
   "source": [
    "candidates.Text[0]"
   ]
  },
  {
   "cell_type": "code",
   "execution_count": 52,
   "id": "95e71869",
   "metadata": {},
   "outputs": [],
   "source": [
    "def preprocess_first_50_words(text):\n",
    "    # Tokenize the string into word\n",
    "    text = text[:100]\n",
    "    \n",
    "    words = nltk.word_tokenize(text.lower())  # Lowercase and tokenize\n",
    "    \n",
    "    # Only keep the first 50 words\n",
    "    first_50_words = words[:50]\n",
    "    \n",
    "    # Process the first 50 words\n",
    "    processed_words = [\n",
    "        lemmatizer.lemmatize(stemmer.stem(word))\n",
    "        for word in first_50_words:\n",
    "            if word.isalpha() and word not in stop_words\n",
    "    ]\n",
    "    \n",
    "    # Combine the processed words back into a string\n",
    "    return ' '.join(processed_words)"
   ]
  },
  {
   "cell_type": "code",
   "execution_count": 53,
   "id": "28eb182f",
   "metadata": {
    "scrolled": true
   },
   "outputs": [
    {
     "name": "stderr",
     "output_type": "stream",
     "text": [
      "C:\\Users\\thumm\\AppData\\Local\\Temp\\ipykernel_21280\\3201080395.py:1: SettingWithCopyWarning: \n",
      "A value is trying to be set on a copy of a slice from a DataFrame.\n",
      "Try using .loc[row_indexer,col_indexer] = value instead\n",
      "\n",
      "See the caveats in the documentation: https://pandas.pydata.org/pandas-docs/stable/user_guide/indexing.html#returning-a-view-versus-a-copy\n",
      "  candidates['Text'] = candidates['Text'].apply(preprocess_first_50_words)\n",
      "C:\\Users\\thumm\\AppData\\Local\\Temp\\ipykernel_21280\\3201080395.py:2: SettingWithCopyWarning: \n",
      "A value is trying to be set on a copy of a slice from a DataFrame.\n",
      "Try using .loc[row_indexer,col_indexer] = value instead\n",
      "\n",
      "See the caveats in the documentation: https://pandas.pydata.org/pandas-docs/stable/user_guide/indexing.html#returning-a-view-versus-a-copy\n",
      "  candidates['Text'] = candidates['Text'].apply(lambda x:x.split())\n"
     ]
    },
    {
     "data": {
      "text/html": [
       "<div>\n",
       "<style scoped>\n",
       "    .dataframe tbody tr th:only-of-type {\n",
       "        vertical-align: middle;\n",
       "    }\n",
       "\n",
       "    .dataframe tbody tr th {\n",
       "        vertical-align: top;\n",
       "    }\n",
       "\n",
       "    .dataframe thead th {\n",
       "        text-align: right;\n",
       "    }\n",
       "</style>\n",
       "<table border=\"1\" class=\"dataframe\">\n",
       "  <thead>\n",
       "    <tr style=\"text-align: right;\">\n",
       "      <th></th>\n",
       "      <th>resume_id</th>\n",
       "      <th>Text</th>\n",
       "      <th>Skills</th>\n",
       "      <th>Education</th>\n",
       "      <th>Experience</th>\n",
       "      <th>Additional_Information</th>\n",
       "    </tr>\n",
       "  </thead>\n",
       "  <tbody>\n",
       "    <tr>\n",
       "      <th>0</th>\n",
       "      <td>0</td>\n",
       "      <td>[inova, helpdesk, technician, inova, helpdesk,...</td>\n",
       "      <td>[Problem Solving, Computer Skills, Information...</td>\n",
       "      <td></td>\n",
       "      <td>Inova IT Helpdesk Technician Inova Healthcare ...</td>\n",
       "      <td>CORE COMPETENCIES Tactical Data Network  Perso...</td>\n",
       "    </tr>\n",
       "    <tr>\n",
       "      <th>1</th>\n",
       "      <td>1</td>\n",
       "      <td>[servicenow, ba, servicenow, ba, servicenow, b...</td>\n",
       "      <td>[NC SQL, MYSQL, DATABASE, JAVASCRIPT, Pharmace...</td>\n",
       "      <td>Masters in Computer Science Towson University ...</td>\n",
       "      <td>ServiceNow Administrator/ BA Sabre - Southlake...</td>\n",
       "      <td>Technical Skill Set  ITSM Tools ServiceNow Ber...</td>\n",
       "    </tr>\n",
       "    <tr>\n",
       "      <th>2</th>\n",
       "      <td>2</td>\n",
       "      <td>[oracl, databas, administr, oracl, databas, ad...</td>\n",
       "      <td>[Oracle, Database, SQL, databases, years, secu...</td>\n",
       "      <td>Certification C.T.S.</td>\n",
       "      <td>Oracle Database Administrator TechWaze Solutio...</td>\n",
       "      <td>Technical Skills  Provided 24x7 production sup...</td>\n",
       "    </tr>\n",
       "  </tbody>\n",
       "</table>\n",
       "</div>"
      ],
      "text/plain": [
       "   resume_id                                               Text  \\\n",
       "0          0  [inova, helpdesk, technician, inova, helpdesk,...   \n",
       "1          1  [servicenow, ba, servicenow, ba, servicenow, b...   \n",
       "2          2  [oracl, databas, administr, oracl, databas, ad...   \n",
       "\n",
       "                                              Skills  \\\n",
       "0  [Problem Solving, Computer Skills, Information...   \n",
       "1  [NC SQL, MYSQL, DATABASE, JAVASCRIPT, Pharmace...   \n",
       "2  [Oracle, Database, SQL, databases, years, secu...   \n",
       "\n",
       "                                           Education  \\\n",
       "0                                                      \n",
       "1  Masters in Computer Science Towson University ...   \n",
       "2                               Certification C.T.S.   \n",
       "\n",
       "                                          Experience  \\\n",
       "0  Inova IT Helpdesk Technician Inova Healthcare ...   \n",
       "1  ServiceNow Administrator/ BA Sabre - Southlake...   \n",
       "2  Oracle Database Administrator TechWaze Solutio...   \n",
       "\n",
       "                              Additional_Information  \n",
       "0  CORE COMPETENCIES Tactical Data Network  Perso...  \n",
       "1  Technical Skill Set  ITSM Tools ServiceNow Ber...  \n",
       "2  Technical Skills  Provided 24x7 production sup...  "
      ]
     },
     "execution_count": 53,
     "metadata": {},
     "output_type": "execute_result"
    }
   ],
   "source": [
    "candidates['Text'] = candidates['Text'].apply(preprocess_first_50_words)\n",
    "candidates['Text'] = candidates['Text'].apply(lambda x:x.split())\n",
    "candidates.head(3)"
   ]
  },
  {
   "cell_type": "code",
   "execution_count": 54,
   "id": "e9defcc4",
   "metadata": {
    "scrolled": true
   },
   "outputs": [
    {
     "name": "stderr",
     "output_type": "stream",
     "text": [
      "C:\\Users\\thumm\\AppData\\Local\\Temp\\ipykernel_21280\\355605687.py:1: SettingWithCopyWarning: \n",
      "A value is trying to be set on a copy of a slice from a DataFrame.\n",
      "Try using .loc[row_indexer,col_indexer] = value instead\n",
      "\n",
      "See the caveats in the documentation: https://pandas.pydata.org/pandas-docs/stable/user_guide/indexing.html#returning-a-view-versus-a-copy\n",
      "  candidates['Education'] = candidates['Education'].apply(preprocessing_data)\n"
     ]
    }
   ],
   "source": [
    "candidates['Education'] = candidates['Education'].apply(preprocessing_data)"
   ]
  },
  {
   "cell_type": "code",
   "execution_count": 55,
   "id": "71b23adf",
   "metadata": {},
   "outputs": [
    {
     "name": "stderr",
     "output_type": "stream",
     "text": [
      "C:\\Users\\thumm\\AppData\\Local\\Temp\\ipykernel_21280\\841741142.py:1: SettingWithCopyWarning: \n",
      "A value is trying to be set on a copy of a slice from a DataFrame.\n",
      "Try using .loc[row_indexer,col_indexer] = value instead\n",
      "\n",
      "See the caveats in the documentation: https://pandas.pydata.org/pandas-docs/stable/user_guide/indexing.html#returning-a-view-versus-a-copy\n",
      "  candidates['Additional_Information'] = candidates['Additional_Information'].apply(preprocessing_data)\n"
     ]
    }
   ],
   "source": [
    "candidates['Additional_Information'] = candidates['Additional_Information'].apply(preprocessing_data)"
   ]
  },
  {
   "cell_type": "code",
   "execution_count": 56,
   "id": "e401f72d",
   "metadata": {},
   "outputs": [
    {
     "name": "stderr",
     "output_type": "stream",
     "text": [
      "C:\\Users\\thumm\\AppData\\Local\\Temp\\ipykernel_21280\\4169330131.py:1: SettingWithCopyWarning: \n",
      "A value is trying to be set on a copy of a slice from a DataFrame.\n",
      "Try using .loc[row_indexer,col_indexer] = value instead\n",
      "\n",
      "See the caveats in the documentation: https://pandas.pydata.org/pandas-docs/stable/user_guide/indexing.html#returning-a-view-versus-a-copy\n",
      "  candidates['Experience'] = candidates['Experience'].apply(preprocessing_data)\n"
     ]
    }
   ],
   "source": [
    "candidates['Experience'] = candidates['Experience'].apply(preprocessing_data)"
   ]
  },
  {
   "cell_type": "code",
   "execution_count": 57,
   "id": "791dc394",
   "metadata": {},
   "outputs": [
    {
     "name": "stderr",
     "output_type": "stream",
     "text": [
      "C:\\Users\\thumm\\AppData\\Local\\Temp\\ipykernel_21280\\4238547435.py:1: SettingWithCopyWarning: \n",
      "A value is trying to be set on a copy of a slice from a DataFrame.\n",
      "Try using .loc[row_indexer,col_indexer] = value instead\n",
      "\n",
      "See the caveats in the documentation: https://pandas.pydata.org/pandas-docs/stable/user_guide/indexing.html#returning-a-view-versus-a-copy\n",
      "  candidates['Experience'] = candidates['Experience'].apply(lambda x:x.split())\n",
      "C:\\Users\\thumm\\AppData\\Local\\Temp\\ipykernel_21280\\4238547435.py:2: SettingWithCopyWarning: \n",
      "A value is trying to be set on a copy of a slice from a DataFrame.\n",
      "Try using .loc[row_indexer,col_indexer] = value instead\n",
      "\n",
      "See the caveats in the documentation: https://pandas.pydata.org/pandas-docs/stable/user_guide/indexing.html#returning-a-view-versus-a-copy\n",
      "  candidates['Additional_Information'] = candidates['Additional_Information'].apply(lambda x:x.split())\n"
     ]
    }
   ],
   "source": [
    "candidates['Experience'] = candidates['Experience'].apply(lambda x:x.split())\n",
    "candidates['Additional_Information'] = candidates['Additional_Information'].apply(lambda x:x.split())"
   ]
  },
  {
   "cell_type": "code",
   "execution_count": 58,
   "id": "99fa7008",
   "metadata": {},
   "outputs": [
    {
     "name": "stderr",
     "output_type": "stream",
     "text": [
      "C:\\Users\\thumm\\AppData\\Local\\Temp\\ipykernel_21280\\409113262.py:1: SettingWithCopyWarning: \n",
      "A value is trying to be set on a copy of a slice from a DataFrame.\n",
      "Try using .loc[row_indexer,col_indexer] = value instead\n",
      "\n",
      "See the caveats in the documentation: https://pandas.pydata.org/pandas-docs/stable/user_guide/indexing.html#returning-a-view-versus-a-copy\n",
      "  candidates['Education'] = candidates['Education'].apply(lambda x:x.split())\n"
     ]
    }
   ],
   "source": [
    "candidates['Education'] = candidates['Education'].apply(lambda x:x.split())"
   ]
  },
  {
   "cell_type": "code",
   "execution_count": 59,
   "id": "c119d27b",
   "metadata": {},
   "outputs": [
    {
     "data": {
      "text/html": [
       "<div>\n",
       "<style scoped>\n",
       "    .dataframe tbody tr th:only-of-type {\n",
       "        vertical-align: middle;\n",
       "    }\n",
       "\n",
       "    .dataframe tbody tr th {\n",
       "        vertical-align: top;\n",
       "    }\n",
       "\n",
       "    .dataframe thead th {\n",
       "        text-align: right;\n",
       "    }\n",
       "</style>\n",
       "<table border=\"1\" class=\"dataframe\">\n",
       "  <thead>\n",
       "    <tr style=\"text-align: right;\">\n",
       "      <th></th>\n",
       "      <th>resume_id</th>\n",
       "      <th>Text</th>\n",
       "      <th>Skills</th>\n",
       "      <th>Education</th>\n",
       "      <th>Experience</th>\n",
       "      <th>Additional_Information</th>\n",
       "    </tr>\n",
       "  </thead>\n",
       "  <tbody>\n",
       "    <tr>\n",
       "      <th>0</th>\n",
       "      <td>0</td>\n",
       "      <td>[inova, helpdesk, technician, inova, helpdesk,...</td>\n",
       "      <td>[Problem Solving, Computer Skills, Information...</td>\n",
       "      <td>[]</td>\n",
       "      <td>[inova, helpdesk, technician, inova, healthcar...</td>\n",
       "      <td>[core, compet, tactic, data, network, person, ...</td>\n",
       "    </tr>\n",
       "    <tr>\n",
       "      <th>1</th>\n",
       "      <td>1</td>\n",
       "      <td>[servicenow, ba, servicenow, ba, servicenow, b...</td>\n",
       "      <td>[NC SQL, MYSQL, DATABASE, JAVASCRIPT, Pharmace...</td>\n",
       "      <td>[master, comput, scienc, towson, univers, jntu...</td>\n",
       "      <td>[servicenow, ba, sabr, southlak, tx, septemb, ...</td>\n",
       "      <td>[technic, skill, set, itsm, tool, servicenow, ...</td>\n",
       "    </tr>\n",
       "    <tr>\n",
       "      <th>2</th>\n",
       "      <td>2</td>\n",
       "      <td>[oracl, databas, administr, oracl, databas, ad...</td>\n",
       "      <td>[Oracle, Database, SQL, databases, years, secu...</td>\n",
       "      <td>[certif]</td>\n",
       "      <td>[oracl, databas, administr, techwaz, solut, at...</td>\n",
       "      <td>[technic, skill, provid, product, support, ora...</td>\n",
       "    </tr>\n",
       "    <tr>\n",
       "      <th>3</th>\n",
       "      <td>3</td>\n",
       "      <td>[inform, secur, analyst, contractor, inform, s...</td>\n",
       "      <td>[Windows Admin, Linux, Penetration Testing, ye...</td>\n",
       "      <td>[bachelor, comput, scienc, univers, north, geo...</td>\n",
       "      <td>[inform, secur, analyst, contractor, mckesson,...</td>\n",
       "      <td>[skill, interest, fulli, function, java, c, c,...</td>\n",
       "    </tr>\n",
       "    <tr>\n",
       "      <th>4</th>\n",
       "      <td>4</td>\n",
       "      <td>[softwar, develop, softwar, develop, softwar, ...</td>\n",
       "      <td>[C, Objective c Html Git Database Visual studi...</td>\n",
       "      <td>[master, scienc, comput, scienc, new, york, in...</td>\n",
       "      <td>[softwar, develop, luxcom, inc, new, york, ny,...</td>\n",
       "      <td>[technic, skill, framework, tool, eclips, visu...</td>\n",
       "    </tr>\n",
       "  </tbody>\n",
       "</table>\n",
       "</div>"
      ],
      "text/plain": [
       "   resume_id                                               Text  \\\n",
       "0          0  [inova, helpdesk, technician, inova, helpdesk,...   \n",
       "1          1  [servicenow, ba, servicenow, ba, servicenow, b...   \n",
       "2          2  [oracl, databas, administr, oracl, databas, ad...   \n",
       "3          3  [inform, secur, analyst, contractor, inform, s...   \n",
       "4          4  [softwar, develop, softwar, develop, softwar, ...   \n",
       "\n",
       "                                              Skills  \\\n",
       "0  [Problem Solving, Computer Skills, Information...   \n",
       "1  [NC SQL, MYSQL, DATABASE, JAVASCRIPT, Pharmace...   \n",
       "2  [Oracle, Database, SQL, databases, years, secu...   \n",
       "3  [Windows Admin, Linux, Penetration Testing, ye...   \n",
       "4  [C, Objective c Html Git Database Visual studi...   \n",
       "\n",
       "                                           Education  \\\n",
       "0                                                 []   \n",
       "1  [master, comput, scienc, towson, univers, jntu...   \n",
       "2                                           [certif]   \n",
       "3  [bachelor, comput, scienc, univers, north, geo...   \n",
       "4  [master, scienc, comput, scienc, new, york, in...   \n",
       "\n",
       "                                          Experience  \\\n",
       "0  [inova, helpdesk, technician, inova, healthcar...   \n",
       "1  [servicenow, ba, sabr, southlak, tx, septemb, ...   \n",
       "2  [oracl, databas, administr, techwaz, solut, at...   \n",
       "3  [inform, secur, analyst, contractor, mckesson,...   \n",
       "4  [softwar, develop, luxcom, inc, new, york, ny,...   \n",
       "\n",
       "                              Additional_Information  \n",
       "0  [core, compet, tactic, data, network, person, ...  \n",
       "1  [technic, skill, set, itsm, tool, servicenow, ...  \n",
       "2  [technic, skill, provid, product, support, ora...  \n",
       "3  [skill, interest, fulli, function, java, c, c,...  \n",
       "4  [technic, skill, framework, tool, eclips, visu...  "
      ]
     },
     "execution_count": 59,
     "metadata": {},
     "output_type": "execute_result"
    }
   ],
   "source": [
    "candidates.head()"
   ]
  },
  {
   "cell_type": "code",
   "execution_count": 60,
   "id": "f8c0e0ee",
   "metadata": {},
   "outputs": [
    {
     "data": {
      "text/html": [
       "<div>\n",
       "<style scoped>\n",
       "    .dataframe tbody tr th:only-of-type {\n",
       "        vertical-align: middle;\n",
       "    }\n",
       "\n",
       "    .dataframe tbody tr th {\n",
       "        vertical-align: top;\n",
       "    }\n",
       "\n",
       "    .dataframe thead th {\n",
       "        text-align: right;\n",
       "    }\n",
       "</style>\n",
       "<table border=\"1\" class=\"dataframe\">\n",
       "  <thead>\n",
       "    <tr style=\"text-align: right;\">\n",
       "      <th></th>\n",
       "      <th>resume_id</th>\n",
       "      <th>Text</th>\n",
       "      <th>Skills</th>\n",
       "      <th>Education</th>\n",
       "      <th>Experience</th>\n",
       "      <th>Additional_Information</th>\n",
       "    </tr>\n",
       "  </thead>\n",
       "  <tbody>\n",
       "    <tr>\n",
       "      <th>0</th>\n",
       "      <td>0</td>\n",
       "      <td>[inova, helpdesk, technician, inova, helpdesk,...</td>\n",
       "      <td>[Problem Solving, Computer Skills, Information...</td>\n",
       "      <td>[]</td>\n",
       "      <td>[inova, helpdesk, technician, inova, healthcar...</td>\n",
       "      <td>[core, compet, tactic, data, network, person, ...</td>\n",
       "    </tr>\n",
       "    <tr>\n",
       "      <th>1</th>\n",
       "      <td>1</td>\n",
       "      <td>[servicenow, ba, servicenow, ba, servicenow, b...</td>\n",
       "      <td>[NC SQL, MYSQL, DATABASE, JAVASCRIPT, Pharmace...</td>\n",
       "      <td>[master, comput, scienc, towson, univers, jntu...</td>\n",
       "      <td>[servicenow, ba, sabr, southlak, tx, septemb, ...</td>\n",
       "      <td>[technic, skill, set, itsm, tool, servicenow, ...</td>\n",
       "    </tr>\n",
       "    <tr>\n",
       "      <th>2</th>\n",
       "      <td>2</td>\n",
       "      <td>[oracl, databas, administr, oracl, databas, ad...</td>\n",
       "      <td>[Oracle, Database, SQL, databases, years, secu...</td>\n",
       "      <td>[certif]</td>\n",
       "      <td>[oracl, databas, administr, techwaz, solut, at...</td>\n",
       "      <td>[technic, skill, provid, product, support, ora...</td>\n",
       "    </tr>\n",
       "    <tr>\n",
       "      <th>3</th>\n",
       "      <td>3</td>\n",
       "      <td>[inform, secur, analyst, contractor, inform, s...</td>\n",
       "      <td>[Windows Admin, Linux, Penetration Testing, ye...</td>\n",
       "      <td>[bachelor, comput, scienc, univers, north, geo...</td>\n",
       "      <td>[inform, secur, analyst, contractor, mckesson,...</td>\n",
       "      <td>[skill, interest, fulli, function, java, c, c,...</td>\n",
       "    </tr>\n",
       "    <tr>\n",
       "      <th>4</th>\n",
       "      <td>4</td>\n",
       "      <td>[softwar, develop, softwar, develop, softwar, ...</td>\n",
       "      <td>[C, Objective c Html Git Database Visual studi...</td>\n",
       "      <td>[master, scienc, comput, scienc, new, york, in...</td>\n",
       "      <td>[softwar, develop, luxcom, inc, new, york, ny,...</td>\n",
       "      <td>[technic, skill, framework, tool, eclips, visu...</td>\n",
       "    </tr>\n",
       "  </tbody>\n",
       "</table>\n",
       "</div>"
      ],
      "text/plain": [
       "   resume_id                                               Text  \\\n",
       "0          0  [inova, helpdesk, technician, inova, helpdesk,...   \n",
       "1          1  [servicenow, ba, servicenow, ba, servicenow, b...   \n",
       "2          2  [oracl, databas, administr, oracl, databas, ad...   \n",
       "3          3  [inform, secur, analyst, contractor, inform, s...   \n",
       "4          4  [softwar, develop, softwar, develop, softwar, ...   \n",
       "\n",
       "                                              Skills  \\\n",
       "0  [Problem Solving, Computer Skills, Information...   \n",
       "1  [NC SQL, MYSQL, DATABASE, JAVASCRIPT, Pharmace...   \n",
       "2  [Oracle, Database, SQL, databases, years, secu...   \n",
       "3  [Windows Admin, Linux, Penetration Testing, ye...   \n",
       "4  [C, Objective c Html Git Database Visual studi...   \n",
       "\n",
       "                                           Education  \\\n",
       "0                                                 []   \n",
       "1  [master, comput, scienc, towson, univers, jntu...   \n",
       "2                                           [certif]   \n",
       "3  [bachelor, comput, scienc, univers, north, geo...   \n",
       "4  [master, scienc, comput, scienc, new, york, in...   \n",
       "\n",
       "                                          Experience  \\\n",
       "0  [inova, helpdesk, technician, inova, healthcar...   \n",
       "1  [servicenow, ba, sabr, southlak, tx, septemb, ...   \n",
       "2  [oracl, databas, administr, techwaz, solut, at...   \n",
       "3  [inform, secur, analyst, contractor, mckesson,...   \n",
       "4  [softwar, develop, luxcom, inc, new, york, ny,...   \n",
       "\n",
       "                              Additional_Information  \n",
       "0  [core, compet, tactic, data, network, person, ...  \n",
       "1  [technic, skill, set, itsm, tool, servicenow, ...  \n",
       "2  [technic, skill, provid, product, support, ora...  \n",
       "3  [skill, interest, fulli, function, java, c, c,...  \n",
       "4  [technic, skill, framework, tool, eclips, visu...  "
      ]
     },
     "execution_count": 60,
     "metadata": {},
     "output_type": "execute_result"
    }
   ],
   "source": [
    "candidates.head()"
   ]
  },
  {
   "cell_type": "code",
   "execution_count": 61,
   "id": "9af66388",
   "metadata": {},
   "outputs": [
    {
     "name": "stderr",
     "output_type": "stream",
     "text": [
      "C:\\Users\\thumm\\AppData\\Local\\Temp\\ipykernel_21280\\333027095.py:1: SettingWithCopyWarning: \n",
      "A value is trying to be set on a copy of a slice from a DataFrame.\n",
      "Try using .loc[row_indexer,col_indexer] = value instead\n",
      "\n",
      "See the caveats in the documentation: https://pandas.pydata.org/pandas-docs/stable/user_guide/indexing.html#returning-a-view-versus-a-copy\n",
      "  candidates['tags'] = candidates['Text'] + candidates['Skills']\n"
     ]
    }
   ],
   "source": [
    "candidates['tags'] = candidates['Text'] + candidates['Skills'] "
   ]
  },
  {
   "cell_type": "code",
   "execution_count": 62,
   "id": "ef1ba325",
   "metadata": {},
   "outputs": [
    {
     "name": "stderr",
     "output_type": "stream",
     "text": [
      "C:\\Users\\thumm\\AppData\\Local\\Temp\\ipykernel_21280\\3014315615.py:1: SettingWithCopyWarning: \n",
      "A value is trying to be set on a copy of a slice from a DataFrame.\n",
      "Try using .loc[row_indexer,col_indexer] = value instead\n",
      "\n",
      "See the caveats in the documentation: https://pandas.pydata.org/pandas-docs/stable/user_guide/indexing.html#returning-a-view-versus-a-copy\n",
      "  candidates['tags'] += candidates['Education']\n"
     ]
    }
   ],
   "source": [
    "\n",
    "candidates['tags'] += candidates['Education']"
   ]
  },
  {
   "cell_type": "code",
   "execution_count": 63,
   "id": "129c0b38",
   "metadata": {},
   "outputs": [
    {
     "name": "stderr",
     "output_type": "stream",
     "text": [
      "C:\\Users\\thumm\\AppData\\Local\\Temp\\ipykernel_21280\\1504379975.py:1: SettingWithCopyWarning: \n",
      "A value is trying to be set on a copy of a slice from a DataFrame.\n",
      "Try using .loc[row_indexer,col_indexer] = value instead\n",
      "\n",
      "See the caveats in the documentation: https://pandas.pydata.org/pandas-docs/stable/user_guide/indexing.html#returning-a-view-versus-a-copy\n",
      "  candidates['tags'] += candidates['Additional_Information']\n"
     ]
    }
   ],
   "source": [
    "candidates['tags'] += candidates['Additional_Information']"
   ]
  },
  {
   "cell_type": "code",
   "execution_count": 64,
   "id": "9bcd3a31",
   "metadata": {},
   "outputs": [
    {
     "name": "stderr",
     "output_type": "stream",
     "text": [
      "C:\\Users\\thumm\\AppData\\Local\\Temp\\ipykernel_21280\\1820042197.py:1: SettingWithCopyWarning: \n",
      "A value is trying to be set on a copy of a slice from a DataFrame.\n",
      "Try using .loc[row_indexer,col_indexer] = value instead\n",
      "\n",
      "See the caveats in the documentation: https://pandas.pydata.org/pandas-docs/stable/user_guide/indexing.html#returning-a-view-versus-a-copy\n",
      "  candidates['tags'] += candidates['Experience']\n"
     ]
    }
   ],
   "source": [
    "candidates['tags'] += candidates['Experience']"
   ]
  },
  {
   "cell_type": "code",
   "execution_count": 65,
   "id": "6722ac48",
   "metadata": {},
   "outputs": [],
   "source": [
    "candidates = candidates[['resume_id','tags']]"
   ]
  },
  {
   "cell_type": "code",
   "execution_count": 66,
   "id": "137e5649",
   "metadata": {},
   "outputs": [
    {
     "data": {
      "text/html": [
       "<div>\n",
       "<style scoped>\n",
       "    .dataframe tbody tr th:only-of-type {\n",
       "        vertical-align: middle;\n",
       "    }\n",
       "\n",
       "    .dataframe tbody tr th {\n",
       "        vertical-align: top;\n",
       "    }\n",
       "\n",
       "    .dataframe thead th {\n",
       "        text-align: right;\n",
       "    }\n",
       "</style>\n",
       "<table border=\"1\" class=\"dataframe\">\n",
       "  <thead>\n",
       "    <tr style=\"text-align: right;\">\n",
       "      <th></th>\n",
       "      <th>resume_id</th>\n",
       "      <th>tags</th>\n",
       "    </tr>\n",
       "  </thead>\n",
       "  <tbody>\n",
       "    <tr>\n",
       "      <th>0</th>\n",
       "      <td>0</td>\n",
       "      <td>[inova, helpdesk, technician, inova, helpdesk,...</td>\n",
       "    </tr>\n",
       "    <tr>\n",
       "      <th>1</th>\n",
       "      <td>1</td>\n",
       "      <td>[servicenow, ba, servicenow, ba, servicenow, b...</td>\n",
       "    </tr>\n",
       "    <tr>\n",
       "      <th>2</th>\n",
       "      <td>2</td>\n",
       "      <td>[oracl, databas, administr, oracl, databas, ad...</td>\n",
       "    </tr>\n",
       "    <tr>\n",
       "      <th>3</th>\n",
       "      <td>3</td>\n",
       "      <td>[inform, secur, analyst, contractor, inform, s...</td>\n",
       "    </tr>\n",
       "    <tr>\n",
       "      <th>4</th>\n",
       "      <td>4</td>\n",
       "      <td>[softwar, develop, softwar, develop, softwar, ...</td>\n",
       "    </tr>\n",
       "  </tbody>\n",
       "</table>\n",
       "</div>"
      ],
      "text/plain": [
       "   resume_id                                               tags\n",
       "0          0  [inova, helpdesk, technician, inova, helpdesk,...\n",
       "1          1  [servicenow, ba, servicenow, ba, servicenow, b...\n",
       "2          2  [oracl, databas, administr, oracl, databas, ad...\n",
       "3          3  [inform, secur, analyst, contractor, inform, s...\n",
       "4          4  [softwar, develop, softwar, develop, softwar, ..."
      ]
     },
     "execution_count": 66,
     "metadata": {},
     "output_type": "execute_result"
    }
   ],
   "source": [
    "candidates.head(5)"
   ]
  },
  {
   "cell_type": "code",
   "execution_count": 67,
   "id": "790c5151",
   "metadata": {},
   "outputs": [
    {
     "name": "stderr",
     "output_type": "stream",
     "text": [
      "C:\\Users\\thumm\\AppData\\Local\\Temp\\ipykernel_21280\\3886656344.py:1: SettingWithCopyWarning: \n",
      "A value is trying to be set on a copy of a slice from a DataFrame.\n",
      "Try using .loc[row_indexer,col_indexer] = value instead\n",
      "\n",
      "See the caveats in the documentation: https://pandas.pydata.org/pandas-docs/stable/user_guide/indexing.html#returning-a-view-versus-a-copy\n",
      "  jobs_preprocessed_df['job_id'] = jobs_preprocessed_df.index\n"
     ]
    }
   ],
   "source": [
    "jobs_preprocessed_df['job_id'] = jobs_preprocessed_df.index"
   ]
  },
  {
   "cell_type": "code",
   "execution_count": 87,
   "id": "7a45e63f",
   "metadata": {},
   "outputs": [
    {
     "data": {
      "text/html": [
       "<div>\n",
       "<style scoped>\n",
       "    .dataframe tbody tr th:only-of-type {\n",
       "        vertical-align: middle;\n",
       "    }\n",
       "\n",
       "    .dataframe tbody tr th {\n",
       "        vertical-align: top;\n",
       "    }\n",
       "\n",
       "    .dataframe thead th {\n",
       "        text-align: right;\n",
       "    }\n",
       "</style>\n",
       "<table border=\"1\" class=\"dataframe\">\n",
       "  <thead>\n",
       "    <tr style=\"text-align: right;\">\n",
       "      <th></th>\n",
       "      <th>job_id</th>\n",
       "      <th>job_post</th>\n",
       "      <th>company</th>\n",
       "      <th>tags</th>\n",
       "    </tr>\n",
       "  </thead>\n",
       "  <tbody>\n",
       "    <tr>\n",
       "      <th>0</th>\n",
       "      <td>0</td>\n",
       "      <td>Information Technology Executive</td>\n",
       "      <td>Marriott</td>\n",
       "      <td>[InformationTechnologyExecutive, Marriott, 0-3...</td>\n",
       "    </tr>\n",
       "    <tr>\n",
       "      <th>1</th>\n",
       "      <td>1</td>\n",
       "      <td>Associate Director-Information Technology(SAP)</td>\n",
       "      <td>Unacademy</td>\n",
       "      <td>[AssociateDirector-InformationTechnology(SAP),...</td>\n",
       "    </tr>\n",
       "    <tr>\n",
       "      <th>2</th>\n",
       "      <td>2</td>\n",
       "      <td>Lead - Information Technology</td>\n",
       "      <td>EchoIndia</td>\n",
       "      <td>[Lead-InformationTechnology, EchoIndia, 11-13Y...</td>\n",
       "    </tr>\n",
       "    <tr>\n",
       "      <th>3</th>\n",
       "      <td>3</td>\n",
       "      <td>Information Technology - Project Manager</td>\n",
       "      <td>Tata International</td>\n",
       "      <td>[InformationTechnology-ProjectManager, TataInt...</td>\n",
       "    </tr>\n",
       "    <tr>\n",
       "      <th>4</th>\n",
       "      <td>4</td>\n",
       "      <td>Information Technology Trainee</td>\n",
       "      <td>Stefanini</td>\n",
       "      <td>[InformationTechnologyTrainee, Stefanini, 2-7Y...</td>\n",
       "    </tr>\n",
       "    <tr>\n",
       "      <th>...</th>\n",
       "      <td>...</td>\n",
       "      <td>...</td>\n",
       "      <td>...</td>\n",
       "      <td>...</td>\n",
       "    </tr>\n",
       "    <tr>\n",
       "      <th>32733</th>\n",
       "      <td>32733</td>\n",
       "      <td>TIBCO Spotfire</td>\n",
       "      <td>Birlasoft</td>\n",
       "      <td>[TIBCOSpotfire, Birlasoft, 4-9Yrs, jd, tibco, ...</td>\n",
       "    </tr>\n",
       "    <tr>\n",
       "      <th>32734</th>\n",
       "      <td>32734</td>\n",
       "      <td>Sr Consultant</td>\n",
       "      <td>Birlasoft</td>\n",
       "      <td>[SrConsultant, Birlasoft, 5-10Yrs, sap, develo...</td>\n",
       "    </tr>\n",
       "    <tr>\n",
       "      <th>32735</th>\n",
       "      <td>32735</td>\n",
       "      <td>Package Consultant: SAP SCM GTS</td>\n",
       "      <td>IBM</td>\n",
       "      <td>[PackageConsultant:SAPSCMGTS, IBM, 6-10Yrs, ex...</td>\n",
       "    </tr>\n",
       "    <tr>\n",
       "      <th>32736</th>\n",
       "      <td>32736</td>\n",
       "      <td>Associate Manager-Marketing Operations</td>\n",
       "      <td>Accenture</td>\n",
       "      <td>[AssociateManager-MarketingOperations, Accentu...</td>\n",
       "    </tr>\n",
       "    <tr>\n",
       "      <th>32737</th>\n",
       "      <td>32737</td>\n",
       "      <td>Package Consultant: SAP SCM GTS</td>\n",
       "      <td>IBM</td>\n",
       "      <td>[PackageConsultant:SAPSCMGTS, IBM, 6-10Yrs, ex...</td>\n",
       "    </tr>\n",
       "  </tbody>\n",
       "</table>\n",
       "<p>32732 rows × 4 columns</p>\n",
       "</div>"
      ],
      "text/plain": [
       "       job_id                                        job_post  \\\n",
       "0           0                Information Technology Executive   \n",
       "1           1  Associate Director-Information Technology(SAP)   \n",
       "2           2                   Lead - Information Technology   \n",
       "3           3        Information Technology - Project Manager   \n",
       "4           4                  Information Technology Trainee   \n",
       "...       ...                                             ...   \n",
       "32733   32733                                  TIBCO Spotfire   \n",
       "32734   32734                                   Sr Consultant   \n",
       "32735   32735                 Package Consultant: SAP SCM GTS   \n",
       "32736   32736          Associate Manager-Marketing Operations   \n",
       "32737   32737                 Package Consultant: SAP SCM GTS   \n",
       "\n",
       "                  company                                               tags  \n",
       "0                Marriott  [InformationTechnologyExecutive, Marriott, 0-3...  \n",
       "1               Unacademy  [AssociateDirector-InformationTechnology(SAP),...  \n",
       "2               EchoIndia  [Lead-InformationTechnology, EchoIndia, 11-13Y...  \n",
       "3      Tata International  [InformationTechnology-ProjectManager, TataInt...  \n",
       "4               Stefanini  [InformationTechnologyTrainee, Stefanini, 2-7Y...  \n",
       "...                   ...                                                ...  \n",
       "32733           Birlasoft  [TIBCOSpotfire, Birlasoft, 4-9Yrs, jd, tibco, ...  \n",
       "32734           Birlasoft  [SrConsultant, Birlasoft, 5-10Yrs, sap, develo...  \n",
       "32735                 IBM  [PackageConsultant:SAPSCMGTS, IBM, 6-10Yrs, ex...  \n",
       "32736           Accenture  [AssociateManager-MarketingOperations, Accentu...  \n",
       "32737                 IBM  [PackageConsultant:SAPSCMGTS, IBM, 6-10Yrs, ex...  \n",
       "\n",
       "[32732 rows x 4 columns]"
      ]
     },
     "execution_count": 87,
     "metadata": {},
     "output_type": "execute_result"
    }
   ],
   "source": [
    "jobs_preprocessed_df"
   ]
  },
  {
   "cell_type": "markdown",
   "id": "b608f8f5",
   "metadata": {},
   "source": [
    "we have our 2 datasets ready, we will combine these datasets into one for autoencoder training, so that we resduce dimentionality of our system"
   ]
  },
  {
   "cell_type": "code",
   "execution_count": 88,
   "id": "7982f4f1",
   "metadata": {},
   "outputs": [],
   "source": [
    "data = pd.DataFrame()\n",
    "data['tags'] = pd.concat([jobs_preprocessed_df['tags'],candidates['tags']], axis=0).reset_index(drop=True)"
   ]
  },
  {
   "cell_type": "code",
   "execution_count": 89,
   "id": "5561bccf",
   "metadata": {},
   "outputs": [
    {
     "data": {
      "text/html": [
       "<div>\n",
       "<style scoped>\n",
       "    .dataframe tbody tr th:only-of-type {\n",
       "        vertical-align: middle;\n",
       "    }\n",
       "\n",
       "    .dataframe tbody tr th {\n",
       "        vertical-align: top;\n",
       "    }\n",
       "\n",
       "    .dataframe thead th {\n",
       "        text-align: right;\n",
       "    }\n",
       "</style>\n",
       "<table border=\"1\" class=\"dataframe\">\n",
       "  <thead>\n",
       "    <tr style=\"text-align: right;\">\n",
       "      <th></th>\n",
       "      <th>tags</th>\n",
       "    </tr>\n",
       "  </thead>\n",
       "  <tbody>\n",
       "    <tr>\n",
       "      <th>0</th>\n",
       "      <td>[InformationTechnologyExecutive, Marriott, 0-3...</td>\n",
       "    </tr>\n",
       "    <tr>\n",
       "      <th>1</th>\n",
       "      <td>[AssociateDirector-InformationTechnology(SAP),...</td>\n",
       "    </tr>\n",
       "    <tr>\n",
       "      <th>2</th>\n",
       "      <td>[Lead-InformationTechnology, EchoIndia, 11-13Y...</td>\n",
       "    </tr>\n",
       "    <tr>\n",
       "      <th>3</th>\n",
       "      <td>[InformationTechnology-ProjectManager, TataInt...</td>\n",
       "    </tr>\n",
       "    <tr>\n",
       "      <th>4</th>\n",
       "      <td>[InformationTechnologyTrainee, Stefanini, 2-7Y...</td>\n",
       "    </tr>\n",
       "    <tr>\n",
       "      <th>...</th>\n",
       "      <td>...</td>\n",
       "    </tr>\n",
       "    <tr>\n",
       "      <th>62507</th>\n",
       "      <td>[system, administr, system, administr, system,...</td>\n",
       "    </tr>\n",
       "    <tr>\n",
       "      <th>62508</th>\n",
       "      <td>[nexxgenesi, network, solut, product, manag, n...</td>\n",
       "    </tr>\n",
       "    <tr>\n",
       "      <th>62509</th>\n",
       "      <td>[databas, administr, databas, administr, datab...</td>\n",
       "    </tr>\n",
       "    <tr>\n",
       "      <th>62510</th>\n",
       "      <td>[specialist, specialist, specialist, fortitud,...</td>\n",
       "    </tr>\n",
       "    <tr>\n",
       "      <th>62511</th>\n",
       "      <td>[integr, integr, integr, support, oakwood, ga,...</td>\n",
       "    </tr>\n",
       "  </tbody>\n",
       "</table>\n",
       "<p>62512 rows × 1 columns</p>\n",
       "</div>"
      ],
      "text/plain": [
       "                                                    tags\n",
       "0      [InformationTechnologyExecutive, Marriott, 0-3...\n",
       "1      [AssociateDirector-InformationTechnology(SAP),...\n",
       "2      [Lead-InformationTechnology, EchoIndia, 11-13Y...\n",
       "3      [InformationTechnology-ProjectManager, TataInt...\n",
       "4      [InformationTechnologyTrainee, Stefanini, 2-7Y...\n",
       "...                                                  ...\n",
       "62507  [system, administr, system, administr, system,...\n",
       "62508  [nexxgenesi, network, solut, product, manag, n...\n",
       "62509  [databas, administr, databas, administr, datab...\n",
       "62510  [specialist, specialist, specialist, fortitud,...\n",
       "62511  [integr, integr, integr, support, oakwood, ga,...\n",
       "\n",
       "[62512 rows x 1 columns]"
      ]
     },
     "execution_count": 89,
     "metadata": {},
     "output_type": "execute_result"
    }
   ],
   "source": [
    "data"
   ]
  },
  {
   "cell_type": "code",
   "execution_count": 90,
   "id": "ac56782f",
   "metadata": {},
   "outputs": [],
   "source": [
    "from sklearn.feature_extraction.text import TfidfVectorizer"
   ]
  },
  {
   "cell_type": "code",
   "execution_count": 91,
   "id": "beb80078",
   "metadata": {},
   "outputs": [],
   "source": [
    "data['tags'] = data['tags'].apply(lambda x:\" \".join(x))"
   ]
  },
  {
   "cell_type": "code",
   "execution_count": 92,
   "id": "c90ecfc7",
   "metadata": {},
   "outputs": [],
   "source": [
    "data['tags'] = data['tags'].apply(lambda x:x.lower())"
   ]
  },
  {
   "cell_type": "code",
   "execution_count": 93,
   "id": "5255fb19",
   "metadata": {},
   "outputs": [
    {
     "data": {
      "text/html": [
       "<div>\n",
       "<style scoped>\n",
       "    .dataframe tbody tr th:only-of-type {\n",
       "        vertical-align: middle;\n",
       "    }\n",
       "\n",
       "    .dataframe tbody tr th {\n",
       "        vertical-align: top;\n",
       "    }\n",
       "\n",
       "    .dataframe thead th {\n",
       "        text-align: right;\n",
       "    }\n",
       "</style>\n",
       "<table border=\"1\" class=\"dataframe\">\n",
       "  <thead>\n",
       "    <tr style=\"text-align: right;\">\n",
       "      <th></th>\n",
       "      <th>tags</th>\n",
       "    </tr>\n",
       "  </thead>\n",
       "  <tbody>\n",
       "    <tr>\n",
       "      <th>0</th>\n",
       "      <td>informationtechnologyexecutive marriott 0-3yrs...</td>\n",
       "    </tr>\n",
       "    <tr>\n",
       "      <th>1</th>\n",
       "      <td>associatedirector-informationtechnology(sap) u...</td>\n",
       "    </tr>\n",
       "    <tr>\n",
       "      <th>2</th>\n",
       "      <td>lead-informationtechnology echoindia 11-13yrs ...</td>\n",
       "    </tr>\n",
       "    <tr>\n",
       "      <th>3</th>\n",
       "      <td>informationtechnology-projectmanager tatainter...</td>\n",
       "    </tr>\n",
       "    <tr>\n",
       "      <th>4</th>\n",
       "      <td>informationtechnologytrainee stefanini 2-7yrs ...</td>\n",
       "    </tr>\n",
       "    <tr>\n",
       "      <th>...</th>\n",
       "      <td>...</td>\n",
       "    </tr>\n",
       "    <tr>\n",
       "      <th>62507</th>\n",
       "      <td>system administr system administr system admin...</td>\n",
       "    </tr>\n",
       "    <tr>\n",
       "      <th>62508</th>\n",
       "      <td>nexxgenesi network solut product manag nexxgen...</td>\n",
       "    </tr>\n",
       "    <tr>\n",
       "      <th>62509</th>\n",
       "      <td>databas administr databas administr databas ad...</td>\n",
       "    </tr>\n",
       "    <tr>\n",
       "      <th>62510</th>\n",
       "      <td>specialist specialist specialist fortitud syst...</td>\n",
       "    </tr>\n",
       "    <tr>\n",
       "      <th>62511</th>\n",
       "      <td>integr integr integr support oakwood ga driven...</td>\n",
       "    </tr>\n",
       "  </tbody>\n",
       "</table>\n",
       "<p>62512 rows × 1 columns</p>\n",
       "</div>"
      ],
      "text/plain": [
       "                                                    tags\n",
       "0      informationtechnologyexecutive marriott 0-3yrs...\n",
       "1      associatedirector-informationtechnology(sap) u...\n",
       "2      lead-informationtechnology echoindia 11-13yrs ...\n",
       "3      informationtechnology-projectmanager tatainter...\n",
       "4      informationtechnologytrainee stefanini 2-7yrs ...\n",
       "...                                                  ...\n",
       "62507  system administr system administr system admin...\n",
       "62508  nexxgenesi network solut product manag nexxgen...\n",
       "62509  databas administr databas administr databas ad...\n",
       "62510  specialist specialist specialist fortitud syst...\n",
       "62511  integr integr integr support oakwood ga driven...\n",
       "\n",
       "[62512 rows x 1 columns]"
      ]
     },
     "execution_count": 93,
     "metadata": {},
     "output_type": "execute_result"
    }
   ],
   "source": [
    "data"
   ]
  },
  {
   "cell_type": "code",
   "execution_count": 94,
   "id": "5b1b6952",
   "metadata": {},
   "outputs": [],
   "source": [
    "data.to_csv('encoder_training_data.csv',index=\"False\")"
   ]
  },
  {
   "cell_type": "code",
   "execution_count": 95,
   "id": "86725354",
   "metadata": {},
   "outputs": [],
   "source": [
    "tfidf_vectorizer = TfidfVectorizer(max_features=5000)"
   ]
  },
  {
   "cell_type": "code",
   "execution_count": 96,
   "id": "d922600e",
   "metadata": {},
   "outputs": [],
   "source": [
    "tfidf_matrix = tfidf_vectorizer.fit_transform(data['tags']).toarray()"
   ]
  },
  {
   "cell_type": "code",
   "execution_count": 97,
   "id": "5e73a5bb",
   "metadata": {},
   "outputs": [
    {
     "data": {
      "text/plain": [
       "array([[0., 0., 0., ..., 0., 0., 0.],\n",
       "       [0., 0., 0., ..., 0., 0., 0.],\n",
       "       [0., 0., 0., ..., 0., 0., 0.],\n",
       "       ...,\n",
       "       [0., 0., 0., ..., 0., 0., 0.],\n",
       "       [0., 0., 0., ..., 0., 0., 0.],\n",
       "       [0., 0., 0., ..., 0., 0., 0.]])"
      ]
     },
     "execution_count": 97,
     "metadata": {},
     "output_type": "execute_result"
    }
   ],
   "source": [
    "tfidf_matrix"
   ]
  },
  {
   "cell_type": "code",
   "execution_count": 98,
   "id": "b9cfbe12",
   "metadata": {},
   "outputs": [
    {
     "name": "stdout",
     "output_type": "stream",
     "text": [
      "Number of non-zero elements: 2471647\n",
      "Sparsity: 0.99\n"
     ]
    }
   ],
   "source": [
    "non_zero_count = np.count_nonzero(tfidf_matrix)\n",
    "print(f\"Number of non-zero elements: {non_zero_count}\")\n",
    "\n",
    "# Check the sparsity of the matrix\n",
    "sparsity = 1 - non_zero_count / (tfidf_matrix.shape[0] * tfidf_matrix.shape[1])\n",
    "print(f\"Sparsity: {sparsity:.2f}\")"
   ]
  },
  {
   "cell_type": "code",
   "execution_count": 99,
   "id": "94ce831d",
   "metadata": {},
   "outputs": [
    {
     "name": "stdout",
     "output_type": "stream",
     "text": [
      "Sample feature names: ['07' '09' '0yrs' '10' '10yrs' '11' '11yrs' '12' '12yrs' '13']\n"
     ]
    }
   ],
   "source": [
    "feature_names = tfidf_vectorizer.get_feature_names_out()\n",
    "\n",
    "# Print a few feature names to inspect\n",
    "print(\"Sample feature names:\", feature_names[:10])"
   ]
  },
  {
   "cell_type": "code",
   "execution_count": 100,
   "id": "3b239922",
   "metadata": {},
   "outputs": [
    {
     "name": "stdout",
     "output_type": "stream",
     "text": [
      "TF-IDF matrix shape: (62512, 5000)\n"
     ]
    }
   ],
   "source": [
    "print(f\"TF-IDF matrix shape: {tfidf_matrix.shape}\")"
   ]
  },
  {
   "cell_type": "code",
   "execution_count": 101,
   "id": "c06ea611",
   "metadata": {},
   "outputs": [
    {
     "name": "stdout",
     "output_type": "stream",
     "text": [
      "First row TF-IDF values: [0. 0. 0. ... 0. 0. 0.]\n",
      "Non-zero TF-IDF values in the first row: {'3yrs': 0.22872270205092232, 'administr': 0.1399765185146757, 'alloc': 0.32279741199189455, 'execut': 0.2154098385665194, 'inform': 0.13604378931371477, 'issu': 0.2052057003443093, 'manag': 0.10156889953262029, 'plan': 0.1843029770660919, 'posit': 0.2356215443153351, 'problem': 0.2029769987544826, 'relat': 0.19994062353577818, 'resolv': 0.24567112783177986, 'resourc': 0.23103919983518015, 'schedul': 0.23211476540553208, 'server': 0.13646016803289965, 'summari': 0.26086584298912857, 'supervisor': 0.2672351501664257, 'support': 0.14747432017357232, 'tactic': 0.3493200890861771, 'technic': 0.12762973388168367, 'technolog': 0.12406497602285509, 'troubleshoot': 0.18640291575388687}\n"
     ]
    }
   ],
   "source": [
    "# Inspect the first row of the TF-IDF matrix\n",
    "print(\"First row TF-IDF values:\", tfidf_matrix[0])\n",
    "\n",
    "# Combine the feature names with their corresponding TF-IDF values\n",
    "first_row_dict = dict(zip(feature_names, tfidf_matrix[0]))\n",
    "\n",
    "# Print the non-zero TF-IDF values for the first document\n",
    "non_zero_features = {word: tfidf_value for word, tfidf_value in first_row_dict.items() if tfidf_value > 0}\n",
    "print(\"Non-zero TF-IDF values in the first row:\", non_zero_features)"
   ]
  },
  {
   "cell_type": "code",
   "execution_count": 120,
   "id": "2d8ac960",
   "metadata": {},
   "outputs": [
    {
     "name": "stdout",
     "output_type": "stream",
     "text": [
      "Epoch 1/30\n",
      "196/196 [==============================] - 34s 155ms/step - loss: 0.0685 - val_loss: 0.0093\n",
      "Epoch 2/30\n",
      "196/196 [==============================] - 27s 136ms/step - loss: 0.0064 - val_loss: 0.0086\n",
      "Epoch 3/30\n",
      "196/196 [==============================] - 27s 140ms/step - loss: 0.0064 - val_loss: 0.0086\n",
      "Epoch 4/30\n",
      "196/196 [==============================] - 27s 138ms/step - loss: 0.0064 - val_loss: 0.0086\n",
      "Epoch 5/30\n",
      "196/196 [==============================] - 25s 129ms/step - loss: 0.0063 - val_loss: 0.0083\n",
      "Epoch 6/30\n",
      "196/196 [==============================] - 20s 103ms/step - loss: 0.0062 - val_loss: 0.0083\n",
      "Epoch 7/30\n",
      "196/196 [==============================] - 26s 133ms/step - loss: 0.0061 - val_loss: 0.0083\n",
      "Epoch 8/30\n",
      "196/196 [==============================] - 27s 137ms/step - loss: 0.0061 - val_loss: 0.0082\n",
      "Epoch 9/30\n",
      "196/196 [==============================] - 28s 143ms/step - loss: 0.0060 - val_loss: 0.0080\n",
      "Epoch 10/30\n",
      "196/196 [==============================] - 28s 144ms/step - loss: 0.0059 - val_loss: 0.0080\n",
      "Epoch 11/30\n",
      "196/196 [==============================] - 17s 85ms/step - loss: 0.0058 - val_loss: 0.0079\n",
      "Epoch 12/30\n",
      "196/196 [==============================] - 24s 123ms/step - loss: 0.0057 - val_loss: 0.0079\n",
      "Epoch 13/30\n",
      "196/196 [==============================] - 17s 86ms/step - loss: 0.0057 - val_loss: 0.0078\n",
      "Epoch 14/30\n",
      "196/196 [==============================] - 26s 134ms/step - loss: 0.0056 - val_loss: 0.0077\n",
      "Epoch 15/30\n",
      "196/196 [==============================] - 27s 137ms/step - loss: 0.0056 - val_loss: 0.0077\n",
      "Epoch 16/30\n",
      "196/196 [==============================] - 27s 135ms/step - loss: 0.0055 - val_loss: 0.0077\n",
      "Epoch 17/30\n",
      "196/196 [==============================] - 27s 135ms/step - loss: 0.0055 - val_loss: 0.0076\n",
      "Epoch 18/30\n",
      "196/196 [==============================] - 27s 140ms/step - loss: 0.0054 - val_loss: 0.0076\n",
      "Epoch 19/30\n",
      "196/196 [==============================] - 27s 137ms/step - loss: 0.0054 - val_loss: 0.0075\n",
      "Epoch 20/30\n",
      "196/196 [==============================] - 27s 136ms/step - loss: 0.0053 - val_loss: 0.0075\n",
      "Epoch 21/30\n",
      "196/196 [==============================] - 27s 139ms/step - loss: 0.0053 - val_loss: 0.0075\n",
      "Epoch 22/30\n",
      "196/196 [==============================] - 15s 77ms/step - loss: 0.0052 - val_loss: 0.0075\n",
      "Epoch 23/30\n",
      "196/196 [==============================] - 25s 128ms/step - loss: 0.0052 - val_loss: 0.0074\n",
      "Epoch 24/30\n",
      "196/196 [==============================] - 25s 126ms/step - loss: 0.0051 - val_loss: 0.0074\n",
      "Epoch 25/30\n",
      "196/196 [==============================] - 16s 81ms/step - loss: 0.0051 - val_loss: 0.0074\n",
      "Epoch 26/30\n",
      "196/196 [==============================] - 26s 134ms/step - loss: 0.0050 - val_loss: 0.0074\n",
      "Epoch 27/30\n",
      "196/196 [==============================] - 26s 134ms/step - loss: 0.0050 - val_loss: 0.0073\n",
      "Epoch 28/30\n",
      "196/196 [==============================] - 27s 136ms/step - loss: 0.0049 - val_loss: 0.0073\n",
      "Epoch 29/30\n",
      "196/196 [==============================] - 26s 133ms/step - loss: 0.0049 - val_loss: 0.0073\n",
      "Epoch 30/30\n",
      "196/196 [==============================] - 20s 103ms/step - loss: 0.0048 - val_loss: 0.0072\n"
     ]
    }
   ],
   "source": [
    "from keras.models import Model\n",
    "from keras.layers import Input, Dense\n",
    "\n",
    "# Define the size of the latent space\n",
    "latent_dim = 500 \n",
    "\n",
    "# Define the autoencoder architecture\n",
    "input_layer = Input(shape=(tfidf_matrix.shape[1],))\n",
    "encoded = Dense(256, activation='relu')(input_layer)\n",
    "encoded = Dense(128, activation='relu')(encoded)\n",
    "\n",
    "encoded = Dense(latent_dim, activation='relu')(encoded)\n",
    "\n",
    "decoded = Dense(128, activation='relu')(encoded)\n",
    "decoded = Dense(256, activation='relu')(decoded)\n",
    "decoded = Dense(tfidf_matrix.shape[1], activation='sigmoid')(decoded)\n",
    "\n",
    "# Build the autoencoder model\n",
    "autoencoder = Model(input_layer, decoded)\n",
    "\n",
    "# Build the encoder model (to extract latent features)\n",
    "encoder = Model(input_layer, encoded)\n",
    "\n",
    "# Compile the autoencoder\n",
    "autoencoder.compile(optimizer='adam', loss='binary_crossentropy')\n",
    "\n",
    "# Train the autoencoder\n",
    "history = autoencoder.fit(tfidf_matrix, tfidf_matrix,\n",
    "                          epochs=30,\n",
    "                          batch_size=256,\n",
    "                          shuffle=True,\n",
    "                          validation_split=0.2)\n"
   ]
  },
  {
   "cell_type": "code",
   "execution_count": 121,
   "id": "d5cfb667",
   "metadata": {},
   "outputs": [
    {
     "name": "stdout",
     "output_type": "stream",
     "text": [
      "1954/1954 [==============================] - 9s 4ms/step\n"
     ]
    }
   ],
   "source": [
    "latent_features = encoder.predict(tfidf_matrix)"
   ]
  },
  {
   "cell_type": "code",
   "execution_count": 122,
   "id": "cadf476b",
   "metadata": {},
   "outputs": [
    {
     "data": {
      "text/plain": [
       "(62512, 500)"
      ]
     },
     "execution_count": 122,
     "metadata": {},
     "output_type": "execute_result"
    }
   ],
   "source": [
    "latent_features.shape"
   ]
  },
  {
   "cell_type": "code",
   "execution_count": 123,
   "id": "3724e19f",
   "metadata": {},
   "outputs": [],
   "source": [
    "np.save('latent_features.npy',latent_features)"
   ]
  },
  {
   "cell_type": "code",
   "execution_count": 140,
   "id": "5093ce64",
   "metadata": {},
   "outputs": [
    {
     "data": {
      "image/png": "[encoded data removed]",
      "text/plain": [
       "<Figure size 600x600 with 1 Axes>"
      ]
     },
     "metadata": {},
     "output_type": "display_data"
    }
   ],
   "source": [
    "plt.figure(figsize=(6, 6))\n",
    "plt.plot(history.history['loss'], label='Training Loss')\n",
    "plt.plot(history.history['val_loss'], label='Validation Loss')\n",
    "plt.title('Model Loss over Epochs')\n",
    "plt.xlabel('Epochs')\n",
    "plt.ylabel('Loss')\n",
    "plt.legend(loc='upper right')\n",
    "plt.grid(False)\n",
    "plt.show()\n"
   ]
  },
  {
   "cell_type": "code",
   "execution_count": 124,
   "id": "9800f9a9",
   "metadata": {},
   "outputs": [
    {
     "name": "stdout",
     "output_type": "stream",
     "text": [
      "1954/1954 [==============================] - 20s 10ms/step\n"
     ]
    },
    {
     "data": {
      "image/png": "[encoded data removed]",
      "text/plain": [
       "<Figure size 640x480 with 1 Axes>"
      ]
     },
     "metadata": {},
     "output_type": "display_data"
    }
   ],
   "source": [
    "reconstruction_error = np.mean(np.square(tfidf_matrix - autoencoder.predict(tfidf_matrix)), axis=1)\n",
    "plt.hist(reconstruction_error, bins=50)\n",
    "plt.xlabel('Reconstruction Error')\n",
    "plt.ylabel('Frequency')\n",
    "plt.show()"
   ]
  },
  {
   "cell_type": "code",
   "execution_count": 125,
   "id": "c49ebc19",
   "metadata": {},
   "outputs": [
    {
     "name": "stdout",
     "output_type": "stream",
     "text": [
      "1954/1954 [==============================] - 19s 9ms/step\n",
      "Mean Squared Error: 0.00014736178633557197\n"
     ]
    }
   ],
   "source": [
    "mse = np.mean(np.square(tfidf_matrix - autoencoder.predict(tfidf_matrix)))\n",
    "print(f'Mean Squared Error: {mse}')"
   ]
  },
  {
   "cell_type": "code",
   "execution_count": 107,
   "id": "32ced963",
   "metadata": {},
   "outputs": [],
   "source": [
    "from sklearn.metrics.pairwise import cosine_similarity\n",
    "similarity_matrix = cosine_similarity(latent_features)"
   ]
  },
  {
   "cell_type": "code",
   "execution_count": 108,
   "id": "1ce7a9fa",
   "metadata": {},
   "outputs": [
    {
     "data": {
      "text/plain": [
       "'POSITION SUMMARY Troubleshoot and resolve technical problems or issues related to compu...'"
      ]
     },
     "execution_count": 108,
     "metadata": {},
     "output_type": "execute_result"
    }
   ],
   "source": [
    "job_profiles.iloc[0].job_description"
   ]
  },
  {
   "cell_type": "code",
   "execution_count": 149,
   "id": "d7a047d8",
   "metadata": {},
   "outputs": [
    {
     "name": "stdout",
     "output_type": "stream",
     "text": [
      "1/1 [==============================] - 0s 46ms/step\n",
      "                                                job_post  \\\n",
      "17723        Front End Developer/Manager- Siemens, Pune.   \n",
      "27322           Sr Software Engineer(Java Angular/react)   \n",
      "1881   Tech Lead, Software Development Engineering (I...   \n",
      "11989               Senior Engineering Manager - 1 (iOS)   \n",
      "613                                    Software Engineer   \n",
      "961                          Software Engineer III - IOS   \n",
      "14750                Software Developer-C++, QT, Python.   \n",
      "21052                                SME App Development   \n",
      "18529  Hiring: Talent Acquisition - Senior Executive/...   \n",
      "22204                             Cloud Support Engineer   \n",
      "\n",
      "                                                 company  company_rating  \\\n",
      "17723                                            Siemens             4.2   \n",
      "27322  Gartner India Research &amp; Advisory Services...             4.1   \n",
      "1881                                              Fiserv             3.9   \n",
      "11989                                            Walmart             4.2   \n",
      "613                                  Appray Technologies             4.4   \n",
      "961                                              Walmart             4.2   \n",
      "14750                      IIC Technologies Private Ltd.             3.7   \n",
      "21052                                          Microland             3.8   \n",
      "18529                                    Espire Infolabs             3.4   \n",
      "22204                                             Oracle             3.9   \n",
      "\n",
      "        company_review exp_required salary_offered  \\\n",
      "17723   (2909 Reviews)     5-10 Yrs  Not disclosed   \n",
      "27322    (153 Reviews)      5-8 Yrs  Not disclosed   \n",
      "1881    (1337 Reviews)      4-7 Yrs  Not disclosed   \n",
      "11989  (10484 Reviews)     8-12 Yrs  Not disclosed   \n",
      "613        (2 Reviews)      1-3 Yrs  Not disclosed   \n",
      "961    (10466 Reviews)      3-5 Yrs  Not disclosed   \n",
      "14750    (280 Reviews)      2-4 Yrs  Not disclosed   \n",
      "21052    (869 Reviews)      2-6 Yrs  Not disclosed   \n",
      "18529    (139 Reviews)     6-10 Yrs  Not disclosed   \n",
      "22204   (3300 Reviews)      2-7 Yrs  Not disclosed   \n",
      "\n",
      "                       job_location  \\\n",
      "17723  Hyderabad/Secunderabad, Pune   \n",
      "27322              Gurgaon/Gurugram   \n",
      "1881                           Pune   \n",
      "11989           Bangalore/Bengaluru   \n",
      "613                      Coimbatore   \n",
      "961             Bangalore/Bengaluru   \n",
      "14750        Hyderabad/Secunderabad   \n",
      "21052                          Pune   \n",
      "18529              Gurgaon/Gurugram   \n",
      "22204           Bangalore/Bengaluru   \n",
      "\n",
      "                                         job_description  \\\n",
      "17723  Job Responsibility Siemens Digital Industries ...   \n",
      "27322  What you ll do: Responsible to review and anal...   \n",
      "1881   Experience with modern programming principles,...   \n",
      "11989  As a Senior Engineering Manager, you would be ...   \n",
      "613    Mitech is looking for a summer intern to work ...   \n",
      "961    Proficient with design patterns and data struc...   \n",
      "14750  Write the requirement and design documents as ...   \n",
      "21052  This position supports and transforms existing...   \n",
      "18529  Must be a good negotiatorHands-on experience w...   \n",
      "22204  Shift Timing: Starts at 1:30 PM/ Starts at 5:3...   \n",
      "\n",
      "                                         required_skills  \\\n",
      "17723  JQuery\\nIT Skills\\nJava\\nSoftware Development\\...   \n",
      "27322  webservice\\nAgile\\nScrum\\nPL / SQL\\ncloud data...   \n",
      "1881   IT Skills\\nSoftware Development\\nTesting\\nComp...   \n",
      "11989  IT Skills\\nSoftware Development\\nProject Manag...   \n",
      "613    IT services\\nOperating systems\\nWeb developmen...   \n",
      "961    SOLID\\nwritten communication\\nXCUI\\nSwift\\nXco...   \n",
      "14750  c++\\npython\\nQT\\nIT Skills\\nSoftware Developme...   \n",
      "21052  IT Skills\\nJava\\nTesting\\nCloud\\nDevOps\\nAzure...   \n",
      "18529         Recruiter\\nTalent Acquisition\\nRecruitment   \n",
      "22204  Issue\\nSupport\\nProduction\\nresolution\\nSQL\\nI...   \n",
      "\n",
      "      Posted_as_on_22_5_2022  job_id  \n",
      "17723            28 DAYS AGO   17723  \n",
      "27322           30+ DAYS AGO   27322  \n",
      "1881              2 DAYS AGO    1881  \n",
      "11989           30+ DAYS AGO   11989  \n",
      "613             30+ DAYS AGO     613  \n",
      "961             30+ DAYS AGO     961  \n",
      "14750           30+ DAYS AGO   14750  \n",
      "21052           30+ DAYS AGO   21052  \n",
      "18529             6 DAYS AGO   18529  \n",
      "22204           30+ DAYS AGO   22204  \n"
     ]
    }
   ],
   "source": [
    "def recommend_jobs_for_resume(new_resume, top_n=10):\n",
    "    # Preprocess and vectorize the new resume\n",
    "    new_resume_tfidf = tfidf_vectorizer.transform([new_resume]).toarray()\n",
    "    \n",
    "    # Encode the new resume using the trained encoder\n",
    "    new_resume_encoded = encoder.predict(new_resume_tfidf)\n",
    "    \n",
    "    # Calculate cosine similarity with all jobs\n",
    "    similarities = cosine_similarity(new_resume_encoded, latent_features[:jobs_preprocessed_df.shape[0]])\n",
    "    \n",
    "    # Get indices of top N jobs\n",
    "    top_n_indices = np.argsort(similarities.flatten())[::-1][:top_n]\n",
    "    \n",
    "    # Return the top N jobs\n",
    "    return job_profiles.iloc[top_n_indices]\n",
    "\n",
    "# Example usage\n",
    "\n",
    "new_resume = \"Skilled in Python, Machine Learning, Data Science with experience in TensorFlow and Keras.\"\n",
    "top_jobs = recommend_jobs_for_resume(new_resume, top_n=10)\n",
    "print(top_jobs)\n"
   ]
  },
  {
   "cell_type": "code",
   "execution_count": 159,
   "id": "4fe378f7",
   "metadata": {},
   "outputs": [],
   "source": [
    "import pickle"
   ]
  },
  {
   "cell_type": "code",
   "execution_count": 213,
   "id": "bb4aaad1",
   "metadata": {},
   "outputs": [],
   "source": [
    "with open('tfidf_vectorizer.pkl', 'wb') as f:\n",
    "    pickle.dump(tfidf_vectorizer, f)"
   ]
  },
  {
   "cell_type": "code",
   "execution_count": 218,
   "id": "a7b7243e",
   "metadata": {},
   "outputs": [
    {
     "name": "stdout",
     "output_type": "stream",
     "text": [
      "WARNING:tensorflow:Compiled the loaded model, but the compiled metrics have yet to be built. `model.compile_metrics` will be empty until you train or evaluate the model.\n"
     ]
    },
    {
     "name": "stderr",
     "output_type": "stream",
     "text": [
      "C:\\Users\\thumm\\AppData\\Roaming\\Python\\Python311\\site-packages\\keras\\src\\engine\\training.py:3103: UserWarning: You are saving your model as an HDF5 file via `model.save()`. This file format is considered legacy. We recommend using instead the native Keras format, e.g. `model.save('my_model.keras')`.\n",
      "  saving_api.save_model(\n"
     ]
    }
   ],
   "source": [
    "encoder.save('autoencoder_model.h5')"
   ]
  },
  {
   "cell_type": "code",
   "execution_count": 215,
   "id": "17412e34",
   "metadata": {},
   "outputs": [],
   "source": [
    "def preprocess_text(text):\n",
    "    # Convert to lowercase\n",
    "    text = text.lower()\n",
    "    \n",
    "    # Remove special characters and numbers\n",
    "    text = re.sub(r'\\W+', ' ', text)\n",
    "    \n",
    "    # Tokenize words\n",
    "    words = text.split()\n",
    "    \n",
    "    # Remove stopwords\n",
    "    stop_words = set(stopwords.words('english'))\n",
    "    words = [word for word in words if word not in stop_words]\n",
    "    \n",
    "    # Stemming and Lemmatization\n",
    "    ps = PorterStemmer()\n",
    "    lemmatizer = WordNetLemmatizer()\n",
    "    \n",
    "    words = [lemmatizer.lemmatize(ps.stem(word)) for word in words]\n",
    "    \n",
    "    # Rejoin words into a single string\n",
    "    return ' '.join(words)"
   ]
  },
  {
   "cell_type": "code",
   "execution_count": 216,
   "id": "5193398e",
   "metadata": {},
   "outputs": [],
   "source": [
    "\n",
    "# For recommending jobs for a given resume\n",
    "def recommend_jobs_for_resume(new_resume, top_n=10):\n",
    "    # Preprocess and vectorize the new resume\n",
    "    new_resume_tfidf = tfidf_vectorizer.transform([new_resume]).toarray()\n",
    "    \n",
    "    # Encode the new resume using the trained encoder\n",
    "    new_resume_encoded = encoder.predict(new_resume_tfidf)\n",
    "\n",
    "    print(\"Shape of new_resume_encoded:\", new_resume_encoded.shape)\n",
    "    print(\"Shape of new_job_encoded:\", latent_features[:job_profiles.shape[0]].shape)\n",
    "    \n",
    "    # Calculate cosine similarity with all jobs\n",
    "    similarities = cosine_similarity(new_resume_encoded, latent_features[:job_profiles.shape[0]])\n",
    "    \n",
    "    # Get indices of top N jobs\n",
    "    top_n_indices = np.argsort(similarities.flatten())[::-1][:top_n]\n",
    "    \n",
    "    # Return the top N jobs\n",
    "    return job_profiles.iloc[top_n_indices]"
   ]
  }
 ],
 "metadata": {
  "kernelspec": {
   "display_name": "Python 3 (ipykernel)",
   "language": "python",
   "name": "python3"
  },
  "language_info": {
   "codemirror_mode": {
    "name": "ipython",
    "version": 3
   },
   "file_extension": ".py",
   "mimetype": "text/x-python",
   "name": "python",
   "nbconvert_exporter": "python",
   "pygments_lexer": "ipython3",
   "version": "3.11.4"
  }
 },
 "nbformat": 4,
 "nbformat_minor": 5
}
