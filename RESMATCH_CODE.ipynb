{
 "cells": [
  {
   "cell_type": "code",
   "execution_count": 137,
   "id": "767c5eba",
   "metadata": {},
   "outputs": [],
   "source": [
    "import pandas as pd\n",
    "import numpy as np\n",
    "import matplotlib.pyplot as plt\n",
    "\n",
    "#NLTK Libraries\n",
    "import nltk\n",
    "from nltk.corpus import stopwords\n",
    "from nltk.stem import PorterStemmer, WordNetLemmatizer\n",
    "\n",
    "from sklearn.feature_extraction.text import TfidfVectorizer"
   ]
  },
  {
   "cell_type": "code",
   "execution_count": 138,
   "id": "212bc950",
   "metadata": {},
   "outputs": [
    {
     "data": {
      "text/html": [
       "<div>\n",
       "<style scoped>\n",
       "    .dataframe tbody tr th:only-of-type {\n",
       "        vertical-align: middle;\n",
       "    }\n",
       "\n",
       "    .dataframe tbody tr th {\n",
       "        vertical-align: top;\n",
       "    }\n",
       "\n",
       "    .dataframe thead th {\n",
       "        text-align: right;\n",
       "    }\n",
       "</style>\n",
       "<table border=\"1\" class=\"dataframe\">\n",
       "  <thead>\n",
       "    <tr style=\"text-align: right;\">\n",
       "      <th></th>\n",
       "      <th>job_post</th>\n",
       "      <th>company</th>\n",
       "      <th>company_rating</th>\n",
       "      <th>company_review</th>\n",
       "      <th>exp_required</th>\n",
       "      <th>salary_offered</th>\n",
       "      <th>job_location</th>\n",
       "      <th>job_description</th>\n",
       "      <th>required_skills</th>\n",
       "      <th>Posted_as_on_22_5_2022</th>\n",
       "    </tr>\n",
       "  </thead>\n",
       "  <tbody>\n",
       "    <tr>\n",
       "      <th>0</th>\n",
       "      <td>Information Technology Executive</td>\n",
       "      <td>Marriott</td>\n",
       "      <td>4.2</td>\n",
       "      <td>(2907 Reviews)</td>\n",
       "      <td>0-3 Yrs</td>\n",
       "      <td>Not disclosed</td>\n",
       "      <td>Bhopal</td>\n",
       "      <td>POSITION SUMMARY Troubleshoot and resolve tech...</td>\n",
       "      <td>Supervisor\\nAdministration\\nTactical planning\\...</td>\n",
       "      <td>5 DAYS AGO</td>\n",
       "    </tr>\n",
       "    <tr>\n",
       "      <th>1</th>\n",
       "      <td>Associate Director-Information Technology(SAP)</td>\n",
       "      <td>Unacademy</td>\n",
       "      <td>3.4</td>\n",
       "      <td>(544 Reviews)</td>\n",
       "      <td>5-15 Yrs</td>\n",
       "      <td>Not disclosed</td>\n",
       "      <td>Noida, Greater Noida</td>\n",
       "      <td>Support / manage timely delivery of custom dev...</td>\n",
       "      <td>Relationship management\\nSAP MM\\nPharma\\nAnaly...</td>\n",
       "      <td>3 DAYS AGO</td>\n",
       "    </tr>\n",
       "    <tr>\n",
       "      <th>2</th>\n",
       "      <td>Lead - Information Technology</td>\n",
       "      <td>EchoIndia</td>\n",
       "      <td>4.0</td>\n",
       "      <td>(20 Reviews)</td>\n",
       "      <td>11-13 Yrs</td>\n",
       "      <td>Not disclosed</td>\n",
       "      <td>Delhi / NCR</td>\n",
       "      <td>Experience in designing modern REST APIs that ...</td>\n",
       "      <td>Spring\\nDocker\\nSystem Design\\nPaaS\\nMicroserv...</td>\n",
       "      <td>1 DAY AGO</td>\n",
       "    </tr>\n",
       "  </tbody>\n",
       "</table>\n",
       "</div>"
      ],
      "text/plain": [
       "                                         job_post    company  company_rating  \\\n",
       "0                Information Technology Executive   Marriott             4.2   \n",
       "1  Associate Director-Information Technology(SAP)  Unacademy             3.4   \n",
       "2                   Lead - Information Technology  EchoIndia             4.0   \n",
       "\n",
       "   company_review exp_required salary_offered          job_location  \\\n",
       "0  (2907 Reviews)      0-3 Yrs  Not disclosed                Bhopal   \n",
       "1   (544 Reviews)     5-15 Yrs  Not disclosed  Noida, Greater Noida   \n",
       "2    (20 Reviews)    11-13 Yrs  Not disclosed           Delhi / NCR   \n",
       "\n",
       "                                     job_description  \\\n",
       "0  POSITION SUMMARY Troubleshoot and resolve tech...   \n",
       "1  Support / manage timely delivery of custom dev...   \n",
       "2  Experience in designing modern REST APIs that ...   \n",
       "\n",
       "                                     required_skills Posted_as_on_22_5_2022  \n",
       "0  Supervisor\\nAdministration\\nTactical planning\\...             5 DAYS AGO  \n",
       "1  Relationship management\\nSAP MM\\nPharma\\nAnaly...             3 DAYS AGO  \n",
       "2  Spring\\nDocker\\nSystem Design\\nPaaS\\nMicroserv...              1 DAY AGO  "
      ]
     },
     "execution_count": 138,
     "metadata": {},
     "output_type": "execute_result"
    }
   ],
   "source": [
    "naukri_jobs_df = pd.read_csv('naukri_jobs_data.csv')\n",
    "naukri_jobs_df.head(3)"
   ]
  },
  {
   "cell_type": "code",
   "execution_count": 139,
   "id": "e3434609",
   "metadata": {},
   "outputs": [
    {
     "data": {
      "text/html": [
       "<div>\n",
       "<style scoped>\n",
       "    .dataframe tbody tr th:only-of-type {\n",
       "        vertical-align: middle;\n",
       "    }\n",
       "\n",
       "    .dataframe tbody tr th {\n",
       "        vertical-align: top;\n",
       "    }\n",
       "\n",
       "    .dataframe thead th {\n",
       "        text-align: right;\n",
       "    }\n",
       "</style>\n",
       "<table border=\"1\" class=\"dataframe\">\n",
       "  <thead>\n",
       "    <tr style=\"text-align: right;\">\n",
       "      <th></th>\n",
       "      <th>Text</th>\n",
       "      <th>Skills</th>\n",
       "      <th>Education</th>\n",
       "      <th>Experience</th>\n",
       "      <th>Additional_Information</th>\n",
       "      <th>Software_Developer</th>\n",
       "      <th>Front_End_Developer</th>\n",
       "      <th>Network_Administrator</th>\n",
       "      <th>Web_Developer</th>\n",
       "      <th>Project_manager</th>\n",
       "      <th>Database_Administrator</th>\n",
       "      <th>Security_Analyst</th>\n",
       "      <th>Systems_Administrator</th>\n",
       "      <th>Python_Developer</th>\n",
       "      <th>Java_Developer</th>\n",
       "      <th>Labels</th>\n",
       "    </tr>\n",
       "  </thead>\n",
       "  <tbody>\n",
       "    <tr>\n",
       "      <th>0</th>\n",
       "      <td>Inova IT Helpdesk Technician Inova IT Helpdesk...</td>\n",
       "      <td>Training Networking (6 years) VOIP (3 years)  ...</td>\n",
       "      <td>NaN</td>\n",
       "      <td>Inova IT Helpdesk Technician Inova Healthcare ...</td>\n",
       "      <td>CORE COMPETENCIES Tactical Data Network  Perso...</td>\n",
       "      <td>0</td>\n",
       "      <td>0</td>\n",
       "      <td>1</td>\n",
       "      <td>0</td>\n",
       "      <td>0</td>\n",
       "      <td>0</td>\n",
       "      <td>1</td>\n",
       "      <td>0</td>\n",
       "      <td>0</td>\n",
       "      <td>0</td>\n",
       "      <td>[2, 6]</td>\n",
       "    </tr>\n",
       "    <tr>\n",
       "      <th>1</th>\n",
       "      <td>ServiceNow Administrator/ BA ServiceNow Admini...</td>\n",
       "      <td>NC SQL (6 years) Pharmaceutical Product Devel...</td>\n",
       "      <td>Masters in Computer Science Towson University ...</td>\n",
       "      <td>ServiceNow Administrator/ BA Sabre - Southlake...</td>\n",
       "      <td>Technical Skill Set  ITSM Tools ServiceNow Ber...</td>\n",
       "      <td>1</td>\n",
       "      <td>0</td>\n",
       "      <td>0</td>\n",
       "      <td>0</td>\n",
       "      <td>0</td>\n",
       "      <td>0</td>\n",
       "      <td>0</td>\n",
       "      <td>0</td>\n",
       "      <td>1</td>\n",
       "      <td>0</td>\n",
       "      <td>[8, 0]</td>\n",
       "    </tr>\n",
       "    <tr>\n",
       "      <th>2</th>\n",
       "      <td>Oracle Database Administrator Oracle Database ...</td>\n",
       "      <td>databases (4 years) security (4 years) Oracle ...</td>\n",
       "      <td>Certification C.T.S.</td>\n",
       "      <td>Oracle Database Administrator TechWaze Solutio...</td>\n",
       "      <td>Technical Skills  Provided 24x7 production sup...</td>\n",
       "      <td>0</td>\n",
       "      <td>0</td>\n",
       "      <td>0</td>\n",
       "      <td>0</td>\n",
       "      <td>0</td>\n",
       "      <td>1</td>\n",
       "      <td>0</td>\n",
       "      <td>0</td>\n",
       "      <td>0</td>\n",
       "      <td>0</td>\n",
       "      <td>[5]</td>\n",
       "    </tr>\n",
       "  </tbody>\n",
       "</table>\n",
       "</div>"
      ],
      "text/plain": [
       "                                                Text  \\\n",
       "0  Inova IT Helpdesk Technician Inova IT Helpdesk...   \n",
       "1  ServiceNow Administrator/ BA ServiceNow Admini...   \n",
       "2  Oracle Database Administrator Oracle Database ...   \n",
       "\n",
       "                                              Skills  \\\n",
       "0  Training Networking (6 years) VOIP (3 years)  ...   \n",
       "1   NC SQL (6 years) Pharmaceutical Product Devel...   \n",
       "2  databases (4 years) security (4 years) Oracle ...   \n",
       "\n",
       "                                           Education  \\\n",
       "0                                                NaN   \n",
       "1  Masters in Computer Science Towson University ...   \n",
       "2                               Certification C.T.S.   \n",
       "\n",
       "                                          Experience  \\\n",
       "0  Inova IT Helpdesk Technician Inova Healthcare ...   \n",
       "1  ServiceNow Administrator/ BA Sabre - Southlake...   \n",
       "2  Oracle Database Administrator TechWaze Solutio...   \n",
       "\n",
       "                              Additional_Information  Software_Developer  \\\n",
       "0  CORE COMPETENCIES Tactical Data Network  Perso...                   0   \n",
       "1  Technical Skill Set  ITSM Tools ServiceNow Ber...                   1   \n",
       "2  Technical Skills  Provided 24x7 production sup...                   0   \n",
       "\n",
       "   Front_End_Developer  Network_Administrator  Web_Developer  Project_manager  \\\n",
       "0                    0                      1              0                0   \n",
       "1                    0                      0              0                0   \n",
       "2                    0                      0              0                0   \n",
       "\n",
       "   Database_Administrator  Security_Analyst  Systems_Administrator  \\\n",
       "0                       0                 1                      0   \n",
       "1                       0                 0                      0   \n",
       "2                       1                 0                      0   \n",
       "\n",
       "   Python_Developer  Java_Developer  Labels  \n",
       "0                 0               0  [2, 6]  \n",
       "1                 1               0  [8, 0]  \n",
       "2                 0               0     [5]  "
      ]
     },
     "execution_count": 139,
     "metadata": {},
     "output_type": "execute_result"
    }
   ],
   "source": [
    "resume_df = pd.read_csv('resumes.csv')\n",
    "resume_df.head(3)"
   ]
  },
  {
   "cell_type": "code",
   "execution_count": 140,
   "id": "a328710c",
   "metadata": {},
   "outputs": [],
   "source": [
    "#creating a copy of both dataframe\n",
    "\n",
    "job_profiles = naukri_jobs_df\n",
    "resume = resume_df"
   ]
  },
  {
   "cell_type": "code",
   "execution_count": 141,
   "id": "70db84f6",
   "metadata": {},
   "outputs": [
    {
     "name": "stdout",
     "output_type": "stream",
     "text": [
      "<class 'pandas.core.frame.DataFrame'>\n",
      "RangeIndex: 32738 entries, 0 to 32737\n",
      "Data columns (total 10 columns):\n",
      " #   Column                  Non-Null Count  Dtype  \n",
      "---  ------                  --------------  -----  \n",
      " 0   job_post                32738 non-null  object \n",
      " 1   company                 32738 non-null  object \n",
      " 2   company_rating          32738 non-null  float64\n",
      " 3   company_review          32738 non-null  object \n",
      " 4   exp_required            32738 non-null  object \n",
      " 5   salary_offered          32738 non-null  object \n",
      " 6   job_location            32738 non-null  object \n",
      " 7   job_description         32738 non-null  object \n",
      " 8   required_skills         32732 non-null  object \n",
      " 9   Posted_as_on_22_5_2022  32552 non-null  object \n",
      "dtypes: float64(1), object(9)\n",
      "memory usage: 2.5+ MB\n"
     ]
    }
   ],
   "source": [
    "job_profiles.info()"
   ]
  },
  {
   "cell_type": "code",
   "execution_count": 142,
   "id": "47f82ee6",
   "metadata": {},
   "outputs": [
    {
     "name": "stdout",
     "output_type": "stream",
     "text": [
      "<class 'pandas.core.frame.DataFrame'>\n",
      "RangeIndex: 29780 entries, 0 to 29779\n",
      "Data columns (total 16 columns):\n",
      " #   Column                  Non-Null Count  Dtype \n",
      "---  ------                  --------------  ----- \n",
      " 0   Text                    29780 non-null  object\n",
      " 1   Skills                  25482 non-null  object\n",
      " 2   Education               27720 non-null  object\n",
      " 3   Experience              29778 non-null  object\n",
      " 4   Additional_Information  15846 non-null  object\n",
      " 5   Software_Developer      29780 non-null  int64 \n",
      " 6   Front_End_Developer     29780 non-null  int64 \n",
      " 7   Network_Administrator   29780 non-null  int64 \n",
      " 8   Web_Developer           29780 non-null  int64 \n",
      " 9   Project_manager         29780 non-null  int64 \n",
      " 10  Database_Administrator  29780 non-null  int64 \n",
      " 11  Security_Analyst        29780 non-null  int64 \n",
      " 12  Systems_Administrator   29780 non-null  int64 \n",
      " 13  Python_Developer        29780 non-null  int64 \n",
      " 14  Java_Developer          29780 non-null  int64 \n",
      " 15  Labels                  29780 non-null  object\n",
      "dtypes: int64(10), object(6)\n",
      "memory usage: 3.6+ MB\n"
     ]
    }
   ],
   "source": [
    "resume.info()"
   ]
  },
  {
   "cell_type": "code",
   "execution_count": 143,
   "id": "b8ec16fc",
   "metadata": {},
   "outputs": [],
   "source": [
    "# adding \"id\" column in both df, \n",
    "\n",
    "job_profiles['job_id'] = job_profiles.index\n",
    "resume['resume_id'] = resume.index"
   ]
  },
  {
   "cell_type": "code",
   "execution_count": 144,
   "id": "846b913c",
   "metadata": {},
   "outputs": [],
   "source": [
    "# only extracting important colums and dropping other column \n",
    "\n",
    "jobs = job_profiles[['job_id','job_post','company','exp_required','job_description','required_skills']]\n",
    "candidates = resume[['resume_id','Text','Skills','Education','Experience','Additional_Information']]"
   ]
  },
  {
   "cell_type": "markdown",
   "id": "f4dadef6",
   "metadata": {},
   "source": [
    "DATA PRE-PROCESSING - HANDLING NULL/DUPLICATE VALUES"
   ]
  },
  {
   "cell_type": "code",
   "execution_count": 145,
   "id": "8e653e38",
   "metadata": {},
   "outputs": [
    {
     "data": {
      "text/plain": [
       "job_id             0\n",
       "job_post           0\n",
       "company            0\n",
       "exp_required       0\n",
       "job_description    0\n",
       "required_skills    6\n",
       "dtype: int64"
      ]
     },
     "execution_count": 145,
     "metadata": {},
     "output_type": "execute_result"
    }
   ],
   "source": [
    "jobs.isnull().sum()"
   ]
  },
  {
   "cell_type": "code",
   "execution_count": 146,
   "id": "ca423491",
   "metadata": {},
   "outputs": [
    {
     "data": {
      "text/plain": [
       "resume_id                     0\n",
       "Text                          0\n",
       "Skills                     4298\n",
       "Education                  2060\n",
       "Experience                    2\n",
       "Additional_Information    13934\n",
       "dtype: int64"
      ]
     },
     "execution_count": 146,
     "metadata": {},
     "output_type": "execute_result"
    }
   ],
   "source": [
    "candidates.isnull().sum()"
   ]
  },
  {
   "cell_type": "code",
   "execution_count": 147,
   "id": "0c0190cc",
   "metadata": {},
   "outputs": [
    {
     "name": "stderr",
     "output_type": "stream",
     "text": [
      "C:\\Users\\thumm\\AppData\\Local\\Temp\\ipykernel_30708\\2211132714.py:1: SettingWithCopyWarning: \n",
      "A value is trying to be set on a copy of a slice from a DataFrame\n",
      "\n",
      "See the caveats in the documentation: https://pandas.pydata.org/pandas-docs/stable/user_guide/indexing.html#returning-a-view-versus-a-copy\n",
      "  jobs.dropna(inplace=True)\n",
      "C:\\Users\\thumm\\AppData\\Local\\Temp\\ipykernel_30708\\2211132714.py:2: SettingWithCopyWarning: \n",
      "A value is trying to be set on a copy of a slice from a DataFrame\n",
      "\n",
      "See the caveats in the documentation: https://pandas.pydata.org/pandas-docs/stable/user_guide/indexing.html#returning-a-view-versus-a-copy\n",
      "  candidates.fillna('', inplace=True)\n"
     ]
    }
   ],
   "source": [
    "jobs.dropna(inplace=True)\n",
    "candidates.fillna('', inplace=True)"
   ]
  },
  {
   "cell_type": "code",
   "execution_count": 148,
   "id": "79afec52",
   "metadata": {},
   "outputs": [
    {
     "data": {
      "text/plain": [
       "job_id             0\n",
       "job_post           0\n",
       "company            0\n",
       "exp_required       0\n",
       "job_description    0\n",
       "required_skills    0\n",
       "dtype: int64"
      ]
     },
     "execution_count": 148,
     "metadata": {},
     "output_type": "execute_result"
    }
   ],
   "source": [
    "jobs.isnull().sum()"
   ]
  },
  {
   "cell_type": "code",
   "execution_count": 149,
   "id": "a4e5eedb",
   "metadata": {},
   "outputs": [
    {
     "data": {
      "text/plain": [
       "resume_id                 0\n",
       "Text                      0\n",
       "Skills                    0\n",
       "Education                 0\n",
       "Experience                0\n",
       "Additional_Information    0\n",
       "dtype: int64"
      ]
     },
     "execution_count": 149,
     "metadata": {},
     "output_type": "execute_result"
    }
   ],
   "source": [
    "candidates.isnull().sum()"
   ]
  },
  {
   "cell_type": "code",
   "execution_count": 150,
   "id": "2b4010e0",
   "metadata": {},
   "outputs": [
    {
     "name": "stderr",
     "output_type": "stream",
     "text": [
      "C:\\Users\\thumm\\AppData\\Local\\Temp\\ipykernel_30708\\2298100577.py:1: SettingWithCopyWarning: \n",
      "A value is trying to be set on a copy of a slice from a DataFrame\n",
      "\n",
      "See the caveats in the documentation: https://pandas.pydata.org/pandas-docs/stable/user_guide/indexing.html#returning-a-view-versus-a-copy\n",
      "  jobs.drop_duplicates(inplace=True)\n",
      "C:\\Users\\thumm\\AppData\\Local\\Temp\\ipykernel_30708\\2298100577.py:2: SettingWithCopyWarning: \n",
      "A value is trying to be set on a copy of a slice from a DataFrame\n",
      "\n",
      "See the caveats in the documentation: https://pandas.pydata.org/pandas-docs/stable/user_guide/indexing.html#returning-a-view-versus-a-copy\n",
      "  candidates.drop_duplicates(inplace=True)\n"
     ]
    }
   ],
   "source": [
    "jobs.drop_duplicates(inplace=True)\n",
    "candidates.drop_duplicates(inplace=True)"
   ]
  },
  {
   "cell_type": "code",
   "execution_count": 151,
   "id": "219c520c",
   "metadata": {},
   "outputs": [],
   "source": [
    "jobs.to_csv('jobs_ui.csv', index=False)\n",
    "candidates.to_csv('resume_ui.csv', index=False)"
   ]
  },
  {
   "cell_type": "code",
   "execution_count": 101,
   "id": "fdff162e",
   "metadata": {},
   "outputs": [
    {
     "name": "stderr",
     "output_type": "stream",
     "text": [
      "[nltk_data] Downloading package stopwords to\n",
      "[nltk_data]     C:\\Users\\thumm\\AppData\\Roaming\\nltk_data...\n",
      "[nltk_data]   Package stopwords is already up-to-date!\n",
      "[nltk_data] Downloading package wordnet to\n",
      "[nltk_data]     C:\\Users\\thumm\\AppData\\Roaming\\nltk_data...\n",
      "[nltk_data]   Package wordnet is already up-to-date!\n",
      "[nltk_data] Downloading package punkt to\n",
      "[nltk_data]     C:\\Users\\thumm\\AppData\\Roaming\\nltk_data...\n",
      "[nltk_data]   Package punkt is already up-to-date!\n"
     ]
    },
    {
     "data": {
      "text/plain": [
       "True"
      ]
     },
     "execution_count": 101,
     "metadata": {},
     "output_type": "execute_result"
    }
   ],
   "source": [
    "nltk.download('stopwords')\n",
    "nltk.download('wordnet')\n",
    "nltk.download('punkt')"
   ]
  },
  {
   "cell_type": "code",
   "execution_count": 102,
   "id": "0c3d4b6c",
   "metadata": {},
   "outputs": [],
   "source": [
    "# Initialize the stemmer, lemmatizer, and stopwords list\n",
    "stemmer = PorterStemmer()\n",
    "lemmatizer = WordNetLemmatizer()\n",
    "stop_words = set(stopwords.words('english'))"
   ]
  },
  {
   "cell_type": "code",
   "execution_count": 103,
   "id": "fb616ddb",
   "metadata": {},
   "outputs": [],
   "source": [
    "def preprocessing_data(skill_string):\n",
    "    # Convert the string to lowercase and split by commas\n",
    "    words = skill_string.lower().split(',')\n",
    "    \n",
    "    # Initialize an empty list to hold processed words\n",
    "    processed_words = []\n",
    "    \n",
    "    for word in words:\n",
    "        word = word.strip()  # Remove leading/trailing spaces\n",
    "        tokens = nltk.word_tokenize(word)  # Tokenize the word\n",
    "        # Apply stemming, lemmatization, and stopword removal\n",
    "        processed_tokens = [\n",
    "            lemmatizer.lemmatize(stemmer.stem(token)) \n",
    "            for token in tokens \n",
    "            if token.isalpha() and token not in stop_words\n",
    "        ]\n",
    "        if processed_tokens:\n",
    "            processed_words.append(' '.join(processed_tokens))\n",
    "    \n",
    "    # Join the processed words back into a comma-separated string\n",
    "    return ', '.join(processed_words)\n"
   ]
  },
  {
   "cell_type": "code",
   "execution_count": 104,
   "id": "0f17b5bf",
   "metadata": {},
   "outputs": [],
   "source": [
    "def preprocess_skills(skills_string):\n",
    "    # Split the string by newline characters\n",
    "    skills_list = skills_string.split('\\n')\n",
    "    # Remove spaces within each skill\n",
    "    cleaned_skills = [skill.replace(\" \", \"\") for skill in skills_list]\n",
    "    return cleaned_skills"
   ]
  },
  {
   "cell_type": "code",
   "execution_count": 105,
   "id": "7aa5c9ed",
   "metadata": {},
   "outputs": [],
   "source": [
    "# skills column in resume dataframe is not having any fixed structure so to extract skills we need a REGEX \n",
    "\n",
    "\n",
    "import re\n",
    "\n",
    "pattern = r'([A-Za-z\\s]+)(?:\\(\\d+\\syears\\))?'\n",
    "\n",
    "# Function to extract skills from a text string\n",
    "def extract_skills(text):\n",
    "    # Split the text into possible skill components\n",
    "    components = text.split()  # Splitting at spaces\n",
    "    \n",
    "    # Join components back into phrases based on proximity and apply regex\n",
    "    skills = []\n",
    "    i = 0\n",
    "    while i < len(components):\n",
    "        # Look for sequences of words that match our pattern \n",
    "        match = re.match(pattern, ' '.join(components[i:]))\n",
    "        if match:\n",
    "            skill = match.group(1).strip()  # Extract the skill name\n",
    "            skills.append(skill)\n",
    "            # Advance the index by the number of words matched\n",
    "            i += len(skill.split())\n",
    "        else:\n",
    "            i += 1  # Move to the next word if no match\n",
    "    \n",
    "    return list(set(skills))  # Remove duplicates and return"
   ]
  },
  {
   "cell_type": "code",
   "execution_count": 106,
   "id": "4a32f2c7",
   "metadata": {},
   "outputs": [],
   "source": [
    "# TEXT column in resume is too large and applying above functions is taking too much time so we will just process first 50 words \n",
    "\n",
    "def preprocess_first_50_words(text):\n",
    "    # Tokenize the string into word\n",
    "    text = text[:100]\n",
    "    \n",
    "    words = nltk.word_tokenize(text.lower())  # Lowercase and tokenize\n",
    "    \n",
    "    # Only keep the first 50 words\n",
    "    first_50_words = words[:50]\n",
    "    \n",
    "    # Process the first 50 words\n",
    "    processed_words = [\n",
    "        lemmatizer.lemmatize(stemmer.stem(word))\n",
    "        for word in first_50_words\n",
    "        if word.isalpha() and word not in stop_words\n",
    "    ]\n",
    "    \n",
    "    # Combine the processed words back into a string\n",
    "    return ' '.join(processed_words)"
   ]
  },
  {
   "cell_type": "code",
   "execution_count": 107,
   "id": "6647d670",
   "metadata": {},
   "outputs": [
    {
     "name": "stderr",
     "output_type": "stream",
     "text": [
      "C:\\Users\\thumm\\AppData\\Local\\Temp\\ipykernel_30708\\3367656945.py:1: SettingWithCopyWarning: \n",
      "A value is trying to be set on a copy of a slice from a DataFrame.\n",
      "Try using .loc[row_indexer,col_indexer] = value instead\n",
      "\n",
      "See the caveats in the documentation: https://pandas.pydata.org/pandas-docs/stable/user_guide/indexing.html#returning-a-view-versus-a-copy\n",
      "  jobs['required_skills'] = jobs['required_skills'].apply(preprocessing_data)\n",
      "C:\\Users\\thumm\\AppData\\Local\\Temp\\ipykernel_30708\\3367656945.py:2: SettingWithCopyWarning: \n",
      "A value is trying to be set on a copy of a slice from a DataFrame.\n",
      "Try using .loc[row_indexer,col_indexer] = value instead\n",
      "\n",
      "See the caveats in the documentation: https://pandas.pydata.org/pandas-docs/stable/user_guide/indexing.html#returning-a-view-versus-a-copy\n",
      "  jobs['required_skills'] = jobs['required_skills'].apply(lambda x:x.split())\n",
      "C:\\Users\\thumm\\AppData\\Local\\Temp\\ipykernel_30708\\3367656945.py:4: SettingWithCopyWarning: \n",
      "A value is trying to be set on a copy of a slice from a DataFrame.\n",
      "Try using .loc[row_indexer,col_indexer] = value instead\n",
      "\n",
      "See the caveats in the documentation: https://pandas.pydata.org/pandas-docs/stable/user_guide/indexing.html#returning-a-view-versus-a-copy\n",
      "  jobs['job_description'] = jobs['job_description'].apply(preprocessing_data)\n",
      "C:\\Users\\thumm\\AppData\\Local\\Temp\\ipykernel_30708\\3367656945.py:5: SettingWithCopyWarning: \n",
      "A value is trying to be set on a copy of a slice from a DataFrame.\n",
      "Try using .loc[row_indexer,col_indexer] = value instead\n",
      "\n",
      "See the caveats in the documentation: https://pandas.pydata.org/pandas-docs/stable/user_guide/indexing.html#returning-a-view-versus-a-copy\n",
      "  jobs['job_description'] = jobs['job_description'].apply(lambda x:x.split())\n",
      "C:\\Users\\thumm\\AppData\\Local\\Temp\\ipykernel_30708\\3367656945.py:7: SettingWithCopyWarning: \n",
      "A value is trying to be set on a copy of a slice from a DataFrame.\n",
      "Try using .loc[row_indexer,col_indexer] = value instead\n",
      "\n",
      "See the caveats in the documentation: https://pandas.pydata.org/pandas-docs/stable/user_guide/indexing.html#returning-a-view-versus-a-copy\n",
      "  jobs['exp_required'] = jobs['exp_required'].apply(preprocess_skills)\n"
     ]
    }
   ],
   "source": [
    "jobs['required_skills'] = jobs['required_skills'].apply(preprocessing_data)\n",
    "jobs['required_skills'] = jobs['required_skills'].apply(lambda x:x.split())\n",
    "\n",
    "jobs['job_description'] = jobs['job_description'].apply(preprocessing_data)\n",
    "jobs['job_description'] = jobs['job_description'].apply(lambda x:x.split())\n",
    "\n",
    "jobs['exp_required'] = jobs['exp_required'].apply(preprocess_skills)"
   ]
  },
  {
   "cell_type": "code",
   "execution_count": 108,
   "id": "cdbe2f5e",
   "metadata": {},
   "outputs": [
    {
     "name": "stderr",
     "output_type": "stream",
     "text": [
      "C:\\Users\\thumm\\AppData\\Local\\Temp\\ipykernel_30708\\2968518058.py:1: SettingWithCopyWarning: \n",
      "A value is trying to be set on a copy of a slice from a DataFrame.\n",
      "Try using .loc[row_indexer,col_indexer] = value instead\n",
      "\n",
      "See the caveats in the documentation: https://pandas.pydata.org/pandas-docs/stable/user_guide/indexing.html#returning-a-view-versus-a-copy\n",
      "  jobs['company_and_role'] = jobs['job_post'].apply(preprocess_skills) + jobs['company'].apply(preprocess_skills)\n"
     ]
    }
   ],
   "source": [
    "jobs['company_and_role'] = jobs['job_post'].apply(preprocess_skills) + jobs['company'].apply(preprocess_skills)\n",
    "#we want to consider company and jobrole as wellfor filtering resumes as few resumes may have an internship or previous experience in same company which can have an advantage"
   ]
  },
  {
   "cell_type": "code",
   "execution_count": 109,
   "id": "23dbfa72",
   "metadata": {},
   "outputs": [
    {
     "name": "stderr",
     "output_type": "stream",
     "text": [
      "C:\\Users\\thumm\\AppData\\Local\\Temp\\ipykernel_30708\\3299171531.py:1: SettingWithCopyWarning: \n",
      "A value is trying to be set on a copy of a slice from a DataFrame.\n",
      "Try using .loc[row_indexer,col_indexer] = value instead\n",
      "\n",
      "See the caveats in the documentation: https://pandas.pydata.org/pandas-docs/stable/user_guide/indexing.html#returning-a-view-versus-a-copy\n",
      "  jobs['tags'] = jobs['company_and_role'] + jobs['exp_required'] + jobs['job_description'] + jobs['required_skills']\n"
     ]
    }
   ],
   "source": [
    "jobs['tags'] = jobs['company_and_role'] + jobs['exp_required'] + jobs['job_description'] + jobs['required_skills']"
   ]
  },
  {
   "cell_type": "code",
   "execution_count": 110,
   "id": "700954a9",
   "metadata": {},
   "outputs": [
    {
     "data": {
      "text/html": [
       "<div>\n",
       "<style scoped>\n",
       "    .dataframe tbody tr th:only-of-type {\n",
       "        vertical-align: middle;\n",
       "    }\n",
       "\n",
       "    .dataframe tbody tr th {\n",
       "        vertical-align: top;\n",
       "    }\n",
       "\n",
       "    .dataframe thead th {\n",
       "        text-align: right;\n",
       "    }\n",
       "</style>\n",
       "<table border=\"1\" class=\"dataframe\">\n",
       "  <thead>\n",
       "    <tr style=\"text-align: right;\">\n",
       "      <th></th>\n",
       "      <th>job_id</th>\n",
       "      <th>job_post</th>\n",
       "      <th>company</th>\n",
       "      <th>tags</th>\n",
       "    </tr>\n",
       "  </thead>\n",
       "  <tbody>\n",
       "    <tr>\n",
       "      <th>0</th>\n",
       "      <td>0</td>\n",
       "      <td>Information Technology Executive</td>\n",
       "      <td>Marriott</td>\n",
       "      <td>[InformationTechnologyExecutive, Marriott, 0-3...</td>\n",
       "    </tr>\n",
       "    <tr>\n",
       "      <th>1</th>\n",
       "      <td>1</td>\n",
       "      <td>Associate Director-Information Technology(SAP)</td>\n",
       "      <td>Unacademy</td>\n",
       "      <td>[AssociateDirector-InformationTechnology(SAP),...</td>\n",
       "    </tr>\n",
       "    <tr>\n",
       "      <th>2</th>\n",
       "      <td>2</td>\n",
       "      <td>Lead - Information Technology</td>\n",
       "      <td>EchoIndia</td>\n",
       "      <td>[Lead-InformationTechnology, EchoIndia, 11-13Y...</td>\n",
       "    </tr>\n",
       "    <tr>\n",
       "      <th>3</th>\n",
       "      <td>3</td>\n",
       "      <td>Information Technology - Project Manager</td>\n",
       "      <td>Tata International</td>\n",
       "      <td>[InformationTechnology-ProjectManager, TataInt...</td>\n",
       "    </tr>\n",
       "    <tr>\n",
       "      <th>4</th>\n",
       "      <td>4</td>\n",
       "      <td>Information Technology Trainee</td>\n",
       "      <td>Stefanini</td>\n",
       "      <td>[InformationTechnologyTrainee, Stefanini, 2-7Y...</td>\n",
       "    </tr>\n",
       "  </tbody>\n",
       "</table>\n",
       "</div>"
      ],
      "text/plain": [
       "   job_id                                        job_post             company  \\\n",
       "0       0                Information Technology Executive            Marriott   \n",
       "1       1  Associate Director-Information Technology(SAP)           Unacademy   \n",
       "2       2                   Lead - Information Technology           EchoIndia   \n",
       "3       3        Information Technology - Project Manager  Tata International   \n",
       "4       4                  Information Technology Trainee           Stefanini   \n",
       "\n",
       "                                                tags  \n",
       "0  [InformationTechnologyExecutive, Marriott, 0-3...  \n",
       "1  [AssociateDirector-InformationTechnology(SAP),...  \n",
       "2  [Lead-InformationTechnology, EchoIndia, 11-13Y...  \n",
       "3  [InformationTechnology-ProjectManager, TataInt...  \n",
       "4  [InformationTechnologyTrainee, Stefanini, 2-7Y...  "
      ]
     },
     "execution_count": 110,
     "metadata": {},
     "output_type": "execute_result"
    }
   ],
   "source": [
    "jobs_preprocessed_df = jobs[['job_id','job_post','company','tags']]\n",
    "jobs_preprocessed_df.head()"
   ]
  },
  {
   "cell_type": "code",
   "execution_count": 111,
   "id": "fbb02601",
   "metadata": {},
   "outputs": [
    {
     "name": "stderr",
     "output_type": "stream",
     "text": [
      "C:\\Users\\thumm\\AppData\\Local\\Temp\\ipykernel_30708\\3138151561.py:1: SettingWithCopyWarning: \n",
      "A value is trying to be set on a copy of a slice from a DataFrame.\n",
      "Try using .loc[row_indexer,col_indexer] = value instead\n",
      "\n",
      "See the caveats in the documentation: https://pandas.pydata.org/pandas-docs/stable/user_guide/indexing.html#returning-a-view-versus-a-copy\n",
      "  candidates['Skills'] = candidates['Skills'].apply(extract_skills)\n",
      "C:\\Users\\thumm\\AppData\\Local\\Temp\\ipykernel_30708\\3138151561.py:3: SettingWithCopyWarning: \n",
      "A value is trying to be set on a copy of a slice from a DataFrame.\n",
      "Try using .loc[row_indexer,col_indexer] = value instead\n",
      "\n",
      "See the caveats in the documentation: https://pandas.pydata.org/pandas-docs/stable/user_guide/indexing.html#returning-a-view-versus-a-copy\n",
      "  candidates['Text'] = candidates['Text'].apply(preprocess_first_50_words)\n",
      "C:\\Users\\thumm\\AppData\\Local\\Temp\\ipykernel_30708\\3138151561.py:4: SettingWithCopyWarning: \n",
      "A value is trying to be set on a copy of a slice from a DataFrame.\n",
      "Try using .loc[row_indexer,col_indexer] = value instead\n",
      "\n",
      "See the caveats in the documentation: https://pandas.pydata.org/pandas-docs/stable/user_guide/indexing.html#returning-a-view-versus-a-copy\n",
      "  candidates['Text'] = candidates['Text'].apply(lambda x:x.split())\n",
      "C:\\Users\\thumm\\AppData\\Local\\Temp\\ipykernel_30708\\3138151561.py:6: SettingWithCopyWarning: \n",
      "A value is trying to be set on a copy of a slice from a DataFrame.\n",
      "Try using .loc[row_indexer,col_indexer] = value instead\n",
      "\n",
      "See the caveats in the documentation: https://pandas.pydata.org/pandas-docs/stable/user_guide/indexing.html#returning-a-view-versus-a-copy\n",
      "  candidates['Education'] = candidates['Education'].apply(preprocessing_data)\n",
      "C:\\Users\\thumm\\AppData\\Local\\Temp\\ipykernel_30708\\3138151561.py:7: SettingWithCopyWarning: \n",
      "A value is trying to be set on a copy of a slice from a DataFrame.\n",
      "Try using .loc[row_indexer,col_indexer] = value instead\n",
      "\n",
      "See the caveats in the documentation: https://pandas.pydata.org/pandas-docs/stable/user_guide/indexing.html#returning-a-view-versus-a-copy\n",
      "  candidates['Education'] = candidates['Education'].apply(lambda x:x.split())\n",
      "C:\\Users\\thumm\\AppData\\Local\\Temp\\ipykernel_30708\\3138151561.py:9: SettingWithCopyWarning: \n",
      "A value is trying to be set on a copy of a slice from a DataFrame.\n",
      "Try using .loc[row_indexer,col_indexer] = value instead\n",
      "\n",
      "See the caveats in the documentation: https://pandas.pydata.org/pandas-docs/stable/user_guide/indexing.html#returning-a-view-versus-a-copy\n",
      "  candidates['Additional_Information'] = candidates['Additional_Information'].apply(preprocessing_data)\n",
      "C:\\Users\\thumm\\AppData\\Local\\Temp\\ipykernel_30708\\3138151561.py:10: SettingWithCopyWarning: \n",
      "A value is trying to be set on a copy of a slice from a DataFrame.\n",
      "Try using .loc[row_indexer,col_indexer] = value instead\n",
      "\n",
      "See the caveats in the documentation: https://pandas.pydata.org/pandas-docs/stable/user_guide/indexing.html#returning-a-view-versus-a-copy\n",
      "  candidates['Additional_Information'] = candidates['Additional_Information'].apply(lambda x:x.split())\n",
      "C:\\Users\\thumm\\AppData\\Local\\Temp\\ipykernel_30708\\3138151561.py:12: SettingWithCopyWarning: \n",
      "A value is trying to be set on a copy of a slice from a DataFrame.\n",
      "Try using .loc[row_indexer,col_indexer] = value instead\n",
      "\n",
      "See the caveats in the documentation: https://pandas.pydata.org/pandas-docs/stable/user_guide/indexing.html#returning-a-view-versus-a-copy\n",
      "  candidates['Experience'] = candidates['Experience'].apply(preprocessing_data)\n",
      "C:\\Users\\thumm\\AppData\\Local\\Temp\\ipykernel_30708\\3138151561.py:13: SettingWithCopyWarning: \n",
      "A value is trying to be set on a copy of a slice from a DataFrame.\n",
      "Try using .loc[row_indexer,col_indexer] = value instead\n",
      "\n",
      "See the caveats in the documentation: https://pandas.pydata.org/pandas-docs/stable/user_guide/indexing.html#returning-a-view-versus-a-copy\n",
      "  candidates['Experience'] = candidates['Experience'].apply(lambda x:x.split())\n"
     ]
    }
   ],
   "source": [
    "candidates['Skills'] = candidates['Skills'].apply(extract_skills)\n",
    "\n",
    "candidates['Text'] = candidates['Text'].apply(preprocess_first_50_words)\n",
    "candidates['Text'] = candidates['Text'].apply(lambda x:x.split())\n",
    "\n",
    "candidates['Education'] = candidates['Education'].apply(preprocessing_data)\n",
    "candidates['Education'] = candidates['Education'].apply(lambda x:x.split())\n",
    "\n",
    "candidates['Additional_Information'] = candidates['Additional_Information'].apply(preprocessing_data)\n",
    "candidates['Additional_Information'] = candidates['Additional_Information'].apply(lambda x:x.split())\n",
    "\n",
    "candidates['Experience'] = candidates['Experience'].apply(preprocessing_data)\n",
    "candidates['Experience'] = candidates['Experience'].apply(lambda x:x.split())"
   ]
  },
  {
   "cell_type": "code",
   "execution_count": 112,
   "id": "16804a73",
   "metadata": {},
   "outputs": [
    {
     "data": {
      "text/html": [
       "<div>\n",
       "<style scoped>\n",
       "    .dataframe tbody tr th:only-of-type {\n",
       "        vertical-align: middle;\n",
       "    }\n",
       "\n",
       "    .dataframe tbody tr th {\n",
       "        vertical-align: top;\n",
       "    }\n",
       "\n",
       "    .dataframe thead th {\n",
       "        text-align: right;\n",
       "    }\n",
       "</style>\n",
       "<table border=\"1\" class=\"dataframe\">\n",
       "  <thead>\n",
       "    <tr style=\"text-align: right;\">\n",
       "      <th></th>\n",
       "      <th>resume_id</th>\n",
       "      <th>Text</th>\n",
       "      <th>Skills</th>\n",
       "      <th>Education</th>\n",
       "      <th>Experience</th>\n",
       "      <th>Additional_Information</th>\n",
       "    </tr>\n",
       "  </thead>\n",
       "  <tbody>\n",
       "    <tr>\n",
       "      <th>0</th>\n",
       "      <td>0</td>\n",
       "      <td>[inova, helpdesk, technician, inova, helpdesk,...</td>\n",
       "      <td>[Computer Skills Information Technology, VOIP,...</td>\n",
       "      <td>[]</td>\n",
       "      <td>[inova, helpdesk, technician, inova, healthcar...</td>\n",
       "      <td>[core, compet, tactic, data, network, person, ...</td>\n",
       "    </tr>\n",
       "    <tr>\n",
       "      <th>1</th>\n",
       "      <td>1</td>\n",
       "      <td>[servicenow, ba, servicenow, ba, servicenow, b...</td>\n",
       "      <td>[MYSQL, DATABASE, Pharmaceutical Product Devel...</td>\n",
       "      <td>[master, comput, scienc, towson, univers, jntu...</td>\n",
       "      <td>[servicenow, ba, sabr, southlak, tx, septemb, ...</td>\n",
       "      <td>[technic, skill, set, itsm, tool, servicenow, ...</td>\n",
       "    </tr>\n",
       "    <tr>\n",
       "      <th>2</th>\n",
       "      <td>2</td>\n",
       "      <td>[oracl, databas, administr, oracl, databas, ad...</td>\n",
       "      <td>[SQL, security, databases, years, Oracle, Data...</td>\n",
       "      <td>[certif]</td>\n",
       "      <td>[oracl, databas, administr, techwaz, solut, at...</td>\n",
       "      <td>[technic, skill, provid, product, support, ora...</td>\n",
       "    </tr>\n",
       "  </tbody>\n",
       "</table>\n",
       "</div>"
      ],
      "text/plain": [
       "   resume_id                                               Text  \\\n",
       "0          0  [inova, helpdesk, technician, inova, helpdesk,...   \n",
       "1          1  [servicenow, ba, servicenow, ba, servicenow, b...   \n",
       "2          2  [oracl, databas, administr, oracl, databas, ad...   \n",
       "\n",
       "                                              Skills  \\\n",
       "0  [Computer Skills Information Technology, VOIP,...   \n",
       "1  [MYSQL, DATABASE, Pharmaceutical Product Devel...   \n",
       "2  [SQL, security, databases, years, Oracle, Data...   \n",
       "\n",
       "                                           Education  \\\n",
       "0                                                 []   \n",
       "1  [master, comput, scienc, towson, univers, jntu...   \n",
       "2                                           [certif]   \n",
       "\n",
       "                                          Experience  \\\n",
       "0  [inova, helpdesk, technician, inova, healthcar...   \n",
       "1  [servicenow, ba, sabr, southlak, tx, septemb, ...   \n",
       "2  [oracl, databas, administr, techwaz, solut, at...   \n",
       "\n",
       "                              Additional_Information  \n",
       "0  [core, compet, tactic, data, network, person, ...  \n",
       "1  [technic, skill, set, itsm, tool, servicenow, ...  \n",
       "2  [technic, skill, provid, product, support, ora...  "
      ]
     },
     "execution_count": 112,
     "metadata": {},
     "output_type": "execute_result"
    }
   ],
   "source": [
    "candidates.head(3)"
   ]
  },
  {
   "cell_type": "code",
   "execution_count": 113,
   "id": "d4b034a3",
   "metadata": {},
   "outputs": [
    {
     "name": "stderr",
     "output_type": "stream",
     "text": [
      "C:\\Users\\thumm\\AppData\\Local\\Temp\\ipykernel_30708\\638732863.py:1: SettingWithCopyWarning: \n",
      "A value is trying to be set on a copy of a slice from a DataFrame.\n",
      "Try using .loc[row_indexer,col_indexer] = value instead\n",
      "\n",
      "See the caveats in the documentation: https://pandas.pydata.org/pandas-docs/stable/user_guide/indexing.html#returning-a-view-versus-a-copy\n",
      "  candidates['tags'] = candidates['Text'] + candidates['Skills'] + candidates['Education'] + candidates['Additional_Information'] + candidates['Experience']\n"
     ]
    }
   ],
   "source": [
    "candidates['tags'] = candidates['Text'] + candidates['Skills'] + candidates['Education'] + candidates['Additional_Information'] + candidates['Experience']"
   ]
  },
  {
   "cell_type": "code",
   "execution_count": 114,
   "id": "d9373e3a",
   "metadata": {},
   "outputs": [
    {
     "data": {
      "text/html": [
       "<div>\n",
       "<style scoped>\n",
       "    .dataframe tbody tr th:only-of-type {\n",
       "        vertical-align: middle;\n",
       "    }\n",
       "\n",
       "    .dataframe tbody tr th {\n",
       "        vertical-align: top;\n",
       "    }\n",
       "\n",
       "    .dataframe thead th {\n",
       "        text-align: right;\n",
       "    }\n",
       "</style>\n",
       "<table border=\"1\" class=\"dataframe\">\n",
       "  <thead>\n",
       "    <tr style=\"text-align: right;\">\n",
       "      <th></th>\n",
       "      <th>resume_id</th>\n",
       "      <th>tags</th>\n",
       "    </tr>\n",
       "  </thead>\n",
       "  <tbody>\n",
       "    <tr>\n",
       "      <th>0</th>\n",
       "      <td>0</td>\n",
       "      <td>[inova, helpdesk, technician, inova, helpdesk,...</td>\n",
       "    </tr>\n",
       "    <tr>\n",
       "      <th>1</th>\n",
       "      <td>1</td>\n",
       "      <td>[servicenow, ba, servicenow, ba, servicenow, b...</td>\n",
       "    </tr>\n",
       "    <tr>\n",
       "      <th>2</th>\n",
       "      <td>2</td>\n",
       "      <td>[oracl, databas, administr, oracl, databas, ad...</td>\n",
       "    </tr>\n",
       "  </tbody>\n",
       "</table>\n",
       "</div>"
      ],
      "text/plain": [
       "   resume_id                                               tags\n",
       "0          0  [inova, helpdesk, technician, inova, helpdesk,...\n",
       "1          1  [servicenow, ba, servicenow, ba, servicenow, b...\n",
       "2          2  [oracl, databas, administr, oracl, databas, ad..."
      ]
     },
     "execution_count": 114,
     "metadata": {},
     "output_type": "execute_result"
    }
   ],
   "source": [
    "candidates = candidates[['resume_id','tags']]\n",
    "candidates.head(3)"
   ]
  },
  {
   "cell_type": "code",
   "execution_count": 115,
   "id": "992f617c",
   "metadata": {},
   "outputs": [
    {
     "data": {
      "text/html": [
       "<div>\n",
       "<style scoped>\n",
       "    .dataframe tbody tr th:only-of-type {\n",
       "        vertical-align: middle;\n",
       "    }\n",
       "\n",
       "    .dataframe tbody tr th {\n",
       "        vertical-align: top;\n",
       "    }\n",
       "\n",
       "    .dataframe thead th {\n",
       "        text-align: right;\n",
       "    }\n",
       "</style>\n",
       "<table border=\"1\" class=\"dataframe\">\n",
       "  <thead>\n",
       "    <tr style=\"text-align: right;\">\n",
       "      <th></th>\n",
       "      <th>tags</th>\n",
       "    </tr>\n",
       "  </thead>\n",
       "  <tbody>\n",
       "    <tr>\n",
       "      <th>0</th>\n",
       "      <td>[InformationTechnologyExecutive, Marriott, 0-3...</td>\n",
       "    </tr>\n",
       "    <tr>\n",
       "      <th>1</th>\n",
       "      <td>[AssociateDirector-InformationTechnology(SAP),...</td>\n",
       "    </tr>\n",
       "    <tr>\n",
       "      <th>2</th>\n",
       "      <td>[Lead-InformationTechnology, EchoIndia, 11-13Y...</td>\n",
       "    </tr>\n",
       "    <tr>\n",
       "      <th>3</th>\n",
       "      <td>[InformationTechnology-ProjectManager, TataInt...</td>\n",
       "    </tr>\n",
       "    <tr>\n",
       "      <th>4</th>\n",
       "      <td>[InformationTechnologyTrainee, Stefanini, 2-7Y...</td>\n",
       "    </tr>\n",
       "    <tr>\n",
       "      <th>...</th>\n",
       "      <td>...</td>\n",
       "    </tr>\n",
       "    <tr>\n",
       "      <th>62507</th>\n",
       "      <td>[system, administr, system, administr, system,...</td>\n",
       "    </tr>\n",
       "    <tr>\n",
       "      <th>62508</th>\n",
       "      <td>[nexxgenesi, network, solut, product, manag, n...</td>\n",
       "    </tr>\n",
       "    <tr>\n",
       "      <th>62509</th>\n",
       "      <td>[databas, administr, databas, administr, datab...</td>\n",
       "    </tr>\n",
       "    <tr>\n",
       "      <th>62510</th>\n",
       "      <td>[specialist, specialist, specialist, fortitud,...</td>\n",
       "    </tr>\n",
       "    <tr>\n",
       "      <th>62511</th>\n",
       "      <td>[integr, integr, integr, support, oakwood, ga,...</td>\n",
       "    </tr>\n",
       "  </tbody>\n",
       "</table>\n",
       "<p>62512 rows × 1 columns</p>\n",
       "</div>"
      ],
      "text/plain": [
       "                                                    tags\n",
       "0      [InformationTechnologyExecutive, Marriott, 0-3...\n",
       "1      [AssociateDirector-InformationTechnology(SAP),...\n",
       "2      [Lead-InformationTechnology, EchoIndia, 11-13Y...\n",
       "3      [InformationTechnology-ProjectManager, TataInt...\n",
       "4      [InformationTechnologyTrainee, Stefanini, 2-7Y...\n",
       "...                                                  ...\n",
       "62507  [system, administr, system, administr, system,...\n",
       "62508  [nexxgenesi, network, solut, product, manag, n...\n",
       "62509  [databas, administr, databas, administr, datab...\n",
       "62510  [specialist, specialist, specialist, fortitud,...\n",
       "62511  [integr, integr, integr, support, oakwood, ga,...\n",
       "\n",
       "[62512 rows x 1 columns]"
      ]
     },
     "execution_count": 115,
     "metadata": {},
     "output_type": "execute_result"
    }
   ],
   "source": [
    "data = pd.DataFrame()\n",
    "data['tags'] = pd.concat([jobs_preprocessed_df['tags'],candidates['tags']], axis=0).reset_index(drop=True)\n",
    "data"
   ]
  },
  {
   "cell_type": "code",
   "execution_count": 116,
   "id": "de8a886b",
   "metadata": {},
   "outputs": [],
   "source": [
    "data['tags'] = data['tags'].apply(lambda x:\" \".join(x))\n",
    "data['tags'] = data['tags'].apply(lambda x:x.lower())"
   ]
  },
  {
   "cell_type": "code",
   "execution_count": 117,
   "id": "bb22e020",
   "metadata": {},
   "outputs": [],
   "source": [
    "data.to_csv('encoder_training_data.csv',index=\"False\")"
   ]
  },
  {
   "cell_type": "code",
   "execution_count": 118,
   "id": "650f79a6",
   "metadata": {},
   "outputs": [],
   "source": [
    "from sklearn.feature_extraction.text import TfidfVectorizer"
   ]
  },
  {
   "cell_type": "code",
   "execution_count": 119,
   "id": "ac98e58f",
   "metadata": {},
   "outputs": [],
   "source": [
    "tfidf_vectorizer = TfidfVectorizer(max_features=5000)"
   ]
  },
  {
   "cell_type": "code",
   "execution_count": 120,
   "id": "57353529",
   "metadata": {},
   "outputs": [],
   "source": [
    "tfidf_matrix = tfidf_vectorizer.fit_transform(data['tags']).toarray()"
   ]
  },
  {
   "cell_type": "code",
   "execution_count": 121,
   "id": "76bee915",
   "metadata": {},
   "outputs": [
    {
     "data": {
      "text/plain": [
       "array([[0., 0., 0., ..., 0., 0., 0.],\n",
       "       [0., 0., 0., ..., 0., 0., 0.],\n",
       "       [0., 0., 0., ..., 0., 0., 0.],\n",
       "       ...,\n",
       "       [0., 0., 0., ..., 0., 0., 0.],\n",
       "       [0., 0., 0., ..., 0., 0., 0.],\n",
       "       [0., 0., 0., ..., 0., 0., 0.]])"
      ]
     },
     "execution_count": 121,
     "metadata": {},
     "output_type": "execute_result"
    }
   ],
   "source": [
    "tfidf_matrix"
   ]
  },
  {
   "cell_type": "code",
   "execution_count": 122,
   "id": "1d966f85",
   "metadata": {},
   "outputs": [
    {
     "name": "stdout",
     "output_type": "stream",
     "text": [
      "Number of non-zero elements: 2471647\n",
      "Sparsity: 0.99\n"
     ]
    }
   ],
   "source": [
    "non_zero_count = np.count_nonzero(tfidf_matrix)\n",
    "print(f\"Number of non-zero elements: {non_zero_count}\")\n",
    "\n",
    "# Check the sparsity of the matrix\n",
    "sparsity = 1 - non_zero_count / (tfidf_matrix.shape[0] * tfidf_matrix.shape[1])\n",
    "print(f\"Sparsity: {sparsity:.2f}\")"
   ]
  },
  {
   "cell_type": "code",
   "execution_count": 123,
   "id": "c6569696",
   "metadata": {},
   "outputs": [
    {
     "name": "stdout",
     "output_type": "stream",
     "text": [
      "Sample feature names: ['07' '09' '0yrs' '10' '10yrs' '11' '11yrs' '12' '12yrs' '13']\n"
     ]
    }
   ],
   "source": [
    "feature_names = tfidf_vectorizer.get_feature_names_out()\n",
    "\n",
    "# Print a few feature names to inspect\n",
    "print(\"Sample feature names:\", feature_names[:10])"
   ]
  },
  {
   "cell_type": "code",
   "execution_count": 124,
   "id": "accd6d90",
   "metadata": {},
   "outputs": [
    {
     "name": "stdout",
     "output_type": "stream",
     "text": [
      "TF-IDF matrix shape: (62512, 5000)\n"
     ]
    }
   ],
   "source": [
    "print(f\"TF-IDF matrix shape: {tfidf_matrix.shape}\")"
   ]
  },
  {
   "cell_type": "code",
   "execution_count": 125,
   "id": "11aab87b",
   "metadata": {},
   "outputs": [
    {
     "name": "stdout",
     "output_type": "stream",
     "text": [
      "First row TF-IDF values: [0. 0. 0. ... 0. 0. 0.]\n",
      "Non-zero TF-IDF values in the first row: {'3yrs': 0.22872270205092232, 'administr': 0.1399765185146757, 'alloc': 0.32279741199189455, 'execut': 0.2154098385665194, 'inform': 0.13604378931371477, 'issu': 0.2052057003443093, 'manag': 0.10156889953262029, 'plan': 0.1843029770660919, 'posit': 0.2356215443153351, 'problem': 0.2029769987544826, 'relat': 0.19994062353577818, 'resolv': 0.24567112783177986, 'resourc': 0.23103919983518015, 'schedul': 0.23211476540553208, 'server': 0.13646016803289965, 'summari': 0.26086584298912857, 'supervisor': 0.2672351501664257, 'support': 0.14747432017357232, 'tactic': 0.3493200890861771, 'technic': 0.12762973388168367, 'technolog': 0.12406497602285509, 'troubleshoot': 0.18640291575388687}\n"
     ]
    }
   ],
   "source": [
    "# Inspect the first row of the TF-IDF matrix\n",
    "print(\"First row TF-IDF values:\", tfidf_matrix[0])\n",
    "\n",
    "# Combine the feature names with their corresponding TF-IDF values\n",
    "first_row_dict = dict(zip(feature_names, tfidf_matrix[0]))\n",
    "\n",
    "# Print the non-zero TF-IDF values for the first document\n",
    "non_zero_features = {word: tfidf_value for word, tfidf_value in first_row_dict.items() if tfidf_value > 0}\n",
    "print(\"Non-zero TF-IDF values in the first row:\", non_zero_features)"
   ]
  },
  {
   "cell_type": "code",
   "execution_count": 126,
   "id": "d8b07691",
   "metadata": {},
   "outputs": [
    {
     "name": "stdout",
     "output_type": "stream",
     "text": [
      "Epoch 1/30\n",
      "196/196 [==============================] - 15s 67ms/step - loss: 0.0685 - val_loss: 0.0093\n",
      "Epoch 2/30\n",
      "196/196 [==============================] - 15s 79ms/step - loss: 0.0064 - val_loss: 0.0086\n",
      "Epoch 3/30\n",
      "196/196 [==============================] - 14s 70ms/step - loss: 0.0064 - val_loss: 0.0086\n",
      "Epoch 4/30\n",
      "196/196 [==============================] - 15s 76ms/step - loss: 0.0063 - val_loss: 0.0085\n",
      "Epoch 5/30\n",
      "196/196 [==============================] - 16s 81ms/step - loss: 0.0062 - val_loss: 0.0083\n",
      "Epoch 6/30\n",
      "196/196 [==============================] - 16s 81ms/step - loss: 0.0061 - val_loss: 0.0082\n",
      "Epoch 7/30\n",
      "196/196 [==============================] - 16s 83ms/step - loss: 0.0061 - val_loss: 0.0081\n",
      "Epoch 8/30\n",
      "196/196 [==============================] - 17s 87ms/step - loss: 0.0060 - val_loss: 0.0080\n",
      "Epoch 9/30\n",
      "196/196 [==============================] - 17s 86ms/step - loss: 0.0059 - val_loss: 0.0080\n",
      "Epoch 10/30\n",
      "196/196 [==============================] - 17s 86ms/step - loss: 0.0058 - val_loss: 0.0079\n",
      "Epoch 11/30\n",
      "196/196 [==============================] - 17s 89ms/step - loss: 0.0058 - val_loss: 0.0079\n",
      "Epoch 12/30\n",
      "196/196 [==============================] - 19s 95ms/step - loss: 0.0058 - val_loss: 0.0079\n",
      "Epoch 13/30\n",
      "196/196 [==============================] - 20s 101ms/step - loss: 0.0057 - val_loss: 0.0079\n",
      "Epoch 14/30\n",
      "196/196 [==============================] - 22s 114ms/step - loss: 0.0057 - val_loss: 0.0078\n",
      "Epoch 15/30\n",
      "196/196 [==============================] - 19s 98ms/step - loss: 0.0056 - val_loss: 0.0078\n",
      "Epoch 16/30\n",
      "196/196 [==============================] - 17s 87ms/step - loss: 0.0056 - val_loss: 0.0077\n",
      "Epoch 17/30\n",
      "196/196 [==============================] - 16s 83ms/step - loss: 0.0055 - val_loss: 0.0077\n",
      "Epoch 18/30\n",
      "196/196 [==============================] - 17s 86ms/step - loss: 0.0055 - val_loss: 0.0076\n",
      "Epoch 19/30\n",
      "196/196 [==============================] - 17s 88ms/step - loss: 0.0054 - val_loss: 0.0076\n",
      "Epoch 20/30\n",
      "196/196 [==============================] - 18s 92ms/step - loss: 0.0054 - val_loss: 0.0076\n",
      "Epoch 21/30\n",
      "196/196 [==============================] - 19s 96ms/step - loss: 0.0053 - val_loss: 0.0075\n",
      "Epoch 22/30\n",
      "196/196 [==============================] - 17s 86ms/step - loss: 0.0053 - val_loss: 0.0075\n",
      "Epoch 23/30\n",
      "196/196 [==============================] - 16s 83ms/step - loss: 0.0053 - val_loss: 0.0075\n",
      "Epoch 24/30\n",
      "196/196 [==============================] - 16s 82ms/step - loss: 0.0052 - val_loss: 0.0075\n",
      "Epoch 25/30\n",
      "196/196 [==============================] - 17s 85ms/step - loss: 0.0052 - val_loss: 0.0074\n",
      "Epoch 26/30\n",
      "196/196 [==============================] - 17s 87ms/step - loss: 0.0051 - val_loss: 0.0074\n",
      "Epoch 27/30\n",
      "196/196 [==============================] - 19s 95ms/step - loss: 0.0051 - val_loss: 0.0074\n",
      "Epoch 28/30\n",
      "196/196 [==============================] - 21s 108ms/step - loss: 0.0050 - val_loss: 0.0073\n",
      "Epoch 29/30\n",
      "196/196 [==============================] - 18s 92ms/step - loss: 0.0050 - val_loss: 0.0073\n",
      "Epoch 30/30\n",
      "196/196 [==============================] - 17s 84ms/step - loss: 0.0049 - val_loss: 0.0073\n"
     ]
    }
   ],
   "source": [
    "from keras.models import Model\n",
    "from keras.layers import Input, Dense\n",
    "\n",
    "# Define the size of the latent space\n",
    "latent_dim = 500 \n",
    "\n",
    "# Define the autoencoder architecture\n",
    "input_layer = Input(shape=(tfidf_matrix.shape[1],))\n",
    "encoded = Dense(256, activation='relu')(input_layer)\n",
    "encoded = Dense(128, activation='relu')(encoded)\n",
    "\n",
    "encoded = Dense(latent_dim, activation='relu')(encoded)\n",
    "\n",
    "decoded = Dense(128, activation='relu')(encoded)\n",
    "decoded = Dense(256, activation='relu')(decoded)\n",
    "decoded = Dense(tfidf_matrix.shape[1], activation='sigmoid')(decoded)\n",
    "\n",
    "# Build the autoencoder model\n",
    "autoencoder = Model(input_layer, decoded)\n",
    "\n",
    "# Build the encoder model (to extract latent features)\n",
    "encoder = Model(input_layer, encoded)\n",
    "\n",
    "# Compile the autoencoder\n",
    "autoencoder.compile(optimizer='adam', loss='binary_crossentropy')\n",
    "\n",
    "# Train the autoencoder\n",
    "history = autoencoder.fit(tfidf_matrix, tfidf_matrix,\n",
    "                          epochs=30,\n",
    "                          batch_size=256,\n",
    "                          shuffle=True,\n",
    "                          validation_split=0.2)\n"
   ]
  },
  {
   "cell_type": "code",
   "execution_count": 127,
   "id": "63cdee0c",
   "metadata": {},
   "outputs": [
    {
     "name": "stdout",
     "output_type": "stream",
     "text": [
      "1954/1954 [==============================] - 9s 5ms/step\n"
     ]
    }
   ],
   "source": [
    "latent_features = encoder.predict(tfidf_matrix)"
   ]
  },
  {
   "cell_type": "code",
   "execution_count": 128,
   "id": "8436401a",
   "metadata": {},
   "outputs": [
    {
     "data": {
      "text/plain": [
       "(62512, 500)"
      ]
     },
     "execution_count": 128,
     "metadata": {},
     "output_type": "execute_result"
    }
   ],
   "source": [
    "latent_features.shape"
   ]
  },
  {
   "cell_type": "code",
   "execution_count": 129,
   "id": "a8164d8a",
   "metadata": {},
   "outputs": [],
   "source": [
    "np.save('latent_features.npy',latent_features)"
   ]
  },
  {
   "cell_type": "code",
   "execution_count": 130,
   "id": "49c0a691",
   "metadata": {},
   "outputs": [
    {
     "data": {
      "image/png": "[encoded data removed]",
      "text/plain": [
       "<Figure size 600x600 with 1 Axes>"
      ]
     },
     "metadata": {},
     "output_type": "display_data"
    }
   ],
   "source": [
    "plt.figure(figsize=(6, 6))\n",
    "plt.plot(history.history['loss'], label='Training Loss')\n",
    "plt.plot(history.history['val_loss'], label='Validation Loss')\n",
    "plt.title('Model Loss over Epochs')\n",
    "plt.xlabel('Epochs')\n",
    "plt.ylabel('Loss')\n",
    "plt.legend(loc='upper right')\n",
    "plt.grid(False)\n",
    "plt.show()\n"
   ]
  },
  {
   "cell_type": "code",
   "execution_count": 131,
   "id": "be339b5e",
   "metadata": {},
   "outputs": [
    {
     "name": "stdout",
     "output_type": "stream",
     "text": [
      "1954/1954 [==============================] - 18s 9ms/step\n"
     ]
    },
    {
     "data": {
      "image/png": "[encoded data removed]",
      "text/plain": [
       "<Figure size 640x480 with 1 Axes>"
      ]
     },
     "metadata": {},
     "output_type": "display_data"
    }
   ],
   "source": [
    "reconstruction_error = np.mean(np.square(tfidf_matrix - autoencoder.predict(tfidf_matrix)), axis=1)\n",
    "plt.hist(reconstruction_error, bins=50)\n",
    "plt.xlabel('Reconstruction Error')\n",
    "plt.ylabel('Frequency')\n",
    "plt.show()"
   ]
  },
  {
   "cell_type": "code",
   "execution_count": 132,
   "id": "ae466c67",
   "metadata": {},
   "outputs": [
    {
     "name": "stdout",
     "output_type": "stream",
     "text": [
      "1954/1954 [==============================] - 18s 9ms/step\n",
      "Mean Squared Error: 0.0001515778941150187\n"
     ]
    }
   ],
   "source": [
    "mse = np.mean(np.square(tfidf_matrix - autoencoder.predict(tfidf_matrix)))\n",
    "print(f'Mean Squared Error: {mse}')"
   ]
  },
  {
   "cell_type": "code",
   "execution_count": 133,
   "id": "ddabcb88",
   "metadata": {},
   "outputs": [],
   "source": [
    "import pickle"
   ]
  },
  {
   "cell_type": "code",
   "execution_count": 134,
   "id": "8d06bea5",
   "metadata": {},
   "outputs": [],
   "source": [
    "with open('tfidf_vectorizer.pkl', 'wb') as f:\n",
    "    pickle.dump(tfidf_vectorizer, f)"
   ]
  },
  {
   "cell_type": "code",
   "execution_count": 135,
   "id": "8e17602a",
   "metadata": {},
   "outputs": [
    {
     "name": "stdout",
     "output_type": "stream",
     "text": [
      "WARNING:tensorflow:Compiled the loaded model, but the compiled metrics have yet to be built. `model.compile_metrics` will be empty until you train or evaluate the model.\n"
     ]
    },
    {
     "name": "stderr",
     "output_type": "stream",
     "text": [
      "C:\\Users\\thumm\\AppData\\Roaming\\Python\\Python311\\site-packages\\keras\\src\\engine\\training.py:3103: UserWarning: You are saving your model as an HDF5 file via `model.save()`. This file format is considered legacy. We recommend using instead the native Keras format, e.g. `model.save('my_model.keras')`.\n",
      "  saving_api.save_model(\n"
     ]
    }
   ],
   "source": [
    "encoder.save('autoencoder_model.h5')"
   ]
  },
  {
   "cell_type": "code",
   "execution_count": null,
   "id": "bf2aff3c",
   "metadata": {},
   "outputs": [],
   "source": []
  }
 ],
 "metadata": {
  "kernelspec": {
   "display_name": "Python 3 (ipykernel)",
   "language": "python",
   "name": "python3"
  },
  "language_info": {
   "codemirror_mode": {
    "name": "ipython",
    "version": 3
   },
   "file_extension": ".py",
   "mimetype": "text/x-python",
   "name": "python",
   "nbconvert_exporter": "python",
   "pygments_lexer": "ipython3",
   "version": "3.11.4"
  }
 },
 "nbformat": 4,
 "nbformat_minor": 5
}
